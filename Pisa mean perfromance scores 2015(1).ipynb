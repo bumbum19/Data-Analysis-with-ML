{
 "cells": [
  {
   "cell_type": "markdown",
   "id": "db801893",
   "metadata": {},
   "source": [
    "# **Pisa Test 2015**"
   ]
  },
  {
   "cell_type": "markdown",
   "id": "a280e965",
   "metadata": {},
   "source": [
    "The Programme for International Student Assessment (PISA) is an international assessment measures students(about 15 years) skills on mathematicis, reading and science. In this notebook a short explatory data analysis of [dataset](https://www.kaggle.com/datasets/zazueta/pisa-scores-2015) will be conducted, which summarizes the results of the pisa test by country and sex. More comprehensive data can be found at [Pisa2015](https://www.oecd.org/pisa/data/2015database/). "
   ]
  },
  {
   "cell_type": "markdown",
   "id": "ebb2b510",
   "metadata": {},
   "source": [
    "## **Import the required libraries**"
   ]
  },
  {
   "cell_type": "code",
   "execution_count": 76,
   "id": "3248ec47",
   "metadata": {},
   "outputs": [],
   "source": [
    "import pandas as pd\n",
    "import numpy as np \n",
    "\n",
    "import seaborn as sns \n",
    "import matplotlib.pylab as plt\n",
    "%matplotlib inline\n",
    "import plotly.express as px\n",
    "\n",
    "from sklearn.preprocessing import StandardScaler\n",
    "from sklearn.preprocessing import MinMaxScaler\n",
    "\n",
    "from scipy.stats import norm\n",
    "from scipy import stats\n",
    "\n",
    "import scipy.stats as stats \n",
    "from scipy.stats import chi2_contingency\n",
    "\n",
    "from statsmodels.formula.api import ols\n",
    "from statsmodels.stats.anova import anova_lm "
   ]
  },
  {
   "cell_type": "markdown",
   "id": "7e2f1c8f",
   "metadata": {},
   "source": [
    "## **Reading and understanding of the data**\n"
   ]
  },
  {
   "cell_type": "markdown",
   "id": "2875e64a",
   "metadata": {},
   "source": [
    "The dataset contains the mean  scores in math, reading and science by country and sex."
   ]
  },
  {
   "cell_type": "markdown",
   "id": "863c1f08",
   "metadata": {},
   "source": [
    "Let's read the data into *pandas* data frame and look at the first 5 rows using the `head()` method."
   ]
  },
  {
   "cell_type": "code",
   "execution_count": 77,
   "id": "4e4cb339",
   "metadata": {},
   "outputs": [
    {
     "data": {
      "text/html": [
       "<div>\n",
       "<style scoped>\n",
       "    .dataframe tbody tr th:only-of-type {\n",
       "        vertical-align: middle;\n",
       "    }\n",
       "\n",
       "    .dataframe tbody tr th {\n",
       "        vertical-align: top;\n",
       "    }\n",
       "\n",
       "    .dataframe thead th {\n",
       "        text-align: right;\n",
       "    }\n",
       "</style>\n",
       "<table border=\"1\" class=\"dataframe\">\n",
       "  <thead>\n",
       "    <tr style=\"text-align: right;\">\n",
       "      <th></th>\n",
       "      <th>Country Name</th>\n",
       "      <th>Country Code</th>\n",
       "      <th>Series Name</th>\n",
       "      <th>Series Code</th>\n",
       "      <th>2013 [YR2013]</th>\n",
       "      <th>2014 [YR2014]</th>\n",
       "      <th>2015 [YR2015]</th>\n",
       "    </tr>\n",
       "  </thead>\n",
       "  <tbody>\n",
       "    <tr>\n",
       "      <th>0</th>\n",
       "      <td>Albania</td>\n",
       "      <td>ALB</td>\n",
       "      <td>PISA: Mean performance on the mathematics scale</td>\n",
       "      <td>LO.PISA.MAT</td>\n",
       "      <td>..</td>\n",
       "      <td>..</td>\n",
       "      <td>413.157</td>\n",
       "    </tr>\n",
       "    <tr>\n",
       "      <th>1</th>\n",
       "      <td>Albania</td>\n",
       "      <td>ALB</td>\n",
       "      <td>PISA: Mean performance on the mathematics scal...</td>\n",
       "      <td>LO.PISA.MAT.FE</td>\n",
       "      <td>..</td>\n",
       "      <td>..</td>\n",
       "      <td>417.750029482799</td>\n",
       "    </tr>\n",
       "    <tr>\n",
       "      <th>2</th>\n",
       "      <td>Albania</td>\n",
       "      <td>ALB</td>\n",
       "      <td>PISA: Mean performance on the mathematics scal...</td>\n",
       "      <td>LO.PISA.MAT.MA</td>\n",
       "      <td>..</td>\n",
       "      <td>..</td>\n",
       "      <td>408.545458736189</td>\n",
       "    </tr>\n",
       "    <tr>\n",
       "      <th>3</th>\n",
       "      <td>Albania</td>\n",
       "      <td>ALB</td>\n",
       "      <td>PISA: Mean performance on the reading scale</td>\n",
       "      <td>LO.PISA.REA</td>\n",
       "      <td>..</td>\n",
       "      <td>..</td>\n",
       "      <td>405.2588</td>\n",
       "    </tr>\n",
       "    <tr>\n",
       "      <th>4</th>\n",
       "      <td>Albania</td>\n",
       "      <td>ALB</td>\n",
       "      <td>PISA: Mean performance on the reading scale. F...</td>\n",
       "      <td>LO.PISA.REA.FE</td>\n",
       "      <td>..</td>\n",
       "      <td>..</td>\n",
       "      <td>434.639625546737</td>\n",
       "    </tr>\n",
       "  </tbody>\n",
       "</table>\n",
       "</div>"
      ],
      "text/plain": [
       "  Country Name Country Code  \\\n",
       "0      Albania          ALB   \n",
       "1      Albania          ALB   \n",
       "2      Albania          ALB   \n",
       "3      Albania          ALB   \n",
       "4      Albania          ALB   \n",
       "\n",
       "                                         Series Name     Series Code  \\\n",
       "0    PISA: Mean performance on the mathematics scale     LO.PISA.MAT   \n",
       "1  PISA: Mean performance on the mathematics scal...  LO.PISA.MAT.FE   \n",
       "2  PISA: Mean performance on the mathematics scal...  LO.PISA.MAT.MA   \n",
       "3        PISA: Mean performance on the reading scale     LO.PISA.REA   \n",
       "4  PISA: Mean performance on the reading scale. F...  LO.PISA.REA.FE   \n",
       "\n",
       "  2013 [YR2013] 2014 [YR2014]     2015 [YR2015]  \n",
       "0            ..            ..           413.157  \n",
       "1            ..            ..  417.750029482799  \n",
       "2            ..            ..  408.545458736189  \n",
       "3            ..            ..          405.2588  \n",
       "4            ..            ..  434.639625546737  "
      ]
     },
     "execution_count": 77,
     "metadata": {},
     "output_type": "execute_result"
    }
   ],
   "source": [
    "pisa = pd.read_csv(\"Pisa mean perfromance scores 2013 - 2015 Data.csv\")\n",
    "pisa.head()"
   ]
  },
  {
   "cell_type": "markdown",
   "id": "123686ba",
   "metadata": {},
   "source": [
    "The dataset contains scores for seems to contain scores from 2013, 2014 which seem to be empty. Try to verify this."
   ]
  },
  {
   "cell_type": "code",
   "execution_count": 78,
   "id": "a6b21744",
   "metadata": {},
   "outputs": [
    {
     "data": {
      "text/html": [
       "<div>\n",
       "<style scoped>\n",
       "    .dataframe tbody tr th:only-of-type {\n",
       "        vertical-align: middle;\n",
       "    }\n",
       "\n",
       "    .dataframe tbody tr th {\n",
       "        vertical-align: top;\n",
       "    }\n",
       "\n",
       "    .dataframe thead th {\n",
       "        text-align: right;\n",
       "    }\n",
       "</style>\n",
       "<table border=\"1\" class=\"dataframe\">\n",
       "  <thead>\n",
       "    <tr style=\"text-align: right;\">\n",
       "      <th></th>\n",
       "      <th>Country Name</th>\n",
       "      <th>Country Code</th>\n",
       "      <th>Series Name</th>\n",
       "      <th>Series Code</th>\n",
       "      <th>2013 [YR2013]</th>\n",
       "      <th>2014 [YR2014]</th>\n",
       "      <th>2015 [YR2015]</th>\n",
       "    </tr>\n",
       "  </thead>\n",
       "  <tbody>\n",
       "    <tr>\n",
       "      <th>count</th>\n",
       "      <td>1163</td>\n",
       "      <td>1161</td>\n",
       "      <td>1161</td>\n",
       "      <td>1161</td>\n",
       "      <td>1161</td>\n",
       "      <td>1161</td>\n",
       "      <td>1161</td>\n",
       "    </tr>\n",
       "    <tr>\n",
       "      <th>unique</th>\n",
       "      <td>131</td>\n",
       "      <td>129</td>\n",
       "      <td>9</td>\n",
       "      <td>9</td>\n",
       "      <td>1</td>\n",
       "      <td>1</td>\n",
       "      <td>613</td>\n",
       "    </tr>\n",
       "    <tr>\n",
       "      <th>top</th>\n",
       "      <td>Albania</td>\n",
       "      <td>ALB</td>\n",
       "      <td>PISA: Mean performance on the mathematics scale</td>\n",
       "      <td>LO.PISA.MAT</td>\n",
       "      <td>..</td>\n",
       "      <td>..</td>\n",
       "      <td>..</td>\n",
       "    </tr>\n",
       "    <tr>\n",
       "      <th>freq</th>\n",
       "      <td>9</td>\n",
       "      <td>9</td>\n",
       "      <td>129</td>\n",
       "      <td>129</td>\n",
       "      <td>1161</td>\n",
       "      <td>1161</td>\n",
       "      <td>549</td>\n",
       "    </tr>\n",
       "  </tbody>\n",
       "</table>\n",
       "</div>"
      ],
      "text/plain": [
       "       Country Name Country Code  \\\n",
       "count          1163         1161   \n",
       "unique          131          129   \n",
       "top         Albania          ALB   \n",
       "freq              9            9   \n",
       "\n",
       "                                            Series Name  Series Code  \\\n",
       "count                                              1161         1161   \n",
       "unique                                                9            9   \n",
       "top     PISA: Mean performance on the mathematics scale  LO.PISA.MAT   \n",
       "freq                                                129          129   \n",
       "\n",
       "       2013 [YR2013] 2014 [YR2014] 2015 [YR2015]  \n",
       "count           1161          1161          1161  \n",
       "unique             1             1           613  \n",
       "top               ..            ..            ..  \n",
       "freq            1161          1161           549  "
      ]
     },
     "execution_count": 78,
     "metadata": {},
     "output_type": "execute_result"
    }
   ],
   "source": [
    "pisa.describe()"
   ]
  },
  {
   "cell_type": "markdown",
   "id": "aad68935",
   "metadata": {},
   "source": [
    "One can see that these rows contain no information, so they will be code dropped. Also the columns 'Country Code' and 'Series Code' will be dropped."
   ]
  },
  {
   "cell_type": "markdown",
   "id": "08bc5dc1",
   "metadata": {},
   "source": [
    "One can see that the data set contain to missing observations. Try to find these two rows."
   ]
  },
  {
   "cell_type": "code",
   "execution_count": 79,
   "id": "5ec99e4b",
   "metadata": {},
   "outputs": [],
   "source": [
    "pisa.drop(columns=['Country Code','Series Code','2013 [YR2013]','2014 [YR2014]'],inplace=True)"
   ]
  },
  {
   "cell_type": "markdown",
   "id": "27eb21da",
   "metadata": {},
   "source": [
    "Also there seems to be more countries in the data than actually to part in the test. About 75 countries participated but the dataset contains 131 countries. Try to investigate this issue."
   ]
  },
  {
   "cell_type": "code",
   "execution_count": 80,
   "id": "a68cf667",
   "metadata": {},
   "outputs": [
    {
     "data": {
      "text/html": [
       "<div>\n",
       "<style scoped>\n",
       "    .dataframe tbody tr th:only-of-type {\n",
       "        vertical-align: middle;\n",
       "    }\n",
       "\n",
       "    .dataframe tbody tr th {\n",
       "        vertical-align: top;\n",
       "    }\n",
       "\n",
       "    .dataframe thead tr th {\n",
       "        text-align: left;\n",
       "    }\n",
       "\n",
       "    .dataframe thead tr:last-of-type th {\n",
       "        text-align: right;\n",
       "    }\n",
       "</style>\n",
       "<table border=\"1\" class=\"dataframe\">\n",
       "  <thead>\n",
       "    <tr>\n",
       "      <th></th>\n",
       "      <th colspan=\"4\" halign=\"left\">Series Name</th>\n",
       "      <th colspan=\"4\" halign=\"left\">2015 [YR2015]</th>\n",
       "    </tr>\n",
       "    <tr>\n",
       "      <th></th>\n",
       "      <th>count</th>\n",
       "      <th>unique</th>\n",
       "      <th>top</th>\n",
       "      <th>freq</th>\n",
       "      <th>count</th>\n",
       "      <th>unique</th>\n",
       "      <th>top</th>\n",
       "      <th>freq</th>\n",
       "    </tr>\n",
       "    <tr>\n",
       "      <th>Country Name</th>\n",
       "      <th></th>\n",
       "      <th></th>\n",
       "      <th></th>\n",
       "      <th></th>\n",
       "      <th></th>\n",
       "      <th></th>\n",
       "      <th></th>\n",
       "      <th></th>\n",
       "    </tr>\n",
       "  </thead>\n",
       "  <tbody>\n",
       "    <tr>\n",
       "      <th>Albania</th>\n",
       "      <td>9</td>\n",
       "      <td>9</td>\n",
       "      <td>PISA: Mean performance on the mathematics scale</td>\n",
       "      <td>1</td>\n",
       "      <td>9</td>\n",
       "      <td>9</td>\n",
       "      <td>413.157</td>\n",
       "      <td>1</td>\n",
       "    </tr>\n",
       "    <tr>\n",
       "      <th>Algeria</th>\n",
       "      <td>9</td>\n",
       "      <td>9</td>\n",
       "      <td>PISA: Mean performance on the mathematics scale</td>\n",
       "      <td>1</td>\n",
       "      <td>9</td>\n",
       "      <td>9</td>\n",
       "      <td>359.6062</td>\n",
       "      <td>1</td>\n",
       "    </tr>\n",
       "    <tr>\n",
       "      <th>Argentina</th>\n",
       "      <td>9</td>\n",
       "      <td>9</td>\n",
       "      <td>PISA: Mean performance on the mathematics scale</td>\n",
       "      <td>1</td>\n",
       "      <td>9</td>\n",
       "      <td>9</td>\n",
       "      <td>409.0333</td>\n",
       "      <td>1</td>\n",
       "    </tr>\n",
       "    <tr>\n",
       "      <th>Armenia</th>\n",
       "      <td>9</td>\n",
       "      <td>9</td>\n",
       "      <td>PISA: Mean performance on the mathematics scale</td>\n",
       "      <td>1</td>\n",
       "      <td>9</td>\n",
       "      <td>1</td>\n",
       "      <td>..</td>\n",
       "      <td>9</td>\n",
       "    </tr>\n",
       "    <tr>\n",
       "      <th>Australia</th>\n",
       "      <td>9</td>\n",
       "      <td>9</td>\n",
       "      <td>PISA: Mean performance on the mathematics scale</td>\n",
       "      <td>1</td>\n",
       "      <td>9</td>\n",
       "      <td>9</td>\n",
       "      <td>493.8962</td>\n",
       "      <td>1</td>\n",
       "    </tr>\n",
       "    <tr>\n",
       "      <th>...</th>\n",
       "      <td>...</td>\n",
       "      <td>...</td>\n",
       "      <td>...</td>\n",
       "      <td>...</td>\n",
       "      <td>...</td>\n",
       "      <td>...</td>\n",
       "      <td>...</td>\n",
       "      <td>...</td>\n",
       "    </tr>\n",
       "    <tr>\n",
       "      <th>Venezuela, RB</th>\n",
       "      <td>9</td>\n",
       "      <td>9</td>\n",
       "      <td>PISA: Mean performance on the mathematics scale</td>\n",
       "      <td>1</td>\n",
       "      <td>9</td>\n",
       "      <td>1</td>\n",
       "      <td>..</td>\n",
       "      <td>9</td>\n",
       "    </tr>\n",
       "    <tr>\n",
       "      <th>Vietnam</th>\n",
       "      <td>9</td>\n",
       "      <td>9</td>\n",
       "      <td>PISA: Mean performance on the mathematics scale</td>\n",
       "      <td>1</td>\n",
       "      <td>9</td>\n",
       "      <td>9</td>\n",
       "      <td>494.5183</td>\n",
       "      <td>1</td>\n",
       "    </tr>\n",
       "    <tr>\n",
       "      <th>Yemen, Rep.</th>\n",
       "      <td>9</td>\n",
       "      <td>9</td>\n",
       "      <td>PISA: Mean performance on the mathematics scale</td>\n",
       "      <td>1</td>\n",
       "      <td>9</td>\n",
       "      <td>1</td>\n",
       "      <td>..</td>\n",
       "      <td>9</td>\n",
       "    </tr>\n",
       "    <tr>\n",
       "      <th>Zambia</th>\n",
       "      <td>9</td>\n",
       "      <td>9</td>\n",
       "      <td>PISA: Mean performance on the mathematics scale</td>\n",
       "      <td>1</td>\n",
       "      <td>9</td>\n",
       "      <td>1</td>\n",
       "      <td>..</td>\n",
       "      <td>9</td>\n",
       "    </tr>\n",
       "    <tr>\n",
       "      <th>Zimbabwe</th>\n",
       "      <td>9</td>\n",
       "      <td>9</td>\n",
       "      <td>PISA: Mean performance on the mathematics scale</td>\n",
       "      <td>1</td>\n",
       "      <td>9</td>\n",
       "      <td>1</td>\n",
       "      <td>..</td>\n",
       "      <td>9</td>\n",
       "    </tr>\n",
       "  </tbody>\n",
       "</table>\n",
       "<p>131 rows × 8 columns</p>\n",
       "</div>"
      ],
      "text/plain": [
       "              Series Name         \\\n",
       "                    count unique   \n",
       "Country Name                       \n",
       "Albania                 9      9   \n",
       "Algeria                 9      9   \n",
       "Argentina               9      9   \n",
       "Armenia                 9      9   \n",
       "Australia               9      9   \n",
       "...                   ...    ...   \n",
       "Venezuela, RB           9      9   \n",
       "Vietnam                 9      9   \n",
       "Yemen, Rep.             9      9   \n",
       "Zambia                  9      9   \n",
       "Zimbabwe                9      9   \n",
       "\n",
       "                                                                     \\\n",
       "                                                           top freq   \n",
       "Country Name                                                          \n",
       "Albania        PISA: Mean performance on the mathematics scale    1   \n",
       "Algeria        PISA: Mean performance on the mathematics scale    1   \n",
       "Argentina      PISA: Mean performance on the mathematics scale    1   \n",
       "Armenia        PISA: Mean performance on the mathematics scale    1   \n",
       "Australia      PISA: Mean performance on the mathematics scale    1   \n",
       "...                                                        ...  ...   \n",
       "Venezuela, RB  PISA: Mean performance on the mathematics scale    1   \n",
       "Vietnam        PISA: Mean performance on the mathematics scale    1   \n",
       "Yemen, Rep.    PISA: Mean performance on the mathematics scale    1   \n",
       "Zambia         PISA: Mean performance on the mathematics scale    1   \n",
       "Zimbabwe       PISA: Mean performance on the mathematics scale    1   \n",
       "\n",
       "              2015 [YR2015]                        \n",
       "                      count unique       top freq  \n",
       "Country Name                                       \n",
       "Albania                   9      9   413.157    1  \n",
       "Algeria                   9      9  359.6062    1  \n",
       "Argentina                 9      9  409.0333    1  \n",
       "Armenia                   9      1        ..    9  \n",
       "Australia                 9      9  493.8962    1  \n",
       "...                     ...    ...       ...  ...  \n",
       "Venezuela, RB             9      1        ..    9  \n",
       "Vietnam                   9      9  494.5183    1  \n",
       "Yemen, Rep.               9      1        ..    9  \n",
       "Zambia                    9      1        ..    9  \n",
       "Zimbabwe                  9      1        ..    9  \n",
       "\n",
       "[131 rows x 8 columns]"
      ]
     },
     "execution_count": 80,
     "metadata": {},
     "output_type": "execute_result"
    }
   ],
   "source": [
    "pisa.groupby(by=\"Country Name\").describe()"
   ]
  },
  {
   "cell_type": "markdown",
   "id": "0cb19c85",
   "metadata": {},
   "source": [
    "One can see that the data set contains many countries not having participated in PISA 2015. Remove all these rows."
   ]
  },
  {
   "cell_type": "code",
   "execution_count": 81,
   "id": "a38b2399",
   "metadata": {},
   "outputs": [],
   "source": [
    "pisa.replace({'..':None},inplace=True)\n",
    "pisa.dropna(inplace=True)"
   ]
  },
  {
   "cell_type": "code",
   "execution_count": 82,
   "id": "a44c4c60",
   "metadata": {},
   "outputs": [
    {
     "data": {
      "text/html": [
       "<div>\n",
       "<style scoped>\n",
       "    .dataframe tbody tr th:only-of-type {\n",
       "        vertical-align: middle;\n",
       "    }\n",
       "\n",
       "    .dataframe tbody tr th {\n",
       "        vertical-align: top;\n",
       "    }\n",
       "\n",
       "    .dataframe thead th {\n",
       "        text-align: right;\n",
       "    }\n",
       "</style>\n",
       "<table border=\"1\" class=\"dataframe\">\n",
       "  <thead>\n",
       "    <tr style=\"text-align: right;\">\n",
       "      <th></th>\n",
       "      <th>Country Name</th>\n",
       "      <th>Series Name</th>\n",
       "      <th>2015 [YR2015]</th>\n",
       "    </tr>\n",
       "  </thead>\n",
       "  <tbody>\n",
       "    <tr>\n",
       "      <th>0</th>\n",
       "      <td>Albania</td>\n",
       "      <td>PISA: Mean performance on the mathematics scale</td>\n",
       "      <td>413.157</td>\n",
       "    </tr>\n",
       "    <tr>\n",
       "      <th>1</th>\n",
       "      <td>Albania</td>\n",
       "      <td>PISA: Mean performance on the mathematics scal...</td>\n",
       "      <td>417.750029482799</td>\n",
       "    </tr>\n",
       "    <tr>\n",
       "      <th>2</th>\n",
       "      <td>Albania</td>\n",
       "      <td>PISA: Mean performance on the mathematics scal...</td>\n",
       "      <td>408.545458736189</td>\n",
       "    </tr>\n",
       "    <tr>\n",
       "      <th>3</th>\n",
       "      <td>Albania</td>\n",
       "      <td>PISA: Mean performance on the reading scale</td>\n",
       "      <td>405.2588</td>\n",
       "    </tr>\n",
       "    <tr>\n",
       "      <th>4</th>\n",
       "      <td>Albania</td>\n",
       "      <td>PISA: Mean performance on the reading scale. F...</td>\n",
       "      <td>434.639625546737</td>\n",
       "    </tr>\n",
       "    <tr>\n",
       "      <th>...</th>\n",
       "      <td>...</td>\n",
       "      <td>...</td>\n",
       "      <td>...</td>\n",
       "    </tr>\n",
       "    <tr>\n",
       "      <th>1129</th>\n",
       "      <td>Vietnam</td>\n",
       "      <td>PISA: Mean performance on the reading scale. F...</td>\n",
       "      <td>499.038588841179</td>\n",
       "    </tr>\n",
       "    <tr>\n",
       "      <th>1130</th>\n",
       "      <td>Vietnam</td>\n",
       "      <td>PISA: Mean performance on the reading scale. Male</td>\n",
       "      <td>473.919128834918</td>\n",
       "    </tr>\n",
       "    <tr>\n",
       "      <th>1131</th>\n",
       "      <td>Vietnam</td>\n",
       "      <td>PISA: Mean performance on the science scale</td>\n",
       "      <td>524.6445</td>\n",
       "    </tr>\n",
       "    <tr>\n",
       "      <th>1132</th>\n",
       "      <td>Vietnam</td>\n",
       "      <td>PISA: Mean performance on the science scale. F...</td>\n",
       "      <td>525.913919172001</td>\n",
       "    </tr>\n",
       "    <tr>\n",
       "      <th>1133</th>\n",
       "      <td>Vietnam</td>\n",
       "      <td>PISA: Mean performance on the science scale. Male</td>\n",
       "      <td>523.314074699112</td>\n",
       "    </tr>\n",
       "  </tbody>\n",
       "</table>\n",
       "<p>612 rows × 3 columns</p>\n",
       "</div>"
      ],
      "text/plain": [
       "     Country Name                                        Series Name  \\\n",
       "0         Albania    PISA: Mean performance on the mathematics scale   \n",
       "1         Albania  PISA: Mean performance on the mathematics scal...   \n",
       "2         Albania  PISA: Mean performance on the mathematics scal...   \n",
       "3         Albania        PISA: Mean performance on the reading scale   \n",
       "4         Albania  PISA: Mean performance on the reading scale. F...   \n",
       "...           ...                                                ...   \n",
       "1129      Vietnam  PISA: Mean performance on the reading scale. F...   \n",
       "1130      Vietnam  PISA: Mean performance on the reading scale. Male   \n",
       "1131      Vietnam        PISA: Mean performance on the science scale   \n",
       "1132      Vietnam  PISA: Mean performance on the science scale. F...   \n",
       "1133      Vietnam  PISA: Mean performance on the science scale. Male   \n",
       "\n",
       "         2015 [YR2015]  \n",
       "0              413.157  \n",
       "1     417.750029482799  \n",
       "2     408.545458736189  \n",
       "3             405.2588  \n",
       "4     434.639625546737  \n",
       "...                ...  \n",
       "1129  499.038588841179  \n",
       "1130  473.919128834918  \n",
       "1131          524.6445  \n",
       "1132  525.913919172001  \n",
       "1133  523.314074699112  \n",
       "\n",
       "[612 rows x 3 columns]"
      ]
     },
     "execution_count": 82,
     "metadata": {},
     "output_type": "execute_result"
    }
   ],
   "source": [
    "pisa"
   ]
  },
  {
   "cell_type": "markdown",
   "id": "00dd8f9a",
   "metadata": {},
   "source": [
    "No take a look at the 'Series Name' column to verify that each remainig country appears in each category."
   ]
  },
  {
   "cell_type": "code",
   "execution_count": 83,
   "id": "9aa464f2",
   "metadata": {},
   "outputs": [
    {
     "data": {
      "text/plain": [
       "PISA: Mean performance on the mathematics scale            68\n",
       "PISA: Mean performance on the mathematics scale. Female    68\n",
       "PISA: Mean performance on the mathematics scale. Male      68\n",
       "PISA: Mean performance on the reading scale                68\n",
       "PISA: Mean performance on the reading scale. Female        68\n",
       "PISA: Mean performance on the reading scale. Male          68\n",
       "PISA: Mean performance on the science scale                68\n",
       "PISA: Mean performance on the science scale. Female        68\n",
       "PISA: Mean performance on the science scale. Male          68\n",
       "Name: Series Name, dtype: int64"
      ]
     },
     "execution_count": 83,
     "metadata": {},
     "output_type": "execute_result"
    }
   ],
   "source": [
    "pisa['Series Name'].value_counts()"
   ]
  },
  {
   "cell_type": "markdown",
   "id": "a33b434b",
   "metadata": {},
   "source": [
    "One can see that each country appears each category. Note here that some countries seems to be missing, they will be ignored since these are only a few and do not affect the overall analysis. In the next step rename the 'Series name' will be renamed to \n",
    "shorter titles."
   ]
  },
  {
   "cell_type": "code",
   "execution_count": 84,
   "id": "8a6efa03",
   "metadata": {},
   "outputs": [],
   "source": [
    "pisa.replace({'PISA: Mean performance on the mathematics scale': 'Mean Math Overall',\n",
    "            'PISA: Mean performance on the mathematics scale. Female': 'Mean Math Female',\n",
    "            'PISA: Mean performance on the mathematics scale. Male': 'Mean Math Female ',\n",
    "            'PISA: Mean performance on the reading scale': 'Mean Read Overall',\n",
    "            'PISA: Mean performance on the reading scale. Female': 'Mean Read Female',\n",
    "            'PISA: Mean performance on the reading scale. Male': 'Mean Read Male',\n",
    "            'PISA: Mean performance on the science scale': 'Mean Science Overall',\n",
    "            'PISA: Mean performance on the science scale. Female': 'Mean Science Female',\n",
    "            'PISA: Mean performance on the science scale. Male': 'Mean Science Male'\n",
    "            },inplace=True)"
   ]
  },
  {
   "cell_type": "code",
   "execution_count": 85,
   "id": "7b94d75b",
   "metadata": {},
   "outputs": [
    {
     "data": {
      "text/html": [
       "<div>\n",
       "<style scoped>\n",
       "    .dataframe tbody tr th:only-of-type {\n",
       "        vertical-align: middle;\n",
       "    }\n",
       "\n",
       "    .dataframe tbody tr th {\n",
       "        vertical-align: top;\n",
       "    }\n",
       "\n",
       "    .dataframe thead th {\n",
       "        text-align: right;\n",
       "    }\n",
       "</style>\n",
       "<table border=\"1\" class=\"dataframe\">\n",
       "  <thead>\n",
       "    <tr style=\"text-align: right;\">\n",
       "      <th></th>\n",
       "      <th>Country Name</th>\n",
       "      <th>Series Name</th>\n",
       "      <th>2015 [YR2015]</th>\n",
       "    </tr>\n",
       "  </thead>\n",
       "  <tbody>\n",
       "    <tr>\n",
       "      <th>0</th>\n",
       "      <td>Albania</td>\n",
       "      <td>Mean Math Overall</td>\n",
       "      <td>413.157</td>\n",
       "    </tr>\n",
       "    <tr>\n",
       "      <th>1</th>\n",
       "      <td>Albania</td>\n",
       "      <td>Mean Math Female</td>\n",
       "      <td>417.750029482799</td>\n",
       "    </tr>\n",
       "    <tr>\n",
       "      <th>2</th>\n",
       "      <td>Albania</td>\n",
       "      <td>Mean Math Female</td>\n",
       "      <td>408.545458736189</td>\n",
       "    </tr>\n",
       "    <tr>\n",
       "      <th>3</th>\n",
       "      <td>Albania</td>\n",
       "      <td>Mean Read Overall</td>\n",
       "      <td>405.2588</td>\n",
       "    </tr>\n",
       "    <tr>\n",
       "      <th>4</th>\n",
       "      <td>Albania</td>\n",
       "      <td>Mean Read Female</td>\n",
       "      <td>434.639625546737</td>\n",
       "    </tr>\n",
       "    <tr>\n",
       "      <th>...</th>\n",
       "      <td>...</td>\n",
       "      <td>...</td>\n",
       "      <td>...</td>\n",
       "    </tr>\n",
       "    <tr>\n",
       "      <th>1129</th>\n",
       "      <td>Vietnam</td>\n",
       "      <td>Mean Read Female</td>\n",
       "      <td>499.038588841179</td>\n",
       "    </tr>\n",
       "    <tr>\n",
       "      <th>1130</th>\n",
       "      <td>Vietnam</td>\n",
       "      <td>Mean Read Male</td>\n",
       "      <td>473.919128834918</td>\n",
       "    </tr>\n",
       "    <tr>\n",
       "      <th>1131</th>\n",
       "      <td>Vietnam</td>\n",
       "      <td>Mean Science Overall</td>\n",
       "      <td>524.6445</td>\n",
       "    </tr>\n",
       "    <tr>\n",
       "      <th>1132</th>\n",
       "      <td>Vietnam</td>\n",
       "      <td>Mean Science Female</td>\n",
       "      <td>525.913919172001</td>\n",
       "    </tr>\n",
       "    <tr>\n",
       "      <th>1133</th>\n",
       "      <td>Vietnam</td>\n",
       "      <td>Mean Science Male</td>\n",
       "      <td>523.314074699112</td>\n",
       "    </tr>\n",
       "  </tbody>\n",
       "</table>\n",
       "<p>612 rows × 3 columns</p>\n",
       "</div>"
      ],
      "text/plain": [
       "     Country Name           Series Name     2015 [YR2015]\n",
       "0         Albania     Mean Math Overall           413.157\n",
       "1         Albania      Mean Math Female  417.750029482799\n",
       "2         Albania     Mean Math Female   408.545458736189\n",
       "3         Albania     Mean Read Overall          405.2588\n",
       "4         Albania      Mean Read Female  434.639625546737\n",
       "...           ...                   ...               ...\n",
       "1129      Vietnam      Mean Read Female  499.038588841179\n",
       "1130      Vietnam        Mean Read Male  473.919128834918\n",
       "1131      Vietnam  Mean Science Overall          524.6445\n",
       "1132      Vietnam   Mean Science Female  525.913919172001\n",
       "1133      Vietnam     Mean Science Male  523.314074699112\n",
       "\n",
       "[612 rows x 3 columns]"
      ]
     },
     "execution_count": 85,
     "metadata": {},
     "output_type": "execute_result"
    }
   ],
   "source": [
    "pisa"
   ]
  },
  {
   "cell_type": "markdown",
   "id": "26e3a584",
   "metadata": {},
   "source": [
    "Now turn the long data to wide data, setting as index each country containing info about the scores. "
   ]
  },
  {
   "cell_type": "code",
   "execution_count": 86,
   "id": "284f8e0f",
   "metadata": {},
   "outputs": [],
   "source": [
    "pisa2 = pisa.pivot_table(index=[\"Country Name\"], \n",
    "                    columns='Series Name', \n",
    "                    values='2015 [YR2015]')"
   ]
  },
  {
   "cell_type": "code",
   "execution_count": 87,
   "id": "b0a403af",
   "metadata": {},
   "outputs": [
    {
     "data": {
      "text/html": [
       "<div>\n",
       "<style scoped>\n",
       "    .dataframe tbody tr th:only-of-type {\n",
       "        vertical-align: middle;\n",
       "    }\n",
       "\n",
       "    .dataframe tbody tr th {\n",
       "        vertical-align: top;\n",
       "    }\n",
       "\n",
       "    .dataframe thead th {\n",
       "        text-align: right;\n",
       "    }\n",
       "</style>\n",
       "<table border=\"1\" class=\"dataframe\">\n",
       "  <thead>\n",
       "    <tr style=\"text-align: right;\">\n",
       "      <th>Series Name</th>\n",
       "      <th>Mean Math Female</th>\n",
       "      <th>Mean Math Female</th>\n",
       "      <th>Mean Math Overall</th>\n",
       "      <th>Mean Read Female</th>\n",
       "      <th>Mean Read Male</th>\n",
       "      <th>Mean Read Overall</th>\n",
       "      <th>Mean Science Female</th>\n",
       "      <th>Mean Science Male</th>\n",
       "      <th>Mean Science Overall</th>\n",
       "    </tr>\n",
       "    <tr>\n",
       "      <th>Country Name</th>\n",
       "      <th></th>\n",
       "      <th></th>\n",
       "      <th></th>\n",
       "      <th></th>\n",
       "      <th></th>\n",
       "      <th></th>\n",
       "      <th></th>\n",
       "      <th></th>\n",
       "      <th></th>\n",
       "    </tr>\n",
       "  </thead>\n",
       "  <tbody>\n",
       "    <tr>\n",
       "      <th>Albania</th>\n",
       "      <td>417.750029</td>\n",
       "      <td>408.545459</td>\n",
       "      <td>413.1570</td>\n",
       "      <td>434.639626</td>\n",
       "      <td>375.759199</td>\n",
       "      <td>405.2588</td>\n",
       "      <td>439.442963</td>\n",
       "      <td>414.957644</td>\n",
       "      <td>427.2250</td>\n",
       "    </tr>\n",
       "    <tr>\n",
       "      <th>Algeria</th>\n",
       "      <td>363.072479</td>\n",
       "      <td>356.495106</td>\n",
       "      <td>359.6062</td>\n",
       "      <td>366.208167</td>\n",
       "      <td>335.185436</td>\n",
       "      <td>349.8593</td>\n",
       "      <td>383.220939</td>\n",
       "      <td>369.035234</td>\n",
       "      <td>375.7451</td>\n",
       "    </tr>\n",
       "    <tr>\n",
       "      <th>Argentina</th>\n",
       "      <td>400.443116</td>\n",
       "      <td>418.388361</td>\n",
       "      <td>409.0333</td>\n",
       "      <td>432.958080</td>\n",
       "      <td>416.966607</td>\n",
       "      <td>425.3031</td>\n",
       "      <td>424.994351</td>\n",
       "      <td>440.102030</td>\n",
       "      <td>432.2262</td>\n",
       "    </tr>\n",
       "    <tr>\n",
       "      <th>Australia</th>\n",
       "      <td>490.985501</td>\n",
       "      <td>496.761345</td>\n",
       "      <td>493.8962</td>\n",
       "      <td>518.865799</td>\n",
       "      <td>487.185525</td>\n",
       "      <td>502.9006</td>\n",
       "      <td>508.921647</td>\n",
       "      <td>511.049257</td>\n",
       "      <td>509.9939</td>\n",
       "    </tr>\n",
       "    <tr>\n",
       "      <th>Austria</th>\n",
       "      <td>483.133026</td>\n",
       "      <td>510.098216</td>\n",
       "      <td>496.7423</td>\n",
       "      <td>495.075191</td>\n",
       "      <td>474.846032</td>\n",
       "      <td>484.8656</td>\n",
       "      <td>485.526754</td>\n",
       "      <td>504.371197</td>\n",
       "      <td>495.0375</td>\n",
       "    </tr>\n",
       "  </tbody>\n",
       "</table>\n",
       "</div>"
      ],
      "text/plain": [
       "Series Name   Mean Math Female  Mean Math Female   Mean Math Overall  \\\n",
       "Country Name                                                           \n",
       "Albania             417.750029         408.545459           413.1570   \n",
       "Algeria             363.072479         356.495106           359.6062   \n",
       "Argentina           400.443116         418.388361           409.0333   \n",
       "Australia           490.985501         496.761345           493.8962   \n",
       "Austria             483.133026         510.098216           496.7423   \n",
       "\n",
       "Series Name   Mean Read Female  Mean Read Male  Mean Read Overall  \\\n",
       "Country Name                                                        \n",
       "Albania             434.639626      375.759199           405.2588   \n",
       "Algeria             366.208167      335.185436           349.8593   \n",
       "Argentina           432.958080      416.966607           425.3031   \n",
       "Australia           518.865799      487.185525           502.9006   \n",
       "Austria             495.075191      474.846032           484.8656   \n",
       "\n",
       "Series Name   Mean Science Female  Mean Science Male  Mean Science Overall  \n",
       "Country Name                                                                \n",
       "Albania                439.442963         414.957644              427.2250  \n",
       "Algeria                383.220939         369.035234              375.7451  \n",
       "Argentina              424.994351         440.102030              432.2262  \n",
       "Australia              508.921647         511.049257              509.9939  \n",
       "Austria                485.526754         504.371197              495.0375  "
      ]
     },
     "execution_count": 87,
     "metadata": {},
     "output_type": "execute_result"
    }
   ],
   "source": [
    "pisa2.head()"
   ]
  },
  {
   "cell_type": "markdown",
   "id": "35fb93fe",
   "metadata": {},
   "source": [
    "That looks much better than the original data frame. This data frame will be used for further analysis."
   ]
  },
  {
   "cell_type": "markdown",
   "id": "1c4495b2",
   "metadata": {},
   "source": [
    "In the next step the numeric values will be rounded, since it is not necessary."
   ]
  },
  {
   "cell_type": "code",
   "execution_count": 88,
   "id": "0000fa1e",
   "metadata": {},
   "outputs": [],
   "source": [
    "pisa2 = pisa2.round()"
   ]
  },
  {
   "cell_type": "markdown",
   "id": "84197807",
   "metadata": {},
   "source": [
    "Create a boxplot of all variables and get a understanding of the distribution of the variables."
   ]
  },
  {
   "cell_type": "code",
   "execution_count": 89,
   "id": "4f1f03fd",
   "metadata": {},
   "outputs": [
    {
     "data": {
      "text/plain": [
       "<AxesSubplot:>"
      ]
     },
     "execution_count": 89,
     "metadata": {},
     "output_type": "execute_result"
    },
    {
     "data": {
      "image/png": "[encoded data removed]",
      "text/plain": [
       "<Figure size 1440x360 with 1 Axes>"
      ]
     },
     "metadata": {
      "needs_background": "light"
     },
     "output_type": "display_data"
    }
   ],
   "source": [
    "pisa2.plot(kind='box', figsize=(20, 5),color='blue')\n"
   ]
  },
  {
   "cell_type": "markdown",
   "id": "491c6f56",
   "metadata": {},
   "source": [
    "One can see that the distributions are all very similar, containing no outliers. The only interesting part is that females reading average skill is significantly higher than of males."
   ]
  },
  {
   "cell_type": "markdown",
   "id": "953ff037",
   "metadata": {},
   "source": [
    "Filter top 20 countries and create a barplot comparing the scores in each category. "
   ]
  },
  {
   "cell_type": "code",
   "execution_count": 90,
   "id": "5632b172",
   "metadata": {},
   "outputs": [],
   "source": [
    "pisa2[\"Total Average\"] = (pisa2[\"Mean Math Overall\"] + pisa2[\"Mean Read Overall\"] + pisa2[\"Mean Science Overall\"]) / 3\n",
    "pisa_top = pisa2.sort_values(by=['Total Average'],ascending=False).head(20)"
   ]
  },
  {
   "cell_type": "code",
   "execution_count": 91,
   "id": "1f1d68bf",
   "metadata": {},
   "outputs": [
    {
     "data": {
      "image/png": "[encoded data removed]",
      "text/plain": [
       "<Figure size 720x720 with 1 Axes>"
      ]
     },
     "metadata": {
      "needs_background": "light"
     },
     "output_type": "display_data"
    }
   ],
   "source": [
    "pisa_top.sort_values(by=['Total Average'],ascending=True)[['Mean Math Overall','Mean Read Overall','Mean Science Overall']].plot(kind='barh', \n",
    "                                                                                            figsize=(10, 10),legend=False)\n",
    "\n",
    "\n",
    "plt.xlabel('Pints') # add to x-label to the plot\n",
    "plt.ylabel('Country') # add y-label to the plot\n",
    "plt.title('Scores Top 20 Countries') # add title to the plot\n",
    "plt.legend(loc=0,bbox_to_anchor=(1,1))\n",
    "\n",
    "\n",
    "plt.show()\n"
   ]
  },
  {
   "cell_type": "markdown",
   "id": "dff9a490",
   "metadata": {},
   "source": [
    "On can see that the top countries are all located in east asia. Also the all features seem to be highly positive corrolated. The  only exception is here Vietnam, there the science score is noticeably higher than the other two scores."
   ]
  },
  {
   "cell_type": "markdown",
   "id": "9ba947e8",
   "metadata": {},
   "source": [
    "Classify Countries per Region to get more insights about differences between regions."
   ]
  },
  {
   "cell_type": "code",
   "execution_count": 92,
   "id": "6af1eeb8",
   "metadata": {},
   "outputs": [],
   "source": [
    "countries= list(pisa['Country Name'].unique())\n",
    "dict_cont={\n",
    "'Albania':'South Europe',\n",
    " 'Algeria':'Arab Country',\n",
    " 'Argentina':'Latin America',\n",
    " 'Australia':'North America and Oceania',\n",
    " 'Austria':'West Europe',\n",
    " 'Belgium':'West Europe',\n",
    " 'Brazil':'Latin America',\n",
    " 'Bulgaria':'East Europe',\n",
    " 'Canada':'North America and Oceania',\n",
    " 'Chile':'Latin America',\n",
    " 'Colombia':'Latin America',\n",
    " 'Costa Rica':'Latin America',\n",
    " 'Croatia':'South Europe',\n",
    " 'Cyprus':'South Europe',\n",
    " 'Czech Republic':'East Europe',\n",
    " 'Denmark':'North Europe',\n",
    " 'Dominican Republic':'Latin America',\n",
    " 'Estonia':'North Europe',\n",
    " 'Finland':'North Europe',\n",
    " 'France':'West Europe',\n",
    " 'Georgia':'East Europe',\n",
    " 'Germany':'West Europe',\n",
    " 'Greece':'South Europe',\n",
    " 'Hong Kong SAR, China':'East Asia',\n",
    " 'Hungary':'East Europe',\n",
    " 'Iceland':'North Europe',\n",
    " 'Indonesia':'East Asia',\n",
    " 'Ireland':'North Europe',\n",
    " 'Israel':'West Europe',\n",
    " 'Italy':'South Europe',\n",
    " 'Japan':'East Asia',\n",
    " 'Jordan':'Arab Country',\n",
    " 'Kazakhstan':'East Europe',\n",
    " 'Korea, Rep.':'East Asia',\n",
    " 'Latvia':'North Europe',\n",
    " 'Lebanon':'Arab Country',\n",
    " 'Lithuania':'North Europe',\n",
    " 'Luxembourg':'West Europe',\n",
    " 'Macao SAR, China':'East Asia',\n",
    " 'Macedonia, FYR':'South Europe',\n",
    " 'Malaysia':'East Asia',\n",
    " 'Malta':'South Europe',\n",
    " 'Mexico':'Latin America',\n",
    " 'Moldova':'East Europe',\n",
    " 'Montenegro':'South Europe',\n",
    " 'Netherlands':'West Europe',\n",
    " 'New Zealand':'North America and Oceania',\n",
    " 'Norway':'North Europe',\n",
    " 'Peru':'Latin America',\n",
    " 'Poland':'East Europe',\n",
    " 'Portugal':'South Europe',\n",
    " 'Qatar':'Arab Country',\n",
    " 'Russian Federation':'East Europe',\n",
    " 'Singapore':'East Asia',\n",
    " 'Slovak Republic':'East Europe',\n",
    " 'Slovenia':'South Europe',\n",
    " 'Spain':'South Europe',\n",
    " 'Sweden':'North Europe',\n",
    " 'Switzerland':'West Europe',\n",
    " 'Thailand':'East Asia',\n",
    " 'Trinidad and Tobago':'North America and Oceania',\n",
    " 'Tunisia':'Arab Country',\n",
    " 'Turkey':'Arab Country',\n",
    " 'United Arab Emirates':'Arab Country',\n",
    " 'United Kingdom':'North Europe',\n",
    " 'United States':'North America and Oceania',\n",
    " 'Uruguay':'Latin America',\n",
    " 'Vietnam':'East Asia'}"
   ]
  },
  {
   "cell_type": "code",
   "execution_count": 93,
   "id": "3db5eac6",
   "metadata": {},
   "outputs": [],
   "source": [
    "for country in countries:\n",
    "    pisa2.loc[country,'Region'] = dict_cont[country]"
   ]
  },
  {
   "cell_type": "markdown",
   "id": "8935228d",
   "metadata": {},
   "source": [
    "Investigate differences between regions."
   ]
  },
  {
   "cell_type": "code",
   "execution_count": 94,
   "id": "04c6733f",
   "metadata": {},
   "outputs": [
    {
     "data": {
      "text/html": [
       "<div>\n",
       "<style scoped>\n",
       "    .dataframe tbody tr th:only-of-type {\n",
       "        vertical-align: middle;\n",
       "    }\n",
       "\n",
       "    .dataframe tbody tr th {\n",
       "        vertical-align: top;\n",
       "    }\n",
       "\n",
       "    .dataframe thead tr th {\n",
       "        text-align: left;\n",
       "    }\n",
       "\n",
       "    .dataframe thead tr:last-of-type th {\n",
       "        text-align: right;\n",
       "    }\n",
       "</style>\n",
       "<table border=\"1\" class=\"dataframe\">\n",
       "  <thead>\n",
       "    <tr>\n",
       "      <th>Series Name</th>\n",
       "      <th colspan=\"6\" halign=\"left\">Mean Math Overall</th>\n",
       "      <th colspan=\"6\" halign=\"left\">Mean Read Overall</th>\n",
       "      <th colspan=\"6\" halign=\"left\">Mean Science Overall</th>\n",
       "    </tr>\n",
       "    <tr>\n",
       "      <th></th>\n",
       "      <th>count</th>\n",
       "      <th>mean</th>\n",
       "      <th>std</th>\n",
       "      <th>min</th>\n",
       "      <th>50%</th>\n",
       "      <th>max</th>\n",
       "      <th>count</th>\n",
       "      <th>mean</th>\n",
       "      <th>std</th>\n",
       "      <th>min</th>\n",
       "      <th>50%</th>\n",
       "      <th>max</th>\n",
       "      <th>count</th>\n",
       "      <th>mean</th>\n",
       "      <th>std</th>\n",
       "      <th>min</th>\n",
       "      <th>50%</th>\n",
       "      <th>max</th>\n",
       "    </tr>\n",
       "    <tr>\n",
       "      <th>Region</th>\n",
       "      <th></th>\n",
       "      <th></th>\n",
       "      <th></th>\n",
       "      <th></th>\n",
       "      <th></th>\n",
       "      <th></th>\n",
       "      <th></th>\n",
       "      <th></th>\n",
       "      <th></th>\n",
       "      <th></th>\n",
       "      <th></th>\n",
       "      <th></th>\n",
       "      <th></th>\n",
       "      <th></th>\n",
       "      <th></th>\n",
       "      <th></th>\n",
       "      <th></th>\n",
       "      <th></th>\n",
       "    </tr>\n",
       "  </thead>\n",
       "  <tbody>\n",
       "    <tr>\n",
       "      <th>Arab Country</th>\n",
       "      <td>7.0</td>\n",
       "      <td>393.142857</td>\n",
       "      <td>25.524032</td>\n",
       "      <td>360.0</td>\n",
       "      <td>396.0</td>\n",
       "      <td>427.0</td>\n",
       "      <td>7.0</td>\n",
       "      <td>390.000000</td>\n",
       "      <td>36.828431</td>\n",
       "      <td>347.0</td>\n",
       "      <td>402.0</td>\n",
       "      <td>434.0</td>\n",
       "      <td>7.0</td>\n",
       "      <td>405.285714</td>\n",
       "      <td>22.990681</td>\n",
       "      <td>376.0</td>\n",
       "      <td>409.0</td>\n",
       "      <td>437.0</td>\n",
       "    </tr>\n",
       "    <tr>\n",
       "      <th>East Asia</th>\n",
       "      <td>9.0</td>\n",
       "      <td>494.888889</td>\n",
       "      <td>64.092598</td>\n",
       "      <td>386.0</td>\n",
       "      <td>524.0</td>\n",
       "      <td>564.0</td>\n",
       "      <td>9.0</td>\n",
       "      <td>480.888889</td>\n",
       "      <td>53.750452</td>\n",
       "      <td>397.0</td>\n",
       "      <td>509.0</td>\n",
       "      <td>535.0</td>\n",
       "      <td>9.0</td>\n",
       "      <td>494.888889</td>\n",
       "      <td>56.452291</td>\n",
       "      <td>403.0</td>\n",
       "      <td>523.0</td>\n",
       "      <td>556.0</td>\n",
       "    </tr>\n",
       "    <tr>\n",
       "      <th>East Europe</th>\n",
       "      <td>9.0</td>\n",
       "      <td>463.000000</td>\n",
       "      <td>34.723911</td>\n",
       "      <td>404.0</td>\n",
       "      <td>475.0</td>\n",
       "      <td>504.0</td>\n",
       "      <td>9.0</td>\n",
       "      <td>454.111111</td>\n",
       "      <td>37.411377</td>\n",
       "      <td>401.0</td>\n",
       "      <td>453.0</td>\n",
       "      <td>506.0</td>\n",
       "      <td>9.0</td>\n",
       "      <td>462.222222</td>\n",
       "      <td>30.375886</td>\n",
       "      <td>411.0</td>\n",
       "      <td>461.0</td>\n",
       "      <td>501.0</td>\n",
       "    </tr>\n",
       "    <tr>\n",
       "      <th>Latin America</th>\n",
       "      <td>9.0</td>\n",
       "      <td>393.333333</td>\n",
       "      <td>28.679261</td>\n",
       "      <td>328.0</td>\n",
       "      <td>400.0</td>\n",
       "      <td>423.0</td>\n",
       "      <td>9.0</td>\n",
       "      <td>417.666667</td>\n",
       "      <td>28.209041</td>\n",
       "      <td>358.0</td>\n",
       "      <td>425.0</td>\n",
       "      <td>459.0</td>\n",
       "      <td>9.0</td>\n",
       "      <td>410.666667</td>\n",
       "      <td>33.503731</td>\n",
       "      <td>332.0</td>\n",
       "      <td>416.0</td>\n",
       "      <td>447.0</td>\n",
       "    </tr>\n",
       "    <tr>\n",
       "      <th>North America and Oceania</th>\n",
       "      <td>5.0</td>\n",
       "      <td>478.400000</td>\n",
       "      <td>37.990788</td>\n",
       "      <td>417.0</td>\n",
       "      <td>494.0</td>\n",
       "      <td>516.0</td>\n",
       "      <td>5.0</td>\n",
       "      <td>492.600000</td>\n",
       "      <td>38.351010</td>\n",
       "      <td>427.0</td>\n",
       "      <td>503.0</td>\n",
       "      <td>527.0</td>\n",
       "      <td>5.0</td>\n",
       "      <td>494.400000</td>\n",
       "      <td>40.426476</td>\n",
       "      <td>425.0</td>\n",
       "      <td>510.0</td>\n",
       "      <td>528.0</td>\n",
       "    </tr>\n",
       "    <tr>\n",
       "      <th>North Europe</th>\n",
       "      <td>10.0</td>\n",
       "      <td>498.200000</td>\n",
       "      <td>13.669105</td>\n",
       "      <td>478.0</td>\n",
       "      <td>498.0</td>\n",
       "      <td>520.0</td>\n",
       "      <td>10.0</td>\n",
       "      <td>501.900000</td>\n",
       "      <td>17.847813</td>\n",
       "      <td>472.0</td>\n",
       "      <td>500.0</td>\n",
       "      <td>526.0</td>\n",
       "      <td>10.0</td>\n",
       "      <td>500.800000</td>\n",
       "      <td>20.307634</td>\n",
       "      <td>473.0</td>\n",
       "      <td>500.0</td>\n",
       "      <td>534.0</td>\n",
       "    </tr>\n",
       "    <tr>\n",
       "      <th>South Europe</th>\n",
       "      <td>11.0</td>\n",
       "      <td>455.818182</td>\n",
       "      <td>42.123196</td>\n",
       "      <td>371.0</td>\n",
       "      <td>464.0</td>\n",
       "      <td>510.0</td>\n",
       "      <td>11.0</td>\n",
       "      <td>455.636364</td>\n",
       "      <td>47.111087</td>\n",
       "      <td>352.0</td>\n",
       "      <td>467.0</td>\n",
       "      <td>505.0</td>\n",
       "      <td>11.0</td>\n",
       "      <td>458.000000</td>\n",
       "      <td>40.306327</td>\n",
       "      <td>384.0</td>\n",
       "      <td>465.0</td>\n",
       "      <td>513.0</td>\n",
       "    </tr>\n",
       "    <tr>\n",
       "      <th>West Europe</th>\n",
       "      <td>8.0</td>\n",
       "      <td>499.000000</td>\n",
       "      <td>16.106787</td>\n",
       "      <td>470.0</td>\n",
       "      <td>501.5</td>\n",
       "      <td>521.0</td>\n",
       "      <td>8.0</td>\n",
       "      <td>493.375000</td>\n",
       "      <td>10.901343</td>\n",
       "      <td>479.0</td>\n",
       "      <td>495.5</td>\n",
       "      <td>509.0</td>\n",
       "      <td>8.0</td>\n",
       "      <td>495.750000</td>\n",
       "      <td>14.567577</td>\n",
       "      <td>467.0</td>\n",
       "      <td>498.5</td>\n",
       "      <td>509.0</td>\n",
       "    </tr>\n",
       "  </tbody>\n",
       "</table>\n",
       "</div>"
      ],
      "text/plain": [
       "Series Name               Mean Math Overall                                \\\n",
       "                                      count        mean        std    min   \n",
       "Region                                                                      \n",
       "Arab Country                            7.0  393.142857  25.524032  360.0   \n",
       "East Asia                               9.0  494.888889  64.092598  386.0   \n",
       "East Europe                             9.0  463.000000  34.723911  404.0   \n",
       "Latin America                           9.0  393.333333  28.679261  328.0   \n",
       "North America and Oceania               5.0  478.400000  37.990788  417.0   \n",
       "North Europe                           10.0  498.200000  13.669105  478.0   \n",
       "South Europe                           11.0  455.818182  42.123196  371.0   \n",
       "West Europe                             8.0  499.000000  16.106787  470.0   \n",
       "\n",
       "Series Name                             Mean Read Overall              \\\n",
       "                             50%    max             count        mean   \n",
       "Region                                                                  \n",
       "Arab Country               396.0  427.0               7.0  390.000000   \n",
       "East Asia                  524.0  564.0               9.0  480.888889   \n",
       "East Europe                475.0  504.0               9.0  454.111111   \n",
       "Latin America              400.0  423.0               9.0  417.666667   \n",
       "North America and Oceania  494.0  516.0               5.0  492.600000   \n",
       "North Europe               498.0  520.0              10.0  501.900000   \n",
       "South Europe               464.0  510.0              11.0  455.636364   \n",
       "West Europe                501.5  521.0               8.0  493.375000   \n",
       "\n",
       "Series Name                                                \\\n",
       "                                 std    min    50%    max   \n",
       "Region                                                      \n",
       "Arab Country               36.828431  347.0  402.0  434.0   \n",
       "East Asia                  53.750452  397.0  509.0  535.0   \n",
       "East Europe                37.411377  401.0  453.0  506.0   \n",
       "Latin America              28.209041  358.0  425.0  459.0   \n",
       "North America and Oceania  38.351010  427.0  503.0  527.0   \n",
       "North Europe               17.847813  472.0  500.0  526.0   \n",
       "South Europe               47.111087  352.0  467.0  505.0   \n",
       "West Europe                10.901343  479.0  495.5  509.0   \n",
       "\n",
       "Series Name               Mean Science Overall                                \\\n",
       "                                         count        mean        std    min   \n",
       "Region                                                                         \n",
       "Arab Country                               7.0  405.285714  22.990681  376.0   \n",
       "East Asia                                  9.0  494.888889  56.452291  403.0   \n",
       "East Europe                                9.0  462.222222  30.375886  411.0   \n",
       "Latin America                              9.0  410.666667  33.503731  332.0   \n",
       "North America and Oceania                  5.0  494.400000  40.426476  425.0   \n",
       "North Europe                              10.0  500.800000  20.307634  473.0   \n",
       "South Europe                              11.0  458.000000  40.306327  384.0   \n",
       "West Europe                                8.0  495.750000  14.567577  467.0   \n",
       "\n",
       "Series Name                              \n",
       "                             50%    max  \n",
       "Region                                   \n",
       "Arab Country               409.0  437.0  \n",
       "East Asia                  523.0  556.0  \n",
       "East Europe                461.0  501.0  \n",
       "Latin America              416.0  447.0  \n",
       "North America and Oceania  510.0  528.0  \n",
       "North Europe               500.0  534.0  \n",
       "South Europe               465.0  513.0  \n",
       "West Europe                498.5  509.0  "
      ]
     },
     "execution_count": 94,
     "metadata": {},
     "output_type": "execute_result"
    }
   ],
   "source": [
    "pisa2[['Mean Math Overall','Mean Read Overall','Mean Science Overall','Region']].groupby(by='Region').describe(percentiles=[.5])"
   ]
  },
  {
   "cell_type": "markdown",
   "id": "543c4ffc",
   "metadata": {},
   "source": [
    "One see in Latin America and Arab Country the scores are the lowest. Looking at Europe one can see that in Western Europe and Northern Europe the scores are higher with low deviation, as opposed to Eastern and Southern Europe the scores are lower with high deviation. \n",
    "Looking at East Asia one can see that the scores are relatively high with very high deviation, which may be due to the discrepany between countries of the [Sinosphere](https://en.wikipedia.org/wiki/East_Asian_cultural_sphere) and other countries(East Asia means here the regions East Asia and Southeast Asia)"
   ]
  },
  {
   "cell_type": "markdown",
   "id": "ec45e837",
   "metadata": {},
   "source": [
    "## **Log Transformation**\n"
   ]
  },
  {
   "cell_type": "markdown",
   "id": "d8d99a41",
   "metadata": {},
   "source": [
    "In this section, it will inspected whether our features data are normally distributed. Since the distributions of all features \n",
    "are very similiar it will be done only for one feature, namely 'Mean Math Overall'.\n"
   ]
  },
  {
   "cell_type": "code",
   "execution_count": 95,
   "id": "715c61e0",
   "metadata": {},
   "outputs": [
    {
     "name": "stderr",
     "output_type": "stream",
     "text": [
      "C:\\Users\\fjung\\anaconda3\\lib\\site-packages\\seaborn\\distributions.py:2619: FutureWarning: `distplot` is a deprecated function and will be removed in a future version. Please adapt your code to use either `displot` (a figure-level function with similar flexibility) or `histplot` (an axes-level function for histograms).\n",
      "  warnings.warn(msg, FutureWarning)\n"
     ]
    },
    {
     "data": {
      "image/png": "[encoded data removed]",
      "text/plain": [
       "<Figure size 432x288 with 1 Axes>"
      ]
     },
     "metadata": {
      "needs_background": "light"
     },
     "output_type": "display_data"
    }
   ],
   "source": [
    "sp_untransformed = sns.distplot(pisa2['Mean Math Overall'])"
   ]
  },
  {
   "cell_type": "markdown",
   "id": "d1c5f342",
   "metadata": {},
   "source": [
    "One can see that the curve has not the typical **bell shape** of the normal distribution and is slightly skewed."
   ]
  },
  {
   "cell_type": "code",
   "execution_count": 96,
   "id": "01aca8fa",
   "metadata": {},
   "outputs": [
    {
     "name": "stdout",
     "output_type": "stream",
     "text": [
      "Skewness: -0.382488\n"
     ]
    }
   ],
   "source": [
    "print(\"Skewness: %f\" % pisa2['Mean Math Overall'].skew())"
   ]
  },
  {
   "cell_type": "markdown",
   "id": "9f1ad2db",
   "metadata": {},
   "source": [
    "Apply the log transform and plot distribution again."
   ]
  },
  {
   "cell_type": "code",
   "execution_count": 97,
   "id": "a7e20c17",
   "metadata": {},
   "outputs": [
    {
     "name": "stderr",
     "output_type": "stream",
     "text": [
      "C:\\Users\\fjung\\anaconda3\\lib\\site-packages\\seaborn\\distributions.py:2619: FutureWarning: `distplot` is a deprecated function and will be removed in a future version. Please adapt your code to use either `displot` (a figure-level function with similar flexibility) or `histplot` (an axes-level function for histograms).\n",
      "  warnings.warn(msg, FutureWarning)\n"
     ]
    },
    {
     "data": {
      "image/png": "[encoded data removed]",
      "text/plain": [
       "<Figure size 432x288 with 1 Axes>"
      ]
     },
     "metadata": {
      "needs_background": "light"
     },
     "output_type": "display_data"
    }
   ],
   "source": [
    "log_transformed = np.log(pisa2['Mean Math Overall'])\n",
    "sp_transformed = sns.distplot(log_transformed)"
   ]
  },
  {
   "cell_type": "code",
   "execution_count": 98,
   "id": "b680b9c8",
   "metadata": {},
   "outputs": [
    {
     "name": "stdout",
     "output_type": "stream",
     "text": [
      "Skewness: -0.581533\n"
     ]
    }
   ],
   "source": [
    "print(\"Skewness: %f\" % (log_transformed).skew())"
   ]
  },
  {
   "cell_type": "markdown",
   "id": "2ec25253",
   "metadata": {},
   "source": [
    "# **Hypothesis Testing**\n"
   ]
  },
  {
   "cell_type": "markdown",
   "id": "10d2aeae",
   "metadata": {},
   "source": [
    "Here are three hypothesis about the data.\n",
    "1. Students in the Sinospere performances are higher than in other regions.\n",
    "1. There is no differene in math and science between female and male.\n",
    "1. Female reading skills are higher than male.\n"
   ]
  },
  {
   "cell_type": "markdown",
   "id": "7ac7fcc1",
   "metadata": {},
   "source": [
    "### 1. Choose a sample statistic\n"
   ]
  },
  {
   "cell_type": "markdown",
   "id": "99fee7bd",
   "metadata": {},
   "source": [
    "Let 𝜇1 be the country mean for reading of males and 𝜇2 be the the country mean for reading of females. Compare these two mean values, :𝜇_1 and 𝜇_2, statistically."
   ]
  },
  {
   "cell_type": "markdown",
   "id": "7954d185",
   "metadata": {},
   "source": [
    "### 2. Define hypothesis (Null and Alternative)\n"
   ]
  },
  {
   "cell_type": "markdown",
   "id": "85d59025",
   "metadata": {},
   "source": [
    "$ 𝐻\\_{0}:\\mu\\_{1}-\\mu\\_{2} = 0 $ There is no difference between the countries average reading skills between man and woman \\\n",
    "$ 𝐻\\_{A}:\\mu\\_{1}-\\mu\\_{2} != 0 $ There is a difference between the countries average reading skills between man and woman"
   ]
  },
  {
   "cell_type": "markdown",
   "id": "7b01d1e7",
   "metadata": {},
   "source": [
    "### 3. Evaluate and interpret the result\n"
   ]
  },
  {
   "cell_type": "code",
   "execution_count": 99,
   "id": "d357404e",
   "metadata": {},
   "outputs": [],
   "source": [
    "female_read = pisa2['Mean Read Female']\n",
    "male_read = pisa2['Mean Read Male']"
   ]
  },
  {
   "cell_type": "code",
   "execution_count": 100,
   "id": "adce54d1",
   "metadata": {},
   "outputs": [
    {
     "name": "stderr",
     "output_type": "stream",
     "text": [
      "C:\\Users\\fjung\\anaconda3\\lib\\site-packages\\seaborn\\distributions.py:2619: FutureWarning: `distplot` is a deprecated function and will be removed in a future version. Please adapt your code to use either `displot` (a figure-level function with similar flexibility) or `kdeplot` (an axes-level function for kernel density plots).\n",
      "  warnings.warn(msg, FutureWarning)\n",
      "C:\\Users\\fjung\\anaconda3\\lib\\site-packages\\seaborn\\distributions.py:2619: FutureWarning: `distplot` is a deprecated function and will be removed in a future version. Please adapt your code to use either `displot` (a figure-level function with similar flexibility) or `kdeplot` (an axes-level function for kernel density plots).\n",
      "  warnings.warn(msg, FutureWarning)\n"
     ]
    },
    {
     "data": {
      "text/plain": [
       "<AxesSubplot:xlabel='Mean Read Male', ylabel='Density'>"
      ]
     },
     "execution_count": 100,
     "metadata": {},
     "output_type": "execute_result"
    },
    {
     "data": {
      "image/png": "[encoded data removed]",
      "text/plain": [
       "<Figure size 432x288 with 1 Axes>"
      ]
     },
     "metadata": {
      "needs_background": "light"
     },
     "output_type": "display_data"
    }
   ],
   "source": [
    "sns.distplot(female_read,color='green',hist=False)\n",
    "sns.distplot(male_read,color='red',hist=False)"
   ]
  },
  {
   "cell_type": "code",
   "execution_count": 101,
   "id": "34f56b6b",
   "metadata": {},
   "outputs": [
    {
     "data": {
      "text/plain": [
       "476.19117647058823"
      ]
     },
     "execution_count": 101,
     "metadata": {},
     "output_type": "execute_result"
    }
   ],
   "source": [
    "female_read.mean()"
   ]
  },
  {
   "cell_type": "code",
   "execution_count": 102,
   "id": "e99a74e6",
   "metadata": {},
   "outputs": [
    {
     "data": {
      "text/plain": [
       "445.8529411764706"
      ]
     },
     "execution_count": 102,
     "metadata": {},
     "output_type": "execute_result"
    }
   ],
   "source": [
    "male_read.mean()"
   ]
  },
  {
   "cell_type": "code",
   "execution_count": 103,
   "id": "1ee37970",
   "metadata": {},
   "outputs": [
    {
     "name": "stdout",
     "output_type": "stream",
     "text": [
      "t_value1 =  -3.5021890108936007 , p_value1 =  0.0006274701205930803\n"
     ]
    }
   ],
   "source": [
    "alpha=0.05\n",
    "t_value1, p_value1 = stats.ttest_ind(male_read, female_read)\n",
    "print(\"t_value1 = \",t_value1, \", p_value1 = \", p_value1)"
   ]
  },
  {
   "cell_type": "code",
   "execution_count": 104,
   "id": "15fd13f6",
   "metadata": {},
   "outputs": [
    {
     "name": "stdout",
     "output_type": "stream",
     "text": [
      "Conclusion: since p_value 0.0006274701205930803 is less than alpha 0.05 \n",
      "Reject the null hypothesis that there is no difference between reading skills of females and males.\n"
     ]
    }
   ],
   "source": [
    "if p_value1 <alpha:\n",
    "    print(\"Conclusion: since p_value {} is less than alpha {} \". format (p_value1,alpha))\n",
    "    print(\"Reject the null hypothesis that there is no difference between reading skills of females and males.\")\n",
    "    \n",
    "else:\n",
    "    print(\"Conclusion: since p_value {} is greater than alpha {} \". format (p_value1,alpha))\n",
    "    print(\"Fail to reject the null hypothesis that there is no difference between reading skills of females and males.\")"
   ]
  },
  {
   "cell_type": "markdown",
   "id": "ac25fb12",
   "metadata": {},
   "source": [
    "## **Conclusion**"
   ]
  },
  {
   "cell_type": "markdown",
   "id": "2db8506a",
   "metadata": {},
   "source": [
    "This data set is very limited, since it contains not data for each student but only the average for each country. For further analysis one may use the raw data at  __[Pisa 2015](https://www.oecd.org/pisa/data/2015database/)__. Also in the pisa assessement some regions are not represented as Southern Asia or Sub-Saharan Africa, which is a negative aspect."
   ]
  },
  {
   "cell_type": "code",
   "execution_count": null,
   "id": "319da30d",
   "metadata": {},
   "outputs": [],
   "source": []
  }
 ],
 "metadata": {
  "kernelspec": {
   "display_name": "Python 3 (ipykernel)",
   "language": "python",
   "name": "python3"
  },
  "language_info": {
   "codemirror_mode": {
    "name": "ipython",
    "version": 3
   },
   "file_extension": ".py",
   "mimetype": "text/x-python",
   "name": "python",
   "nbconvert_exporter": "python",
   "pygments_lexer": "ipython3",
   "version": "3.9.12"
  }
 },
 "nbformat": 4,
 "nbformat_minor": 5
}
