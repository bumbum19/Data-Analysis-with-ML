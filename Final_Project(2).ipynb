{
 "cells": [
  {
   "cell_type": "markdown",
   "id": "01ef238d",
   "metadata": {},
   "source": [
    "# Divorce Classification"
   ]
  },
  {
   "cell_type": "markdown",
   "id": "0d470273",
   "metadata": {},
   "source": [
    "In this project a short classification analysis of the [dataset](https://www.kaggle.com/datasets/csafrit2/predicting-divorce) from Kaggle will be conducted which contains evaluating question about the quality of their marriage of about 150 couples from Turkey. The aim is predict the if a couple will divorce or not."
   ]
  },
  {
   "cell_type": "markdown",
   "id": "fa06e506",
   "metadata": {},
   "source": [
    "## **Import the required libraries**"
   ]
  },
  {
   "cell_type": "code",
   "execution_count": 148,
   "id": "d13d3edc",
   "metadata": {},
   "outputs": [],
   "source": [
    "import pandas as pd\n",
    "import numpy as np\n",
    "\n",
    "import matplotlib.pyplot as plt\n",
    "%matplotlib inline\n",
    "import seaborn as sns\n",
    "\n",
    "from sklearn.linear_model import LogisticRegression\n",
    "from sklearn.neighbors import KNeighborsClassifier\n",
    "from sklearn.svm import SVC\n",
    "from sklearn.tree import DecisionTreeClassifier\n",
    "\n",
    "from sklearn.model_selection import GridSearchCV\n",
    "from sklearn.metrics import confusion_matrix, accuracy_score, classification_report, f1_score\n"
   ]
  },
  {
   "cell_type": "markdown",
   "id": "e8ca2697",
   "metadata": {},
   "source": [
    "## **Reading and understanding of the data**"
   ]
  },
  {
   "cell_type": "markdown",
   "id": "936e1664",
   "metadata": {},
   "source": [
    "The data was collected by a research group from Turkey, in order to develope models predicting divorce. The corresponding paper can be found [here](https://www.kaggle.com/datasets/csafrit2/predicting-divorce). Supposedly, the participants has an equal proportion of men and women and mostly came from the Black Sea region. About 75% of participants had children. The study did include divorced participants and those who are happily married and not even consider divorce. This data set here contains only questions of happiness in marriage and divorce thought ranked on a scale of 0-4 with 0 being the lowest and 4 being the highest. Here are the first five questions.\n",
    "\n",
    "1. If one of us apologizes when our discussion deteriorates, the discussion ends.\n",
    "1. I know we can ignore our differences, even if things get hard sometimes.\n",
    "1. When we need it, we can take our discussions with my spouse from the beginning and correct it.\n",
    "1. When I discuss with my spouse, to contact him will eventually work.\n",
    "1. The time I spent with my wife is special for us.\n",
    "\n",
    "\n",
    "There is one last column `Divorce_Y_N` to indicate whether the participant was divorced or not. \n"
   ]
  },
  {
   "cell_type": "code",
   "execution_count": 149,
   "id": "95fcf85a",
   "metadata": {},
   "outputs": [],
   "source": [
    "data = pd.read_csv(\"divorce.csv\")"
   ]
  },
  {
   "cell_type": "markdown",
   "id": "aebf8445",
   "metadata": {},
   "source": [
    "Create a dictionary to get description of the features, because the column names may be interpreted ambigously."
   ]
  },
  {
   "cell_type": "code",
   "execution_count": 150,
   "id": "59e36d9b",
   "metadata": {},
   "outputs": [],
   "source": [
    "dict_explain = {\n",
    "'Sorry_end': 'If one of us apologizes when our discussion deteriorates, the discussion ends.',\n",
    "'Ignore_diff':'I know we can ignore our differences, even if things get hard sometimes.',\n",
    "'begin_correct': 'When we need it, we can take our discussions with my spouse from the beginning and correct it.',\n",
    "'Contact': 'When I discuss with my spouse, to contact him will eventually work.',\n",
    "'Special_time':'The time I spent with my wife is special for us.',\n",
    "'No_home_time': 'We don\\'t have time at home as partners.',\n",
    "'2_strangers': 'We are like two strangers who share the same environment at home rather than family.',\n",
    "'enjoy_holiday': 'I enjoy our holidays with my wife.',\n",
    "'enjoy_travel':'I enjoy traveling with my wife.',\n",
    "'common_goals': 'Most of our goals are common to my spouse.',\n",
    "'harmony': 'I think that one day in the future, when I look back, I see that my spouse and I have been in harmony with each other.',\n",
    "'freeom_value':' My spouse and I have similar values in terms of personal freedom.',\n",
    "'entertain': 'My spouse and I have similar sense of entertainment.',\n",
    "'people_goals': 'Most of our goals for people (children, friends, etc.) are the same.',\n",
    "'dreams':'Our dreams with my spouse are similar and harmonious.',\n",
    "'love': 'We\\'re compatible with my spouse about what love should be.',\n",
    "'happy': 'We share the same views about being happy in our life with my spouse',\n",
    "'marriage': 'My spouse and I have similar ideas about how marriage should be.',\n",
    "'roles': 'My spouse and I have similar ideas about how roles should be in marriage',\n",
    "'trust': 'My spouse and I have similar values in trust.',\n",
    "'likes': 'I know exactly what my wife likes.',\n",
    "'care_sick': 'I know how my spouse wants to be taken care of when she/he sick.',\n",
    "'fav_food': 'I know my spouse\\'s favorite food.',\n",
    "'stresses': 'I can tell you what kind of stress my spouse is facing in her/his life.',\n",
    "'inner_world': 'I have knowledge of my spouse\\'s inner world.',\n",
    "'anxieties': 'I know my spouse\\'s basic anxieties.',\n",
    "'current_stress': 'I know what my spouse\\'s current sources of stress are.',\n",
    "'hopes_wishes': 'I know my spouse\\'s hopes and wishes.',\n",
    "'know_well': 'I know my spouse very well.',\n",
    "'friends_social': 'I know my spouse\\'s friends and their social relationships.',\n",
    "'Aggro_argue': 'I feel aggressive when I argue with my spouse.',\n",
    "'Always_never': 'When discussing with my spouse, I usually use expressions such as ‘you always’ or ‘you never’.',\n",
    "'negative_personality': 'I can use negative statements about my spouse\\'s personality during our discussions.',\n",
    "'offensive_expressions': 'I can use offensive expressions during our discussions.',\n",
    "'insult': 'I can insult my spouse during our discussions.',\n",
    "'humiliate': 'I can be humiliating when we discussions.',\n",
    "'not_calm': 'My discussion with my spouse is not calm.',\n",
    "'hate_subjects': 'I hate my spouse\\'s way of open a subject.',\n",
    "'sudden_discussion': 'Our discussions often occur suddenly.',\n",
    "'idk_what\\'s_going_on': 'We\\'re just starting a discussion before I know what\\'s going on.',\n",
    "'calm_breaks':'When I talk to my spouse about something, my calm suddenly breaks.',\n",
    "'argue_then_leave': 'When I argue with my spouse, ı only go out and I don\\'t say a word.',\n",
    "'silent_for_calm': 'I mostly stay silent to calm the environment a little bit.',\n",
    "'good_to_leave_home': 'Sometimes I think it\\'s good for me to leave home for a while.',\n",
    "'silence_instead_of_discussion': 'I\\'d rather stay silent than discuss with my spouse.',\n",
    "'silence_for_harm': 'Even if I\\'m right in the discussion, I stay silent to hurt my spouse.',\n",
    "'silence_fear_anger': 'When I discuss with my spouse, I stay silent because I am afraid of not being able to control my anger.',\n",
    "'I\\'m_right': 'I feel right in our discussions.',\n",
    "'accusations': 'I have nothing to do with what I\\'ve been accused of.',\n",
    "'I\\'m_not_guilty': 'I\\'m not actually the one who\\'s guilty about what I\\'m accused of.',\n",
    "'I\\'m_not_wrong': 'I\\'m not the one who\\'s wrong about problems at home.',\n",
    "'no_hesitancy_inadequate': 'I wouldn\\'t hesitate to tell my spouse about her/his inadequacy.',\n",
    "'you\\'re_inadequate': 'When I discuss, I remind my spouse of her/his inadequacy.',\n",
    "'incompetence': 'I\\'m not afraid to tell my spouse about her/his incompetence.'\n",
    "}"
   ]
  },
  {
   "cell_type": "code",
   "execution_count": 151,
   "id": "d3a14b6b",
   "metadata": {},
   "outputs": [
    {
     "data": {
      "text/plain": [
       "Index(['Sorry_end', 'Ignore_diff', 'begin_correct', 'Contact', 'Special_time',\n",
       "       'No_home_time', '2_strangers', 'enjoy_holiday', 'enjoy_travel',\n",
       "       'common_goals', 'harmony', 'freeom_value', 'entertain', 'people_goals',\n",
       "       'dreams', 'love', 'happy', 'marriage', 'roles', 'trust', 'likes',\n",
       "       'care_sick', 'fav_food', 'stresses', 'inner_world', 'anxieties',\n",
       "       'current_stress', 'hopes_wishes', 'know_well', 'friends_social',\n",
       "       'Aggro_argue', 'Always_never', 'negative_personality',\n",
       "       'offensive_expressions', 'insult', 'humiliate', 'not_calm',\n",
       "       'hate_subjects', 'sudden_discussion', 'idk_what's_going_on',\n",
       "       'calm_breaks', 'argue_then_leave', 'silent_for_calm',\n",
       "       'good_to_leave_home', 'silence_instead_of_discussion',\n",
       "       'silence_for_harm', 'silence_fear_anger', 'I'm_right', 'accusations',\n",
       "       'I'm_not_guilty', 'I'm_not_wrong', 'no_hesitancy_inadequate',\n",
       "       'you're_inadequate', 'incompetence', 'Divorce_Y_N'],\n",
       "      dtype='object')"
      ]
     },
     "execution_count": 151,
     "metadata": {},
     "output_type": "execute_result"
    }
   ],
   "source": [
    "data.columns"
   ]
  },
  {
   "cell_type": "code",
   "execution_count": 152,
   "id": "9bba45e5",
   "metadata": {},
   "outputs": [
    {
     "data": {
      "text/plain": [
       "int64    55\n",
       "dtype: int64"
      ]
     },
     "execution_count": 152,
     "metadata": {},
     "output_type": "execute_result"
    }
   ],
   "source": [
    "data.dtypes.value_counts()"
   ]
  },
  {
   "cell_type": "code",
   "execution_count": 153,
   "id": "8086be8a",
   "metadata": {},
   "outputs": [
    {
     "data": {
      "text/html": [
       "<div>\n",
       "<style scoped>\n",
       "    .dataframe tbody tr th:only-of-type {\n",
       "        vertical-align: middle;\n",
       "    }\n",
       "\n",
       "    .dataframe tbody tr th {\n",
       "        vertical-align: top;\n",
       "    }\n",
       "\n",
       "    .dataframe thead th {\n",
       "        text-align: right;\n",
       "    }\n",
       "</style>\n",
       "<table border=\"1\" class=\"dataframe\">\n",
       "  <thead>\n",
       "    <tr style=\"text-align: right;\">\n",
       "      <th></th>\n",
       "      <th>Sorry_end</th>\n",
       "      <th>Ignore_diff</th>\n",
       "      <th>begin_correct</th>\n",
       "      <th>Contact</th>\n",
       "      <th>Special_time</th>\n",
       "      <th>No_home_time</th>\n",
       "      <th>2_strangers</th>\n",
       "      <th>enjoy_holiday</th>\n",
       "      <th>enjoy_travel</th>\n",
       "      <th>common_goals</th>\n",
       "      <th>...</th>\n",
       "      <th>silence_for_harm</th>\n",
       "      <th>silence_fear_anger</th>\n",
       "      <th>I'm_right</th>\n",
       "      <th>accusations</th>\n",
       "      <th>I'm_not_guilty</th>\n",
       "      <th>I'm_not_wrong</th>\n",
       "      <th>no_hesitancy_inadequate</th>\n",
       "      <th>you're_inadequate</th>\n",
       "      <th>incompetence</th>\n",
       "      <th>Divorce_Y_N</th>\n",
       "    </tr>\n",
       "  </thead>\n",
       "  <tbody>\n",
       "    <tr>\n",
       "      <th>0</th>\n",
       "      <td>2</td>\n",
       "      <td>2</td>\n",
       "      <td>4</td>\n",
       "      <td>1</td>\n",
       "      <td>0</td>\n",
       "      <td>0</td>\n",
       "      <td>0</td>\n",
       "      <td>0</td>\n",
       "      <td>0</td>\n",
       "      <td>0</td>\n",
       "      <td>...</td>\n",
       "      <td>2</td>\n",
       "      <td>1</td>\n",
       "      <td>3</td>\n",
       "      <td>3</td>\n",
       "      <td>3</td>\n",
       "      <td>2</td>\n",
       "      <td>3</td>\n",
       "      <td>2</td>\n",
       "      <td>1</td>\n",
       "      <td>1</td>\n",
       "    </tr>\n",
       "    <tr>\n",
       "      <th>1</th>\n",
       "      <td>4</td>\n",
       "      <td>4</td>\n",
       "      <td>4</td>\n",
       "      <td>4</td>\n",
       "      <td>4</td>\n",
       "      <td>0</td>\n",
       "      <td>0</td>\n",
       "      <td>4</td>\n",
       "      <td>4</td>\n",
       "      <td>4</td>\n",
       "      <td>...</td>\n",
       "      <td>2</td>\n",
       "      <td>2</td>\n",
       "      <td>3</td>\n",
       "      <td>4</td>\n",
       "      <td>4</td>\n",
       "      <td>4</td>\n",
       "      <td>4</td>\n",
       "      <td>2</td>\n",
       "      <td>2</td>\n",
       "      <td>1</td>\n",
       "    </tr>\n",
       "    <tr>\n",
       "      <th>2</th>\n",
       "      <td>2</td>\n",
       "      <td>2</td>\n",
       "      <td>2</td>\n",
       "      <td>2</td>\n",
       "      <td>1</td>\n",
       "      <td>3</td>\n",
       "      <td>2</td>\n",
       "      <td>1</td>\n",
       "      <td>1</td>\n",
       "      <td>2</td>\n",
       "      <td>...</td>\n",
       "      <td>3</td>\n",
       "      <td>2</td>\n",
       "      <td>3</td>\n",
       "      <td>1</td>\n",
       "      <td>1</td>\n",
       "      <td>1</td>\n",
       "      <td>2</td>\n",
       "      <td>2</td>\n",
       "      <td>2</td>\n",
       "      <td>1</td>\n",
       "    </tr>\n",
       "    <tr>\n",
       "      <th>3</th>\n",
       "      <td>3</td>\n",
       "      <td>2</td>\n",
       "      <td>3</td>\n",
       "      <td>2</td>\n",
       "      <td>3</td>\n",
       "      <td>3</td>\n",
       "      <td>3</td>\n",
       "      <td>3</td>\n",
       "      <td>3</td>\n",
       "      <td>3</td>\n",
       "      <td>...</td>\n",
       "      <td>2</td>\n",
       "      <td>2</td>\n",
       "      <td>3</td>\n",
       "      <td>3</td>\n",
       "      <td>3</td>\n",
       "      <td>3</td>\n",
       "      <td>2</td>\n",
       "      <td>2</td>\n",
       "      <td>2</td>\n",
       "      <td>1</td>\n",
       "    </tr>\n",
       "    <tr>\n",
       "      <th>4</th>\n",
       "      <td>2</td>\n",
       "      <td>2</td>\n",
       "      <td>1</td>\n",
       "      <td>1</td>\n",
       "      <td>1</td>\n",
       "      <td>1</td>\n",
       "      <td>0</td>\n",
       "      <td>0</td>\n",
       "      <td>0</td>\n",
       "      <td>0</td>\n",
       "      <td>...</td>\n",
       "      <td>2</td>\n",
       "      <td>1</td>\n",
       "      <td>2</td>\n",
       "      <td>3</td>\n",
       "      <td>2</td>\n",
       "      <td>2</td>\n",
       "      <td>2</td>\n",
       "      <td>1</td>\n",
       "      <td>0</td>\n",
       "      <td>1</td>\n",
       "    </tr>\n",
       "  </tbody>\n",
       "</table>\n",
       "<p>5 rows × 55 columns</p>\n",
       "</div>"
      ],
      "text/plain": [
       "   Sorry_end  Ignore_diff  begin_correct  Contact  Special_time  No_home_time  \\\n",
       "0          2            2              4        1             0             0   \n",
       "1          4            4              4        4             4             0   \n",
       "2          2            2              2        2             1             3   \n",
       "3          3            2              3        2             3             3   \n",
       "4          2            2              1        1             1             1   \n",
       "\n",
       "   2_strangers  enjoy_holiday  enjoy_travel  common_goals  ...  \\\n",
       "0            0              0             0             0  ...   \n",
       "1            0              4             4             4  ...   \n",
       "2            2              1             1             2  ...   \n",
       "3            3              3             3             3  ...   \n",
       "4            0              0             0             0  ...   \n",
       "\n",
       "   silence_for_harm  silence_fear_anger  I'm_right  accusations  \\\n",
       "0                 2                   1          3            3   \n",
       "1                 2                   2          3            4   \n",
       "2                 3                   2          3            1   \n",
       "3                 2                   2          3            3   \n",
       "4                 2                   1          2            3   \n",
       "\n",
       "   I'm_not_guilty  I'm_not_wrong  no_hesitancy_inadequate  you're_inadequate  \\\n",
       "0               3              2                        3                  2   \n",
       "1               4              4                        4                  2   \n",
       "2               1              1                        2                  2   \n",
       "3               3              3                        2                  2   \n",
       "4               2              2                        2                  1   \n",
       "\n",
       "   incompetence  Divorce_Y_N  \n",
       "0             1            1  \n",
       "1             2            1  \n",
       "2             2            1  \n",
       "3             2            1  \n",
       "4             0            1  \n",
       "\n",
       "[5 rows x 55 columns]"
      ]
     },
     "execution_count": 153,
     "metadata": {},
     "output_type": "execute_result"
    }
   ],
   "source": [
    "data.head()"
   ]
  },
  {
   "cell_type": "markdown",
   "id": "447d61ed",
   "metadata": {},
   "source": [
    "Look at the shape of the data set."
   ]
  },
  {
   "cell_type": "code",
   "execution_count": 154,
   "id": "2bbcad37",
   "metadata": {},
   "outputs": [
    {
     "data": {
      "text/plain": [
       "(170, 55)"
      ]
     },
     "execution_count": 154,
     "metadata": {},
     "output_type": "execute_result"
    }
   ],
   "source": [
    "data.shape"
   ]
  },
  {
   "cell_type": "markdown",
   "id": "eface5fd",
   "metadata": {},
   "source": [
    "The original data set contains 170 participants with 54 features questions."
   ]
  },
  {
   "cell_type": "code",
   "execution_count": 155,
   "id": "47633d68",
   "metadata": {},
   "outputs": [
    {
     "data": {
      "text/plain": [
       "0    86\n",
       "1    84\n",
       "Name: Divorce_Y_N, dtype: int64"
      ]
     },
     "execution_count": 155,
     "metadata": {},
     "output_type": "execute_result"
    }
   ],
   "source": [
    "data['Divorce_Y_N'].value_counts()"
   ]
  },
  {
   "cell_type": "markdown",
   "id": "3ae94f76",
   "metadata": {},
   "source": [
    "Remove duplicates since with 55 column it should be unlikely having two identical rows."
   ]
  },
  {
   "cell_type": "code",
   "execution_count": 156,
   "id": "bfbc8468",
   "metadata": {},
   "outputs": [
    {
     "data": {
      "text/plain": [
       "0    84\n",
       "1    66\n",
       "Name: Divorce_Y_N, dtype: int64"
      ]
     },
     "execution_count": 156,
     "metadata": {},
     "output_type": "execute_result"
    }
   ],
   "source": [
    "data.drop_duplicates(inplace=True)\n",
    "data.reset_index(drop=True, inplace=True)\n",
    "data['Divorce_Y_N'].value_counts()"
   ]
  },
  {
   "cell_type": "markdown",
   "id": "ce7f4aa7",
   "metadata": {},
   "source": [
    "20 observations were dropped, and now the distribution of divorced feature is slightly skewed in favor of not divorced. "
   ]
  },
  {
   "cell_type": "markdown",
   "id": "8359e773",
   "metadata": {},
   "source": [
    "Look at the features groupby by divorced."
   ]
  },
  {
   "cell_type": "code",
   "execution_count": 158,
   "id": "87e5e229",
   "metadata": {},
   "outputs": [],
   "source": [
    "divorce_top = data.groupby(by='Divorce_Y_N').mean().T[1].sort_values(ascending=False).head(10)\n",
    "no_divorce_top = data.groupby(by='Divorce_Y_N').mean().T[0].sort_values(ascending=False).head(10)\n"
   ]
  },
  {
   "cell_type": "code",
   "execution_count": 159,
   "id": "dd5c8ed8",
   "metadata": {},
   "outputs": [
    {
     "name": "stdout",
     "output_type": "stream",
     "text": [
      "Our discussions often occur suddenly.  mean:  3.56\n",
      "We're just starting a discussion before I know what's going on.  mean:  3.48\n",
      "My discussion with my spouse is not calm.  mean:  3.48\n",
      "When I talk to my spouse about something, my calm suddenly breaks.  mean:  3.44\n",
      "I have nothing to do with what I've been accused of.  mean:  3.39\n",
      "I wouldn't hesitate to tell my spouse about her/his inadequacy.  mean:  3.38\n",
      "I'm not actually the one who's guilty about what I'm accused of.  mean:  3.38\n",
      "I mostly stay silent to calm the environment a little bit.  mean:  3.35\n",
      "I feel right in our discussions.  mean:  3.33\n",
      "I feel aggressive when I argue with my spouse.  mean:  3.3\n"
     ]
    }
   ],
   "source": [
    "for row in divorce_top.index:\n",
    "    value = round(divorce_top.loc[row],2)\n",
    "    print(dict_explain[row],' mean: ',value)"
   ]
  },
  {
   "cell_type": "code",
   "execution_count": 160,
   "id": "96c71f58",
   "metadata": {},
   "outputs": [
    {
     "name": "stdout",
     "output_type": "stream",
     "text": [
      "I feel right in our discussions. 2.06\n",
      "Even if I'm right in the discussion, I stay silent to hurt my spouse. 1.96\n",
      "I mostly stay silent to calm the environment a little bit. 1.93\n",
      "I'd rather stay silent than discuss with my spouse. 1.61\n",
      "I'm not the one who's wrong about problems at home. 1.6\n",
      "I wouldn't hesitate to tell my spouse about her/his inadequacy. 1.56\n",
      "I'm not actually the one who's guilty about what I'm accused of. 1.39\n",
      "I have nothing to do with what I've been accused of. 1.3\n",
      "When I discuss with my spouse, I stay silent because I am afraid of not being able to control my anger. 1.24\n",
      "When I discuss, I remind my spouse of her/his inadequacy. 1.18\n"
     ]
    }
   ],
   "source": [
    "for row in no_divorce_top.index:\n",
    "    value = round(no_divorce_top.loc[row],2)\n",
    "    print(dict_explain[row],value)"
   ]
  },
  {
   "cell_type": "markdown",
   "id": "35aa91b2",
   "metadata": {},
   "source": [
    "One can see that for divorced participants, the mean of the top features is significantly higher."
   ]
  },
  {
   "cell_type": "markdown",
   "id": "80cb1aaa",
   "metadata": {},
   "source": [
    "Verify that feature columns are scaled."
   ]
  },
  {
   "cell_type": "code",
   "execution_count": 161,
   "id": "b42a5ff5",
   "metadata": {},
   "outputs": [
    {
     "data": {
      "text/plain": [
       "0    54\n",
       "dtype: int64"
      ]
     },
     "execution_count": 161,
     "metadata": {},
     "output_type": "execute_result"
    }
   ],
   "source": [
    "data.iloc[:, :-1].min().value_counts()"
   ]
  },
  {
   "cell_type": "code",
   "execution_count": 162,
   "id": "d72b72aa",
   "metadata": {},
   "outputs": [
    {
     "data": {
      "text/plain": [
       "4    54\n",
       "dtype: int64"
      ]
     },
     "execution_count": 162,
     "metadata": {},
     "output_type": "execute_result"
    }
   ],
   "source": [
    "data.iloc[:, :-1].max().value_counts()"
   ]
  },
  {
   "cell_type": "markdown",
   "id": "1537c510",
   "metadata": {},
   "source": [
    "# Predictive analysis"
   ]
  },
  {
   "cell_type": "markdown",
   "id": "4386f32f",
   "metadata": {},
   "source": [
    "Prepare data."
   ]
  },
  {
   "cell_type": "code",
   "execution_count": 163,
   "id": "9754e44f",
   "metadata": {},
   "outputs": [],
   "source": [
    "### BEGIN SOLUTION\n",
    "feature_cols = data.columns[:-1]\n",
    "target = data.columns[-1] \n",
    "\n",
    "X = data[feature_cols]\n",
    "y = data[target]\n"
   ]
  },
  {
   "cell_type": "code",
   "execution_count": 164,
   "id": "93a34848",
   "metadata": {},
   "outputs": [],
   "source": [
    "def plot_confusion_matrix(y,y_predict):\n",
    "    \"this function plots the confusion matrix\"\n",
    "    from sklearn.metrics import confusion_matrix\n",
    "\n",
    "    cm = confusion_matrix(y, y_predict)\n",
    "    ax= plt.subplot()\n",
    "    sns.heatmap(cm, annot=True, ax = ax); \n",
    "    ax.set_xlabel('Predicted labels')\n",
    "    ax.set_ylabel('True labels')\n",
    "    ax.set_title('Confusion Matrix'); \n",
    "    ax.xaxis.set_ticklabels(['not divorced', 'divorced']); ax.yaxis.set_ticklabels(['not divorced', 'divorced'])"
   ]
  },
  {
   "cell_type": "markdown",
   "id": "606c0f82",
   "metadata": {},
   "source": [
    "Use the various classification models with optimized hyperparameters via GridSearchCV to find the best model."
   ]
  },
  {
   "cell_type": "markdown",
   "id": "2904e5a7",
   "metadata": {},
   "source": [
    "## Logistic Regression"
   ]
  },
  {
   "cell_type": "code",
   "execution_count": 165,
   "id": "ebd8157c",
   "metadata": {},
   "outputs": [
    {
     "data": {
      "text/plain": [
       "GridSearchCV(cv=10, estimator=LogisticRegression(),\n",
       "             param_grid={'C': [0.01, 0.1, 1], 'penalty': ['l2'],\n",
       "                         'solver': ['lbfgs']})"
      ]
     },
     "execution_count": 165,
     "metadata": {},
     "output_type": "execute_result"
    }
   ],
   "source": [
    "parameters ={\"C\":[0.01,0.1,1],'penalty':['l2'], 'solver':['lbfgs']}# l1 lasso l2 ridge\n",
    "lr=LogisticRegression()\n",
    "logreg_cv = GridSearchCV(lr, parameters,cv=10)\n",
    "logreg_cv.fit(x_reduced, y)"
   ]
  },
  {
   "cell_type": "code",
   "execution_count": 166,
   "id": "82611a34",
   "metadata": {},
   "outputs": [
    {
     "name": "stdout",
     "output_type": "stream",
     "text": [
      "tuned hpyerparameters :(best parameters)  {'C': 1, 'penalty': 'l2', 'solver': 'lbfgs'}\n",
      "accuracy : 0.9800000000000001\n"
     ]
    }
   ],
   "source": [
    "print(\"tuned hpyerparameters :(best parameters) \",logreg_cv.best_params_)\n",
    "print(\"accuracy :\",logreg_cv.best_score_)"
   ]
  },
  {
   "cell_type": "code",
   "execution_count": 167,
   "id": "dd11fa9a",
   "metadata": {},
   "outputs": [
    {
     "name": "stdout",
     "output_type": "stream",
     "text": [
      "              precision    recall  f1-score   support\n",
      "\n",
      "           0       1.00      1.00      1.00        84\n",
      "           1       1.00      1.00      1.00        66\n",
      "\n",
      "    accuracy                           1.00       150\n",
      "   macro avg       1.00      1.00      1.00       150\n",
      "weighted avg       1.00      1.00      1.00       150\n",
      "\n"
     ]
    }
   ],
   "source": [
    "y_pred = logreg_cv.predict(x_reduced)\n",
    "print(classification_report(y, y_pred))\n"
   ]
  },
  {
   "cell_type": "code",
   "execution_count": 168,
   "id": "ef2c0176",
   "metadata": {},
   "outputs": [
    {
     "data": {
      "image/png": "[encoded data removed]",
      "text/plain": [
       "<Figure size 432x288 with 2 Axes>"
      ]
     },
     "metadata": {
      "needs_background": "light"
     },
     "output_type": "display_data"
    }
   ],
   "source": [
    "plot_confusion_matrix(y,y_pred)"
   ]
  },
  {
   "cell_type": "markdown",
   "id": "567dab0e",
   "metadata": {},
   "source": [
    "## KNN"
   ]
  },
  {
   "cell_type": "code",
   "execution_count": 169,
   "id": "cd7ffbfb",
   "metadata": {},
   "outputs": [],
   "source": [
    "parameters = {'n_neighbors': [1, 2, 3, 4, 5, 6, 7, 8, 9, 10],\n",
    "              'algorithm': ['auto', 'ball_tree', 'kd_tree', 'brute'],\n",
    "              'p': [1,2]}\n",
    "\n",
    "KNN = KNeighborsClassifier()"
   ]
  },
  {
   "cell_type": "code",
   "execution_count": 170,
   "id": "34b5ac55",
   "metadata": {},
   "outputs": [
    {
     "data": {
      "text/plain": [
       "GridSearchCV(cv=10, estimator=KNeighborsClassifier(),\n",
       "             param_grid={'algorithm': ['auto', 'ball_tree', 'kd_tree', 'brute'],\n",
       "                         'n_neighbors': [1, 2, 3, 4, 5, 6, 7, 8, 9, 10],\n",
       "                         'p': [1, 2]})"
      ]
     },
     "execution_count": 170,
     "metadata": {},
     "output_type": "execute_result"
    }
   ],
   "source": [
    "knn_cv = GridSearchCV(KNN, parameters,cv=10)\n",
    "knn_cv.fit(X, y)"
   ]
  },
  {
   "cell_type": "code",
   "execution_count": 171,
   "id": "8a8ea295",
   "metadata": {},
   "outputs": [
    {
     "name": "stdout",
     "output_type": "stream",
     "text": [
      "tuned hpyerparameters :(best parameters)  {'algorithm': 'auto', 'n_neighbors': 1, 'p': 1}\n",
      "accuracy : 0.9800000000000001\n"
     ]
    }
   ],
   "source": [
    "print(\"tuned hpyerparameters :(best parameters) \",knn_cv.best_params_)\n",
    "print(\"accuracy :\",knn_cv.best_score_)"
   ]
  },
  {
   "cell_type": "code",
   "execution_count": 172,
   "id": "a7b9b4b9",
   "metadata": {},
   "outputs": [
    {
     "name": "stdout",
     "output_type": "stream",
     "text": [
      "              precision    recall  f1-score   support\n",
      "\n",
      "           0       1.00      1.00      1.00        84\n",
      "           1       1.00      1.00      1.00        66\n",
      "\n",
      "    accuracy                           1.00       150\n",
      "   macro avg       1.00      1.00      1.00       150\n",
      "weighted avg       1.00      1.00      1.00       150\n",
      "\n"
     ]
    }
   ],
   "source": [
    "y_pred = knn_cv.predict(X)\n",
    "print(classification_report(y, y_pred))"
   ]
  },
  {
   "cell_type": "code",
   "execution_count": 173,
   "id": "c30865a1",
   "metadata": {},
   "outputs": [
    {
     "data": {
      "image/png": "[encoded data removed]",
      "text/plain": [
       "<Figure size 432x288 with 2 Axes>"
      ]
     },
     "metadata": {
      "needs_background": "light"
     },
     "output_type": "display_data"
    }
   ],
   "source": [
    "plot_confusion_matrix(y,y_pred)"
   ]
  },
  {
   "cell_type": "markdown",
   "id": "b30e5c29",
   "metadata": {},
   "source": [
    "##  Support Vector Machines"
   ]
  },
  {
   "cell_type": "code",
   "execution_count": 174,
   "id": "e600b4f3",
   "metadata": {},
   "outputs": [],
   "source": [
    "parameters = {'kernel':('linear', 'rbf','poly','rbf', 'sigmoid'),\n",
    "              'C': np.logspace(-3, 3, 5),\n",
    "              'gamma':np.logspace(-3, 3, 5)}\n",
    "svm = SVC()"
   ]
  },
  {
   "cell_type": "code",
   "execution_count": 175,
   "id": "5f286637",
   "metadata": {},
   "outputs": [
    {
     "data": {
      "text/plain": [
       "GridSearchCV(cv=10, estimator=SVC(),\n",
       "             param_grid={'C': array([1.00000000e-03, 3.16227766e-02, 1.00000000e+00, 3.16227766e+01,\n",
       "       1.00000000e+03]),\n",
       "                         'gamma': array([1.00000000e-03, 3.16227766e-02, 1.00000000e+00, 3.16227766e+01,\n",
       "       1.00000000e+03]),\n",
       "                         'kernel': ('linear', 'rbf', 'poly', 'rbf', 'sigmoid')})"
      ]
     },
     "execution_count": 175,
     "metadata": {},
     "output_type": "execute_result"
    }
   ],
   "source": [
    "svm_cv = GridSearchCV(svm, parameters,cv=10)\n",
    "svm_cv.fit(X, y)"
   ]
  },
  {
   "cell_type": "code",
   "execution_count": 176,
   "id": "a1676d5d",
   "metadata": {},
   "outputs": [
    {
     "name": "stdout",
     "output_type": "stream",
     "text": [
      "tuned hpyerparameters :(best parameters)  {'C': 0.001, 'gamma': 1.0, 'kernel': 'poly'}\n",
      "accuracy : 0.9800000000000001\n"
     ]
    }
   ],
   "source": [
    "print(\"tuned hpyerparameters :(best parameters) \",svm_cv.best_params_)\n",
    "print(\"accuracy :\",svm_cv.best_score_)"
   ]
  },
  {
   "cell_type": "code",
   "execution_count": 177,
   "id": "1df6de3f",
   "metadata": {},
   "outputs": [
    {
     "name": "stdout",
     "output_type": "stream",
     "text": [
      "              precision    recall  f1-score   support\n",
      "\n",
      "           0       1.00      1.00      1.00        84\n",
      "           1       1.00      1.00      1.00        66\n",
      "\n",
      "    accuracy                           1.00       150\n",
      "   macro avg       1.00      1.00      1.00       150\n",
      "weighted avg       1.00      1.00      1.00       150\n",
      "\n"
     ]
    }
   ],
   "source": [
    "y_pred = svm_cv.predict(X)\n",
    "print(classification_report(y, y_pred))"
   ]
  },
  {
   "cell_type": "code",
   "execution_count": 178,
   "id": "510d3ac8",
   "metadata": {},
   "outputs": [
    {
     "data": {
      "image/png": "[encoded data removed]",
      "text/plain": [
       "<Figure size 432x288 with 2 Axes>"
      ]
     },
     "metadata": {
      "needs_background": "light"
     },
     "output_type": "display_data"
    }
   ],
   "source": [
    "plot_confusion_matrix(y,y_pred)"
   ]
  },
  {
   "cell_type": "markdown",
   "id": "3c72a6fc",
   "metadata": {},
   "source": [
    "## Decision Trees"
   ]
  },
  {
   "cell_type": "code",
   "execution_count": 179,
   "id": "ccc530ea",
   "metadata": {},
   "outputs": [],
   "source": [
    "parameters = {'criterion': ['gini', 'entropy'],\n",
    "     'splitter': ['best', 'random'],\n",
    "     'max_depth': [2*n for n in range(1,10)],\n",
    "     'max_features': ['auto', 'sqrt'],\n",
    "     'min_samples_leaf': [1, 2, 4],\n",
    "     'min_samples_split': [2, 5, 10]}\n",
    "\n",
    "tree = DecisionTreeClassifier()"
   ]
  },
  {
   "cell_type": "code",
   "execution_count": 180,
   "id": "59838b38",
   "metadata": {},
   "outputs": [
    {
     "data": {
      "text/plain": [
       "GridSearchCV(cv=10, estimator=DecisionTreeClassifier(),\n",
       "             param_grid={'criterion': ['gini', 'entropy'],\n",
       "                         'max_depth': [2, 4, 6, 8, 10, 12, 14, 16, 18],\n",
       "                         'max_features': ['auto', 'sqrt'],\n",
       "                         'min_samples_leaf': [1, 2, 4],\n",
       "                         'min_samples_split': [2, 5, 10],\n",
       "                         'splitter': ['best', 'random']})"
      ]
     },
     "execution_count": 180,
     "metadata": {},
     "output_type": "execute_result"
    }
   ],
   "source": [
    "tree_cv = GridSearchCV(tree, parameters,cv=10)\n",
    "tree_cv.fit(X, y)"
   ]
  },
  {
   "cell_type": "code",
   "execution_count": 181,
   "id": "e9110b58",
   "metadata": {},
   "outputs": [
    {
     "name": "stdout",
     "output_type": "stream",
     "text": [
      "tuned hpyerparameters :(best parameters)  {'criterion': 'gini', 'max_depth': 6, 'max_features': 'sqrt', 'min_samples_leaf': 2, 'min_samples_split': 5, 'splitter': 'best'}\n",
      "accuracy : 0.9866666666666667\n"
     ]
    }
   ],
   "source": [
    "print(\"tuned hpyerparameters :(best parameters) \",tree_cv.best_params_)\n",
    "print(\"accuracy :\",tree_cv.best_score_)"
   ]
  },
  {
   "cell_type": "code",
   "execution_count": 182,
   "id": "40ba6ebd",
   "metadata": {},
   "outputs": [
    {
     "name": "stdout",
     "output_type": "stream",
     "text": [
      "              precision    recall  f1-score   support\n",
      "\n",
      "           0       0.95      1.00      0.98        84\n",
      "           1       1.00      0.94      0.97        66\n",
      "\n",
      "    accuracy                           0.97       150\n",
      "   macro avg       0.98      0.97      0.97       150\n",
      "weighted avg       0.97      0.97      0.97       150\n",
      "\n"
     ]
    }
   ],
   "source": [
    "y_pred = tree_cv.predict(X)\n",
    "print(classification_report(y, y_pred))"
   ]
  },
  {
   "cell_type": "code",
   "execution_count": 183,
   "id": "fdea441b",
   "metadata": {},
   "outputs": [
    {
     "data": {
      "image/png": "[encoded data removed]",
      "text/plain": [
       "<Figure size 432x288 with 2 Axes>"
      ]
     },
     "metadata": {
      "needs_background": "light"
     },
     "output_type": "display_data"
    }
   ],
   "source": [
    "plot_confusion_matrix(y,y_pred)"
   ]
  },
  {
   "cell_type": "markdown",
   "id": "12085474",
   "metadata": {},
   "source": [
    "The Decision tree with optimized hyperparameters has the best accuracy with 98.67%, though the best estimator here does classify everything correctly. If one runs gridsearch on the decision tree the optimal hyperparameters may vary but the accuracy is always  constant.<br>\n",
    "The other models with optimized hyperparameters have all a accuracy of about 98%, but classify everything correctly. "
   ]
  },
  {
   "cell_type": "markdown",
   "id": "5fa72b24",
   "metadata": {},
   "source": [
    "## Feature Importance"
   ]
  },
  {
   "cell_type": "markdown",
   "id": "50f5847e",
   "metadata": {},
   "source": [
    "Use Logistic Regression  from above to get some insight into the feature importances by its coefficients."
   ]
  },
  {
   "cell_type": "code",
   "execution_count": 184,
   "id": "cff47c6f",
   "metadata": {},
   "outputs": [
    {
     "data": {
      "text/plain": [
       "LogisticRegression(C=1)"
      ]
     },
     "execution_count": 184,
     "metadata": {},
     "output_type": "execute_result"
    }
   ],
   "source": [
    "estimator = LogisticRegression(C= 1, penalty= 'l2', solver='lbfgs')\n",
    "# Train the model\n",
    "estimator.fit(X, y)"
   ]
  },
  {
   "cell_type": "code",
   "execution_count": 185,
   "id": "53222129",
   "metadata": {},
   "outputs": [],
   "source": [
    "# Extract and those feature whose absolute coefficients are greater than 0.25\n",
    "def get_feature_coefs(regression_model):\n",
    "    coef_dict = {}\n",
    "    # Filter absolute coefficients less than 0.25\n",
    "    for coef, feat in zip(regression_model.coef_[0, :], X.columns):\n",
    "        if abs(coef) >= 0.25:\n",
    "            coef_dict[feat] = coef\n",
    "    # Sort coefficients\n",
    "    coef_dict = {k: v for k, v in sorted(coef_dict.items(), key=lambda item: item[1],)}\n",
    "    return coef_dict"
   ]
  },
  {
   "cell_type": "code",
   "execution_count": 186,
   "id": "0257629b",
   "metadata": {},
   "outputs": [],
   "source": [
    "coef_dict = get_feature_coefs(estimator)\n",
    "coef_dict = pd.Series(data=coef_dict).sort_values(ascending=False)\n"
   ]
  },
  {
   "cell_type": "markdown",
   "id": "f57e96b4",
   "metadata": {},
   "source": [
    "Look at the features with the highest coefficents."
   ]
  },
  {
   "cell_type": "code",
   "execution_count": 187,
   "id": "14c0e9dc",
   "metadata": {},
   "outputs": [
    {
     "name": "stdout",
     "output_type": "stream",
     "text": [
      "We're just starting a discussion before I know what's going on.  coefficient:  0.6\n",
      "I know my spouse's basic anxieties.  coefficient:  0.49\n",
      "I have nothing to do with what I've been accused of.  coefficient:  0.45\n",
      "Sometimes I think it's good for me to leave home for a while.  coefficient:  0.38\n",
      "I feel aggressive when I argue with my spouse.  coefficient:  0.37\n",
      "We share the same views about being happy in our life with my spouse  coefficient:  0.36\n",
      "When we need it, we can take our discussions with my spouse from the beginning and correct it.  coefficient:  0.35\n",
      "I know my spouse's hopes and wishes.  coefficient:  0.34\n",
      "We don't have time at home as partners.  coefficient:  0.33\n",
      "Our discussions often occur suddenly.  coefficient:  0.31\n",
      "My spouse and I have similar values in trust.  coefficient:  0.3\n",
      "Our dreams with my spouse are similar and harmonious.  coefficient:  0.3\n",
      "When I discuss, I remind my spouse of her/his inadequacy.  coefficient:  0.3\n",
      "My spouse and I have similar ideas about how marriage should be.  coefficient:  0.3\n",
      "I know we can ignore our differences, even if things get hard sometimes.  coefficient:  0.28\n",
      "My spouse and I have similar ideas about how roles should be in marriage  coefficient:  0.28\n",
      "If one of us apologizes when our discussion deteriorates, the discussion ends.  coefficient:  0.27\n"
     ]
    }
   ],
   "source": [
    "for row in coef_dict.index:\n",
    "    value = round(coef_dict.loc[row],2)\n",
    "    print(dict_explain[row],' coefficient: ',value)\n"
   ]
  },
  {
   "cell_type": "markdown",
   "id": "c9f677bd",
   "metadata": {},
   "source": [
    "One can see that not all features commonly are associated with an unhappy marriage."
   ]
  },
  {
   "cell_type": "markdown",
   "id": "68d24808",
   "metadata": {},
   "source": [
    "## Conclusion"
   ]
  },
  {
   "cell_type": "markdown",
   "id": "49848cf0",
   "metadata": {},
   "source": [
    "One can see that all models performed fairly good. It may be noted here looking at the original paper the research group achieved a accuracy of 98.82% using Artificial Neural Networks and only selecting the six most important features. The accuracy achieved here and in the paper cannot be straightforwadely compared, since accuracy may be defined differently.<br>\n",
    "One flaw of the data is that is does not consider the sex, age and how many children the participants had, all factors which might have influence on a divorce decision."
   ]
  }
 ],
 "metadata": {
  "kernelspec": {
   "display_name": "Python 3 (ipykernel)",
   "language": "python",
   "name": "python3"
  },
  "language_info": {
   "codemirror_mode": {
    "name": "ipython",
    "version": 3
   },
   "file_extension": ".py",
   "mimetype": "text/x-python",
   "name": "python",
   "nbconvert_exporter": "python",
   "pygments_lexer": "ipython3",
   "version": "3.9.12"
  }
 },
 "nbformat": 4,
 "nbformat_minor": 5
}
