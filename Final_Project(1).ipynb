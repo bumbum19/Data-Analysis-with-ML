{
 "cells": [
  {
   "cell_type": "markdown",
   "id": "fa2a8016",
   "metadata": {},
   "source": [
    "# High School Math Scores "
   ]
  },
  {
   "cell_type": "markdown",
   "id": "d8980fe4",
   "metadata": {},
   "source": [
    "In this project a simple regression analysis of the [dataset](https://www.kaggle.com/datasets/janiobachmann/math-students) from Kaggle will be conducted which contains math scores of high school students from two different public schools from Portugal. The aim is predict the final math grade of the students via various regression models and finding the best model."
   ]
  },
  {
   "cell_type": "markdown",
   "id": "ea54162f",
   "metadata": {},
   "source": [
    "## **Import the required libraries**"
   ]
  },
  {
   "cell_type": "code",
   "execution_count": 166,
   "id": "2e097543",
   "metadata": {},
   "outputs": [],
   "source": [
    "import pandas as pd\n",
    "import numpy as np\n",
    "\n",
    "import matplotlib.pyplot as plt\n",
    "%matplotlib inline\n",
    "import seaborn as sns\n",
    "\n",
    "from scipy.stats.mstats import normaltest # D'Agostino K^2 Test\n",
    "\n",
    "\n",
    "from sklearn.preprocessing import OneHotEncoder, LabelEncoder\n",
    "from sklearn.linear_model import LinearRegression\n",
    "from sklearn.metrics import r2_score\n",
    "from sklearn.model_selection import train_test_split\n",
    "from sklearn.preprocessing import (StandardScaler, \n",
    "                                   PolynomialFeatures)\n",
    "from sklearn.preprocessing import StandardScaler, PolynomialFeatures\n",
    "from sklearn.model_selection import KFold, cross_val_predict\n",
    "from sklearn.linear_model import LinearRegression, Lasso, Ridge\n",
    "from sklearn.metrics import r2_score\n",
    "from sklearn.pipeline import Pipeline\n",
    "\n",
    "import warnings\n",
    "warnings.simplefilter(\"ignore\")\n",
    "\n"
   ]
  },
  {
   "cell_type": "markdown",
   "id": "352d6240",
   "metadata": {},
   "source": [
    "## **Reading and understanding of the data**"
   ]
  },
  {
   "cell_type": "markdown",
   "id": "42db752f",
   "metadata": {},
   "source": [
    "The was collected by two reseachers from Portugal, there corresponing paper can be found [here](http://www3.dsi.uminho.pt/pcortez/student.pdf). The data was supposed to be collected during the 2005-2006 school year from two public secondary schools in Portugal from the Alentejo Region, which covers a large part of the southern region of Portugal. The data contains three grades for each student columns `G1`, `G2` and `G3`. `G1` and `G2` correspondent to the grade first and second period respectively. And `G3` corresponds to the final grade. It is not fully clear hear how `G3` is assessed. The paper only says \"During the school year, students are evaluated in three periods and the last evaluation (G3 of Table 1) corresponds to the final grade\". So just assume `G3` is somehow a final evaluation, may it be a written exam or whatever. <br>\n",
    "This is the target variable which will be predicted based on the other features such as family or study behaviour. In the end it appears that the second grade is a good predictor for the final grade, while the other features except the first grade having only a minor impact. For a full description of the features the reader may look at the [datasource](https://www.kaggle.com/datasets/janiobachmann/math-students)."
   ]
  },
  {
   "cell_type": "code",
   "execution_count": 167,
   "id": "7052d893",
   "metadata": {},
   "outputs": [
    {
     "name": "stdout",
     "output_type": "stream",
     "text": [
      "(395, 33)\n"
     ]
    }
   ],
   "source": [
    "# Import the data \n",
    "data = pd.read_csv('student-mat.csv')\n",
    "print(data.shape)"
   ]
  },
  {
   "cell_type": "code",
   "execution_count": 2,
   "id": "48feda27",
   "metadata": {},
   "outputs": [
    {
     "data": {
      "text/plain": [
       "0.6666666666666665"
      ]
     },
     "execution_count": 2,
     "metadata": {},
     "output_type": "execute_result"
    }
   ],
   "source": [
    "1.2*0.75/(0.6+0.75)"
   ]
  },
  {
   "cell_type": "markdown",
   "id": "2f550dec",
   "metadata": {},
   "source": [
    "There are 395 obsevations in the dataset with 33 variables."
   ]
  },
  {
   "cell_type": "code",
   "execution_count": 168,
   "id": "bbee4d5b",
   "metadata": {},
   "outputs": [
    {
     "data": {
      "text/html": [
       "<div>\n",
       "<style scoped>\n",
       "    .dataframe tbody tr th:only-of-type {\n",
       "        vertical-align: middle;\n",
       "    }\n",
       "\n",
       "    .dataframe tbody tr th {\n",
       "        vertical-align: top;\n",
       "    }\n",
       "\n",
       "    .dataframe thead th {\n",
       "        text-align: right;\n",
       "    }\n",
       "</style>\n",
       "<table border=\"1\" class=\"dataframe\">\n",
       "  <thead>\n",
       "    <tr style=\"text-align: right;\">\n",
       "      <th></th>\n",
       "      <th>school</th>\n",
       "      <th>sex</th>\n",
       "      <th>age</th>\n",
       "      <th>address</th>\n",
       "      <th>famsize</th>\n",
       "      <th>Pstatus</th>\n",
       "      <th>Medu</th>\n",
       "      <th>Fedu</th>\n",
       "      <th>Mjob</th>\n",
       "      <th>Fjob</th>\n",
       "      <th>...</th>\n",
       "      <th>famrel</th>\n",
       "      <th>freetime</th>\n",
       "      <th>goout</th>\n",
       "      <th>Dalc</th>\n",
       "      <th>Walc</th>\n",
       "      <th>health</th>\n",
       "      <th>absences</th>\n",
       "      <th>G1</th>\n",
       "      <th>G2</th>\n",
       "      <th>G3</th>\n",
       "    </tr>\n",
       "  </thead>\n",
       "  <tbody>\n",
       "    <tr>\n",
       "      <th>0</th>\n",
       "      <td>GP</td>\n",
       "      <td>F</td>\n",
       "      <td>18</td>\n",
       "      <td>U</td>\n",
       "      <td>GT3</td>\n",
       "      <td>A</td>\n",
       "      <td>4</td>\n",
       "      <td>4</td>\n",
       "      <td>at_home</td>\n",
       "      <td>teacher</td>\n",
       "      <td>...</td>\n",
       "      <td>4</td>\n",
       "      <td>3</td>\n",
       "      <td>4</td>\n",
       "      <td>1</td>\n",
       "      <td>1</td>\n",
       "      <td>3</td>\n",
       "      <td>6</td>\n",
       "      <td>5</td>\n",
       "      <td>6</td>\n",
       "      <td>6</td>\n",
       "    </tr>\n",
       "    <tr>\n",
       "      <th>1</th>\n",
       "      <td>GP</td>\n",
       "      <td>F</td>\n",
       "      <td>17</td>\n",
       "      <td>U</td>\n",
       "      <td>GT3</td>\n",
       "      <td>T</td>\n",
       "      <td>1</td>\n",
       "      <td>1</td>\n",
       "      <td>at_home</td>\n",
       "      <td>other</td>\n",
       "      <td>...</td>\n",
       "      <td>5</td>\n",
       "      <td>3</td>\n",
       "      <td>3</td>\n",
       "      <td>1</td>\n",
       "      <td>1</td>\n",
       "      <td>3</td>\n",
       "      <td>4</td>\n",
       "      <td>5</td>\n",
       "      <td>5</td>\n",
       "      <td>6</td>\n",
       "    </tr>\n",
       "    <tr>\n",
       "      <th>2</th>\n",
       "      <td>GP</td>\n",
       "      <td>F</td>\n",
       "      <td>15</td>\n",
       "      <td>U</td>\n",
       "      <td>LE3</td>\n",
       "      <td>T</td>\n",
       "      <td>1</td>\n",
       "      <td>1</td>\n",
       "      <td>at_home</td>\n",
       "      <td>other</td>\n",
       "      <td>...</td>\n",
       "      <td>4</td>\n",
       "      <td>3</td>\n",
       "      <td>2</td>\n",
       "      <td>2</td>\n",
       "      <td>3</td>\n",
       "      <td>3</td>\n",
       "      <td>10</td>\n",
       "      <td>7</td>\n",
       "      <td>8</td>\n",
       "      <td>10</td>\n",
       "    </tr>\n",
       "    <tr>\n",
       "      <th>3</th>\n",
       "      <td>GP</td>\n",
       "      <td>F</td>\n",
       "      <td>15</td>\n",
       "      <td>U</td>\n",
       "      <td>GT3</td>\n",
       "      <td>T</td>\n",
       "      <td>4</td>\n",
       "      <td>2</td>\n",
       "      <td>health</td>\n",
       "      <td>services</td>\n",
       "      <td>...</td>\n",
       "      <td>3</td>\n",
       "      <td>2</td>\n",
       "      <td>2</td>\n",
       "      <td>1</td>\n",
       "      <td>1</td>\n",
       "      <td>5</td>\n",
       "      <td>2</td>\n",
       "      <td>15</td>\n",
       "      <td>14</td>\n",
       "      <td>15</td>\n",
       "    </tr>\n",
       "    <tr>\n",
       "      <th>4</th>\n",
       "      <td>GP</td>\n",
       "      <td>F</td>\n",
       "      <td>16</td>\n",
       "      <td>U</td>\n",
       "      <td>GT3</td>\n",
       "      <td>T</td>\n",
       "      <td>3</td>\n",
       "      <td>3</td>\n",
       "      <td>other</td>\n",
       "      <td>other</td>\n",
       "      <td>...</td>\n",
       "      <td>4</td>\n",
       "      <td>3</td>\n",
       "      <td>2</td>\n",
       "      <td>1</td>\n",
       "      <td>2</td>\n",
       "      <td>5</td>\n",
       "      <td>4</td>\n",
       "      <td>6</td>\n",
       "      <td>10</td>\n",
       "      <td>10</td>\n",
       "    </tr>\n",
       "    <tr>\n",
       "      <th>5</th>\n",
       "      <td>GP</td>\n",
       "      <td>M</td>\n",
       "      <td>16</td>\n",
       "      <td>U</td>\n",
       "      <td>LE3</td>\n",
       "      <td>T</td>\n",
       "      <td>4</td>\n",
       "      <td>3</td>\n",
       "      <td>services</td>\n",
       "      <td>other</td>\n",
       "      <td>...</td>\n",
       "      <td>5</td>\n",
       "      <td>4</td>\n",
       "      <td>2</td>\n",
       "      <td>1</td>\n",
       "      <td>2</td>\n",
       "      <td>5</td>\n",
       "      <td>10</td>\n",
       "      <td>15</td>\n",
       "      <td>15</td>\n",
       "      <td>15</td>\n",
       "    </tr>\n",
       "    <tr>\n",
       "      <th>6</th>\n",
       "      <td>GP</td>\n",
       "      <td>M</td>\n",
       "      <td>16</td>\n",
       "      <td>U</td>\n",
       "      <td>LE3</td>\n",
       "      <td>T</td>\n",
       "      <td>2</td>\n",
       "      <td>2</td>\n",
       "      <td>other</td>\n",
       "      <td>other</td>\n",
       "      <td>...</td>\n",
       "      <td>4</td>\n",
       "      <td>4</td>\n",
       "      <td>4</td>\n",
       "      <td>1</td>\n",
       "      <td>1</td>\n",
       "      <td>3</td>\n",
       "      <td>0</td>\n",
       "      <td>12</td>\n",
       "      <td>12</td>\n",
       "      <td>11</td>\n",
       "    </tr>\n",
       "    <tr>\n",
       "      <th>7</th>\n",
       "      <td>GP</td>\n",
       "      <td>F</td>\n",
       "      <td>17</td>\n",
       "      <td>U</td>\n",
       "      <td>GT3</td>\n",
       "      <td>A</td>\n",
       "      <td>4</td>\n",
       "      <td>4</td>\n",
       "      <td>other</td>\n",
       "      <td>teacher</td>\n",
       "      <td>...</td>\n",
       "      <td>4</td>\n",
       "      <td>1</td>\n",
       "      <td>4</td>\n",
       "      <td>1</td>\n",
       "      <td>1</td>\n",
       "      <td>1</td>\n",
       "      <td>6</td>\n",
       "      <td>6</td>\n",
       "      <td>5</td>\n",
       "      <td>6</td>\n",
       "    </tr>\n",
       "    <tr>\n",
       "      <th>8</th>\n",
       "      <td>GP</td>\n",
       "      <td>M</td>\n",
       "      <td>15</td>\n",
       "      <td>U</td>\n",
       "      <td>LE3</td>\n",
       "      <td>A</td>\n",
       "      <td>3</td>\n",
       "      <td>2</td>\n",
       "      <td>services</td>\n",
       "      <td>other</td>\n",
       "      <td>...</td>\n",
       "      <td>4</td>\n",
       "      <td>2</td>\n",
       "      <td>2</td>\n",
       "      <td>1</td>\n",
       "      <td>1</td>\n",
       "      <td>1</td>\n",
       "      <td>0</td>\n",
       "      <td>16</td>\n",
       "      <td>18</td>\n",
       "      <td>19</td>\n",
       "    </tr>\n",
       "    <tr>\n",
       "      <th>9</th>\n",
       "      <td>GP</td>\n",
       "      <td>M</td>\n",
       "      <td>15</td>\n",
       "      <td>U</td>\n",
       "      <td>GT3</td>\n",
       "      <td>T</td>\n",
       "      <td>3</td>\n",
       "      <td>4</td>\n",
       "      <td>other</td>\n",
       "      <td>other</td>\n",
       "      <td>...</td>\n",
       "      <td>5</td>\n",
       "      <td>5</td>\n",
       "      <td>1</td>\n",
       "      <td>1</td>\n",
       "      <td>1</td>\n",
       "      <td>5</td>\n",
       "      <td>0</td>\n",
       "      <td>14</td>\n",
       "      <td>15</td>\n",
       "      <td>15</td>\n",
       "    </tr>\n",
       "    <tr>\n",
       "      <th>10</th>\n",
       "      <td>GP</td>\n",
       "      <td>F</td>\n",
       "      <td>15</td>\n",
       "      <td>U</td>\n",
       "      <td>GT3</td>\n",
       "      <td>T</td>\n",
       "      <td>4</td>\n",
       "      <td>4</td>\n",
       "      <td>teacher</td>\n",
       "      <td>health</td>\n",
       "      <td>...</td>\n",
       "      <td>3</td>\n",
       "      <td>3</td>\n",
       "      <td>3</td>\n",
       "      <td>1</td>\n",
       "      <td>2</td>\n",
       "      <td>2</td>\n",
       "      <td>0</td>\n",
       "      <td>10</td>\n",
       "      <td>8</td>\n",
       "      <td>9</td>\n",
       "    </tr>\n",
       "    <tr>\n",
       "      <th>11</th>\n",
       "      <td>GP</td>\n",
       "      <td>F</td>\n",
       "      <td>15</td>\n",
       "      <td>U</td>\n",
       "      <td>GT3</td>\n",
       "      <td>T</td>\n",
       "      <td>2</td>\n",
       "      <td>1</td>\n",
       "      <td>services</td>\n",
       "      <td>other</td>\n",
       "      <td>...</td>\n",
       "      <td>5</td>\n",
       "      <td>2</td>\n",
       "      <td>2</td>\n",
       "      <td>1</td>\n",
       "      <td>1</td>\n",
       "      <td>4</td>\n",
       "      <td>4</td>\n",
       "      <td>10</td>\n",
       "      <td>12</td>\n",
       "      <td>12</td>\n",
       "    </tr>\n",
       "    <tr>\n",
       "      <th>12</th>\n",
       "      <td>GP</td>\n",
       "      <td>M</td>\n",
       "      <td>15</td>\n",
       "      <td>U</td>\n",
       "      <td>LE3</td>\n",
       "      <td>T</td>\n",
       "      <td>4</td>\n",
       "      <td>4</td>\n",
       "      <td>health</td>\n",
       "      <td>services</td>\n",
       "      <td>...</td>\n",
       "      <td>4</td>\n",
       "      <td>3</td>\n",
       "      <td>3</td>\n",
       "      <td>1</td>\n",
       "      <td>3</td>\n",
       "      <td>5</td>\n",
       "      <td>2</td>\n",
       "      <td>14</td>\n",
       "      <td>14</td>\n",
       "      <td>14</td>\n",
       "    </tr>\n",
       "    <tr>\n",
       "      <th>13</th>\n",
       "      <td>GP</td>\n",
       "      <td>M</td>\n",
       "      <td>15</td>\n",
       "      <td>U</td>\n",
       "      <td>GT3</td>\n",
       "      <td>T</td>\n",
       "      <td>4</td>\n",
       "      <td>3</td>\n",
       "      <td>teacher</td>\n",
       "      <td>other</td>\n",
       "      <td>...</td>\n",
       "      <td>5</td>\n",
       "      <td>4</td>\n",
       "      <td>3</td>\n",
       "      <td>1</td>\n",
       "      <td>2</td>\n",
       "      <td>3</td>\n",
       "      <td>2</td>\n",
       "      <td>10</td>\n",
       "      <td>10</td>\n",
       "      <td>11</td>\n",
       "    </tr>\n",
       "    <tr>\n",
       "      <th>14</th>\n",
       "      <td>GP</td>\n",
       "      <td>M</td>\n",
       "      <td>15</td>\n",
       "      <td>U</td>\n",
       "      <td>GT3</td>\n",
       "      <td>A</td>\n",
       "      <td>2</td>\n",
       "      <td>2</td>\n",
       "      <td>other</td>\n",
       "      <td>other</td>\n",
       "      <td>...</td>\n",
       "      <td>4</td>\n",
       "      <td>5</td>\n",
       "      <td>2</td>\n",
       "      <td>1</td>\n",
       "      <td>1</td>\n",
       "      <td>3</td>\n",
       "      <td>0</td>\n",
       "      <td>14</td>\n",
       "      <td>16</td>\n",
       "      <td>16</td>\n",
       "    </tr>\n",
       "  </tbody>\n",
       "</table>\n",
       "<p>15 rows × 33 columns</p>\n",
       "</div>"
      ],
      "text/plain": [
       "   school sex  age address famsize Pstatus  Medu  Fedu      Mjob      Fjob  \\\n",
       "0      GP   F   18       U     GT3       A     4     4   at_home   teacher   \n",
       "1      GP   F   17       U     GT3       T     1     1   at_home     other   \n",
       "2      GP   F   15       U     LE3       T     1     1   at_home     other   \n",
       "3      GP   F   15       U     GT3       T     4     2    health  services   \n",
       "4      GP   F   16       U     GT3       T     3     3     other     other   \n",
       "5      GP   M   16       U     LE3       T     4     3  services     other   \n",
       "6      GP   M   16       U     LE3       T     2     2     other     other   \n",
       "7      GP   F   17       U     GT3       A     4     4     other   teacher   \n",
       "8      GP   M   15       U     LE3       A     3     2  services     other   \n",
       "9      GP   M   15       U     GT3       T     3     4     other     other   \n",
       "10     GP   F   15       U     GT3       T     4     4   teacher    health   \n",
       "11     GP   F   15       U     GT3       T     2     1  services     other   \n",
       "12     GP   M   15       U     LE3       T     4     4    health  services   \n",
       "13     GP   M   15       U     GT3       T     4     3   teacher     other   \n",
       "14     GP   M   15       U     GT3       A     2     2     other     other   \n",
       "\n",
       "    ... famrel freetime  goout  Dalc  Walc health absences  G1  G2  G3  \n",
       "0   ...      4        3      4     1     1      3        6   5   6   6  \n",
       "1   ...      5        3      3     1     1      3        4   5   5   6  \n",
       "2   ...      4        3      2     2     3      3       10   7   8  10  \n",
       "3   ...      3        2      2     1     1      5        2  15  14  15  \n",
       "4   ...      4        3      2     1     2      5        4   6  10  10  \n",
       "5   ...      5        4      2     1     2      5       10  15  15  15  \n",
       "6   ...      4        4      4     1     1      3        0  12  12  11  \n",
       "7   ...      4        1      4     1     1      1        6   6   5   6  \n",
       "8   ...      4        2      2     1     1      1        0  16  18  19  \n",
       "9   ...      5        5      1     1     1      5        0  14  15  15  \n",
       "10  ...      3        3      3     1     2      2        0  10   8   9  \n",
       "11  ...      5        2      2     1     1      4        4  10  12  12  \n",
       "12  ...      4        3      3     1     3      5        2  14  14  14  \n",
       "13  ...      5        4      3     1     2      3        2  10  10  11  \n",
       "14  ...      4        5      2     1     1      3        0  14  16  16  \n",
       "\n",
       "[15 rows x 33 columns]"
      ]
     },
     "execution_count": 168,
     "metadata": {},
     "output_type": "execute_result"
    }
   ],
   "source": [
    "data.head(15)"
   ]
  },
  {
   "cell_type": "markdown",
   "id": "2f29b054",
   "metadata": {},
   "source": [
    "# **Explanatory Analysis**"
   ]
  },
  {
   "cell_type": "markdown",
   "id": "258eba96",
   "metadata": {},
   "source": [
    "Find more information about the features and types using the `info()`  method.\n"
   ]
  },
  {
   "cell_type": "code",
   "execution_count": 169,
   "id": "e24131b9",
   "metadata": {},
   "outputs": [
    {
     "name": "stdout",
     "output_type": "stream",
     "text": [
      "<class 'pandas.core.frame.DataFrame'>\n",
      "RangeIndex: 395 entries, 0 to 394\n",
      "Data columns (total 33 columns):\n",
      " #   Column      Non-Null Count  Dtype \n",
      "---  ------      --------------  ----- \n",
      " 0   school      395 non-null    object\n",
      " 1   sex         395 non-null    object\n",
      " 2   age         395 non-null    int64 \n",
      " 3   address     395 non-null    object\n",
      " 4   famsize     395 non-null    object\n",
      " 5   Pstatus     395 non-null    object\n",
      " 6   Medu        395 non-null    int64 \n",
      " 7   Fedu        395 non-null    int64 \n",
      " 8   Mjob        395 non-null    object\n",
      " 9   Fjob        395 non-null    object\n",
      " 10  reason      395 non-null    object\n",
      " 11  guardian    395 non-null    object\n",
      " 12  traveltime  395 non-null    int64 \n",
      " 13  studytime   395 non-null    int64 \n",
      " 14  failures    395 non-null    int64 \n",
      " 15  schoolsup   395 non-null    object\n",
      " 16  famsup      395 non-null    object\n",
      " 17  paid        395 non-null    object\n",
      " 18  activities  395 non-null    object\n",
      " 19  nursery     395 non-null    object\n",
      " 20  higher      395 non-null    object\n",
      " 21  internet    395 non-null    object\n",
      " 22  romantic    395 non-null    object\n",
      " 23  famrel      395 non-null    int64 \n",
      " 24  freetime    395 non-null    int64 \n",
      " 25  goout       395 non-null    int64 \n",
      " 26  Dalc        395 non-null    int64 \n",
      " 27  Walc        395 non-null    int64 \n",
      " 28  health      395 non-null    int64 \n",
      " 29  absences    395 non-null    int64 \n",
      " 30  G1          395 non-null    int64 \n",
      " 31  G2          395 non-null    int64 \n",
      " 32  G3          395 non-null    int64 \n",
      "dtypes: int64(16), object(17)\n",
      "memory usage: 102.0+ KB\n"
     ]
    }
   ],
   "source": [
    "data.info()"
   ]
  },
  {
   "cell_type": "markdown",
   "id": "33adb62f",
   "metadata": {},
   "source": [
    "Ensure that there are no duplicates in the dataset."
   ]
  },
  {
   "cell_type": "code",
   "execution_count": 170,
   "id": "aa7bd637",
   "metadata": {},
   "outputs": [],
   "source": [
    "data.drop_duplicates(inplace=True)"
   ]
  },
  {
   "cell_type": "markdown",
   "id": "f496134b",
   "metadata": {},
   "source": [
    "Take a first look at the target variable, the final grade by looking at its distribution."
   ]
  },
  {
   "cell_type": "code",
   "execution_count": 171,
   "id": "bdb14308",
   "metadata": {},
   "outputs": [
    {
     "data": {
      "image/png": "[encoded data removed]",
      "text/plain": [
       "<Figure size 432x288 with 1 Axes>"
      ]
     },
     "metadata": {
      "needs_background": "light"
     },
     "output_type": "display_data"
    }
   ],
   "source": [
    "data.G3.hist();"
   ]
  },
  {
   "cell_type": "markdown",
   "id": "f7f70cea",
   "metadata": {},
   "source": [
    "One can see that there is bump between 0 and 5. There should be a smooth distribution. One interpreation is that having zero points should be a rare exception, and if one really tries one should get at last one point. Thus delete these rows and reset index."
   ]
  },
  {
   "cell_type": "code",
   "execution_count": 172,
   "id": "89f1e623",
   "metadata": {},
   "outputs": [],
   "source": [
    "# Import the data \n",
    "data.drop(index=data.loc[data['G3']==0].index,inplace=True)\n",
    "data.reset_index(drop=True, inplace=True)"
   ]
  },
  {
   "cell_type": "markdown",
   "id": "83c16df3",
   "metadata": {},
   "source": [
    "Plot data again."
   ]
  },
  {
   "cell_type": "code",
   "execution_count": 173,
   "id": "7bb26d49",
   "metadata": {},
   "outputs": [
    {
     "data": {
      "image/png": "[encoded data removed]",
      "text/plain": [
       "<Figure size 432x288 with 1 Axes>"
      ]
     },
     "metadata": {
      "needs_background": "light"
     },
     "output_type": "display_data"
    }
   ],
   "source": [
    "data.G3.hist();"
   ]
  },
  {
   "cell_type": "markdown",
   "id": "03cbd07a",
   "metadata": {},
   "source": [
    "## Test target variable for normality"
   ]
  },
  {
   "cell_type": "markdown",
   "id": "55360468",
   "metadata": {},
   "source": [
    "Test whether the target variable is normaly distributed."
   ]
  },
  {
   "cell_type": "code",
   "execution_count": 174,
   "id": "c843ecce",
   "metadata": {},
   "outputs": [
    {
     "data": {
      "text/plain": [
       "NormaltestResult(statistic=6.102380454040675, pvalue=0.04730259005165342)"
      ]
     },
     "execution_count": 174,
     "metadata": {},
     "output_type": "execute_result"
    }
   ],
   "source": [
    "normaltest(data.G3.values)"
   ]
  },
  {
   "cell_type": "markdown",
   "id": "1727d5bc",
   "metadata": {},
   "source": [
    "Based on the p-value the formally the target variable is not normally distributed, but pretty close since the p-value is close to 0.05.  "
   ]
  },
  {
   "cell_type": "markdown",
   "id": "7175b140",
   "metadata": {},
   "source": [
    "Take a look at the numerical and ordinal attributes. "
   ]
  },
  {
   "cell_type": "code",
   "execution_count": 175,
   "id": "54863a20",
   "metadata": {},
   "outputs": [
    {
     "data": {
      "text/html": [
       "<div>\n",
       "<style scoped>\n",
       "    .dataframe tbody tr th:only-of-type {\n",
       "        vertical-align: middle;\n",
       "    }\n",
       "\n",
       "    .dataframe tbody tr th {\n",
       "        vertical-align: top;\n",
       "    }\n",
       "\n",
       "    .dataframe thead th {\n",
       "        text-align: right;\n",
       "    }\n",
       "</style>\n",
       "<table border=\"1\" class=\"dataframe\">\n",
       "  <thead>\n",
       "    <tr style=\"text-align: right;\">\n",
       "      <th></th>\n",
       "      <th>age</th>\n",
       "      <th>Medu</th>\n",
       "      <th>Fedu</th>\n",
       "      <th>traveltime</th>\n",
       "      <th>studytime</th>\n",
       "      <th>failures</th>\n",
       "      <th>famrel</th>\n",
       "      <th>freetime</th>\n",
       "      <th>goout</th>\n",
       "      <th>Dalc</th>\n",
       "      <th>Walc</th>\n",
       "      <th>health</th>\n",
       "      <th>absences</th>\n",
       "      <th>G1</th>\n",
       "      <th>G2</th>\n",
       "      <th>G3</th>\n",
       "    </tr>\n",
       "  </thead>\n",
       "  <tbody>\n",
       "    <tr>\n",
       "      <th>count</th>\n",
       "      <td>357.000000</td>\n",
       "      <td>357.000000</td>\n",
       "      <td>357.000000</td>\n",
       "      <td>357.000000</td>\n",
       "      <td>357.000000</td>\n",
       "      <td>357.000000</td>\n",
       "      <td>357.000000</td>\n",
       "      <td>357.000000</td>\n",
       "      <td>357.000000</td>\n",
       "      <td>357.000000</td>\n",
       "      <td>357.000000</td>\n",
       "      <td>357.000000</td>\n",
       "      <td>357.000000</td>\n",
       "      <td>357.000000</td>\n",
       "      <td>357.000000</td>\n",
       "      <td>357.000000</td>\n",
       "    </tr>\n",
       "    <tr>\n",
       "      <th>mean</th>\n",
       "      <td>16.655462</td>\n",
       "      <td>2.795518</td>\n",
       "      <td>2.546218</td>\n",
       "      <td>1.431373</td>\n",
       "      <td>2.042017</td>\n",
       "      <td>0.271709</td>\n",
       "      <td>3.955182</td>\n",
       "      <td>3.246499</td>\n",
       "      <td>3.098039</td>\n",
       "      <td>1.495798</td>\n",
       "      <td>2.330532</td>\n",
       "      <td>3.549020</td>\n",
       "      <td>6.316527</td>\n",
       "      <td>11.268908</td>\n",
       "      <td>11.358543</td>\n",
       "      <td>11.523810</td>\n",
       "    </tr>\n",
       "    <tr>\n",
       "      <th>std</th>\n",
       "      <td>1.268262</td>\n",
       "      <td>1.093999</td>\n",
       "      <td>1.084217</td>\n",
       "      <td>0.686075</td>\n",
       "      <td>0.831895</td>\n",
       "      <td>0.671750</td>\n",
       "      <td>0.885721</td>\n",
       "      <td>1.011601</td>\n",
       "      <td>1.090779</td>\n",
       "      <td>0.919886</td>\n",
       "      <td>1.294974</td>\n",
       "      <td>1.402638</td>\n",
       "      <td>8.187623</td>\n",
       "      <td>3.240450</td>\n",
       "      <td>3.147188</td>\n",
       "      <td>3.227797</td>\n",
       "    </tr>\n",
       "    <tr>\n",
       "      <th>min</th>\n",
       "      <td>15.000000</td>\n",
       "      <td>0.000000</td>\n",
       "      <td>0.000000</td>\n",
       "      <td>1.000000</td>\n",
       "      <td>1.000000</td>\n",
       "      <td>0.000000</td>\n",
       "      <td>1.000000</td>\n",
       "      <td>1.000000</td>\n",
       "      <td>1.000000</td>\n",
       "      <td>1.000000</td>\n",
       "      <td>1.000000</td>\n",
       "      <td>1.000000</td>\n",
       "      <td>0.000000</td>\n",
       "      <td>3.000000</td>\n",
       "      <td>5.000000</td>\n",
       "      <td>4.000000</td>\n",
       "    </tr>\n",
       "    <tr>\n",
       "      <th>25%</th>\n",
       "      <td>16.000000</td>\n",
       "      <td>2.000000</td>\n",
       "      <td>2.000000</td>\n",
       "      <td>1.000000</td>\n",
       "      <td>1.000000</td>\n",
       "      <td>0.000000</td>\n",
       "      <td>4.000000</td>\n",
       "      <td>3.000000</td>\n",
       "      <td>2.000000</td>\n",
       "      <td>1.000000</td>\n",
       "      <td>1.000000</td>\n",
       "      <td>3.000000</td>\n",
       "      <td>2.000000</td>\n",
       "      <td>9.000000</td>\n",
       "      <td>9.000000</td>\n",
       "      <td>9.000000</td>\n",
       "    </tr>\n",
       "    <tr>\n",
       "      <th>50%</th>\n",
       "      <td>17.000000</td>\n",
       "      <td>3.000000</td>\n",
       "      <td>3.000000</td>\n",
       "      <td>1.000000</td>\n",
       "      <td>2.000000</td>\n",
       "      <td>0.000000</td>\n",
       "      <td>4.000000</td>\n",
       "      <td>3.000000</td>\n",
       "      <td>3.000000</td>\n",
       "      <td>1.000000</td>\n",
       "      <td>2.000000</td>\n",
       "      <td>4.000000</td>\n",
       "      <td>4.000000</td>\n",
       "      <td>11.000000</td>\n",
       "      <td>11.000000</td>\n",
       "      <td>11.000000</td>\n",
       "    </tr>\n",
       "    <tr>\n",
       "      <th>75%</th>\n",
       "      <td>18.000000</td>\n",
       "      <td>4.000000</td>\n",
       "      <td>3.000000</td>\n",
       "      <td>2.000000</td>\n",
       "      <td>2.000000</td>\n",
       "      <td>0.000000</td>\n",
       "      <td>5.000000</td>\n",
       "      <td>4.000000</td>\n",
       "      <td>4.000000</td>\n",
       "      <td>2.000000</td>\n",
       "      <td>3.000000</td>\n",
       "      <td>5.000000</td>\n",
       "      <td>8.000000</td>\n",
       "      <td>14.000000</td>\n",
       "      <td>14.000000</td>\n",
       "      <td>14.000000</td>\n",
       "    </tr>\n",
       "    <tr>\n",
       "      <th>max</th>\n",
       "      <td>22.000000</td>\n",
       "      <td>4.000000</td>\n",
       "      <td>4.000000</td>\n",
       "      <td>4.000000</td>\n",
       "      <td>4.000000</td>\n",
       "      <td>3.000000</td>\n",
       "      <td>5.000000</td>\n",
       "      <td>5.000000</td>\n",
       "      <td>5.000000</td>\n",
       "      <td>5.000000</td>\n",
       "      <td>5.000000</td>\n",
       "      <td>5.000000</td>\n",
       "      <td>75.000000</td>\n",
       "      <td>19.000000</td>\n",
       "      <td>19.000000</td>\n",
       "      <td>20.000000</td>\n",
       "    </tr>\n",
       "  </tbody>\n",
       "</table>\n",
       "</div>"
      ],
      "text/plain": [
       "              age        Medu        Fedu  traveltime   studytime    failures  \\\n",
       "count  357.000000  357.000000  357.000000  357.000000  357.000000  357.000000   \n",
       "mean    16.655462    2.795518    2.546218    1.431373    2.042017    0.271709   \n",
       "std      1.268262    1.093999    1.084217    0.686075    0.831895    0.671750   \n",
       "min     15.000000    0.000000    0.000000    1.000000    1.000000    0.000000   \n",
       "25%     16.000000    2.000000    2.000000    1.000000    1.000000    0.000000   \n",
       "50%     17.000000    3.000000    3.000000    1.000000    2.000000    0.000000   \n",
       "75%     18.000000    4.000000    3.000000    2.000000    2.000000    0.000000   \n",
       "max     22.000000    4.000000    4.000000    4.000000    4.000000    3.000000   \n",
       "\n",
       "           famrel    freetime       goout        Dalc        Walc      health  \\\n",
       "count  357.000000  357.000000  357.000000  357.000000  357.000000  357.000000   \n",
       "mean     3.955182    3.246499    3.098039    1.495798    2.330532    3.549020   \n",
       "std      0.885721    1.011601    1.090779    0.919886    1.294974    1.402638   \n",
       "min      1.000000    1.000000    1.000000    1.000000    1.000000    1.000000   \n",
       "25%      4.000000    3.000000    2.000000    1.000000    1.000000    3.000000   \n",
       "50%      4.000000    3.000000    3.000000    1.000000    2.000000    4.000000   \n",
       "75%      5.000000    4.000000    4.000000    2.000000    3.000000    5.000000   \n",
       "max      5.000000    5.000000    5.000000    5.000000    5.000000    5.000000   \n",
       "\n",
       "         absences          G1          G2          G3  \n",
       "count  357.000000  357.000000  357.000000  357.000000  \n",
       "mean     6.316527   11.268908   11.358543   11.523810  \n",
       "std      8.187623    3.240450    3.147188    3.227797  \n",
       "min      0.000000    3.000000    5.000000    4.000000  \n",
       "25%      2.000000    9.000000    9.000000    9.000000  \n",
       "50%      4.000000   11.000000   11.000000   11.000000  \n",
       "75%      8.000000   14.000000   14.000000   14.000000  \n",
       "max     75.000000   19.000000   19.000000   20.000000  "
      ]
     },
     "execution_count": 175,
     "metadata": {},
     "output_type": "execute_result"
    }
   ],
   "source": [
    "data.describe(exclude='object')"
   ]
  },
  {
   "cell_type": "markdown",
   "id": "30247fc0",
   "metadata": {},
   "source": [
    "Look at correlations of numerical features with the target variable."
   ]
  },
  {
   "cell_type": "code",
   "execution_count": 176,
   "id": "a0063c04",
   "metadata": {},
   "outputs": [
    {
     "data": {
      "text/plain": [
       "age          -0.140372\n",
       "Medu          0.190308\n",
       "Fedu          0.158811\n",
       "traveltime   -0.099785\n",
       "studytime     0.126728\n",
       "failures     -0.293831\n",
       "famrel        0.037711\n",
       "freetime     -0.021589\n",
       "goout        -0.177383\n",
       "Dalc         -0.140690\n",
       "Walc         -0.190054\n",
       "health       -0.081691\n",
       "absences     -0.213129\n",
       "G1            0.891805\n",
       "G2            0.965583\n",
       "G3            1.000000\n",
       "Name: G3, dtype: float64"
      ]
     },
     "execution_count": 176,
     "metadata": {},
     "output_type": "execute_result"
    }
   ],
   "source": [
    "data.corr()['G3']"
   ]
  },
  {
   "cell_type": "markdown",
   "id": "26040310",
   "metadata": {},
   "source": [
    "One can see that the second period grade highly corrolated with the final grade while the other variables except the first garde having only a minor impact. So the the second grade already seems to be good predictor. Look at a scatter plot of the grades."
   ]
  },
  {
   "cell_type": "code",
   "execution_count": 177,
   "id": "0dc09e97",
   "metadata": {},
   "outputs": [
    {
     "data": {
      "text/plain": [
       "<seaborn.axisgrid.PairGrid at 0x1f48e050670>"
      ]
     },
     "execution_count": 177,
     "metadata": {},
     "output_type": "execute_result"
    },
    {
     "data": {
      "image/png": "[encoded data removed]",
      "text/plain": [
       "<Figure size 540x540 with 12 Axes>"
      ]
     },
     "metadata": {
      "needs_background": "light"
     },
     "output_type": "display_data"
    }
   ],
   "source": [
    "sns.pairplot(data[['G1','G2','G3']])"
   ]
  },
  {
   "cell_type": "markdown",
   "id": "12c8b35a",
   "metadata": {},
   "source": [
    "Lets take a look if one just takes second grade as a predictor."
   ]
  },
  {
   "cell_type": "code",
   "execution_count": 178,
   "id": "747c65ea",
   "metadata": {},
   "outputs": [
    {
     "data": {
      "text/plain": [
       "count    357.000000\n",
       "mean      -0.165266\n",
       "std        0.840093\n",
       "min       -3.000000\n",
       "25%       -1.000000\n",
       "50%        0.000000\n",
       "75%        0.000000\n",
       "max        2.000000\n",
       "dtype: float64"
      ]
     },
     "execution_count": 178,
     "metadata": {},
     "output_type": "execute_result"
    }
   ],
   "source": [
    "predictor = data['G2']-data['G3']\n",
    "predictor.describe()"
   ]
  },
  {
   "cell_type": "markdown",
   "id": "5657d7f9",
   "metadata": {},
   "source": [
    "By looking at these summary statistics one can see that the second grade is already a very good predictor with little variance and maximum deviation of three points. \n"
   ]
  },
  {
   "cell_type": "code",
   "execution_count": 179,
   "id": "63c877ca",
   "metadata": {},
   "outputs": [
    {
     "data": {
      "text/plain": [
       "0     -5.52381\n",
       "1     -6.52381\n",
       "2     -3.52381\n",
       "3      2.47619\n",
       "4     -1.52381\n",
       "        ...   \n",
       "352   -2.52381\n",
       "353    4.47619\n",
       "354   -3.52381\n",
       "355    0.47619\n",
       "356   -2.52381\n",
       "Name: G2, Length: 357, dtype: float64"
      ]
     },
     "execution_count": 179,
     "metadata": {},
     "output_type": "execute_result"
    }
   ],
   "source": [
    "data['G2']-data['G3'].mean()"
   ]
  },
  {
   "cell_type": "markdown",
   "id": "a4049952",
   "metadata": {},
   "source": [
    "One can see that the second grade is already a good predictor."
   ]
  },
  {
   "cell_type": "markdown",
   "id": "5acc9121",
   "metadata": {},
   "source": [
    "Now take a look the categorical attributes."
   ]
  },
  {
   "cell_type": "code",
   "execution_count": 180,
   "id": "26a974eb",
   "metadata": {},
   "outputs": [
    {
     "data": {
      "text/html": [
       "<div>\n",
       "<style scoped>\n",
       "    .dataframe tbody tr th:only-of-type {\n",
       "        vertical-align: middle;\n",
       "    }\n",
       "\n",
       "    .dataframe tbody tr th {\n",
       "        vertical-align: top;\n",
       "    }\n",
       "\n",
       "    .dataframe thead th {\n",
       "        text-align: right;\n",
       "    }\n",
       "</style>\n",
       "<table border=\"1\" class=\"dataframe\">\n",
       "  <thead>\n",
       "    <tr style=\"text-align: right;\">\n",
       "      <th></th>\n",
       "      <th>school</th>\n",
       "      <th>sex</th>\n",
       "      <th>address</th>\n",
       "      <th>famsize</th>\n",
       "      <th>Pstatus</th>\n",
       "      <th>Mjob</th>\n",
       "      <th>Fjob</th>\n",
       "      <th>reason</th>\n",
       "      <th>guardian</th>\n",
       "      <th>schoolsup</th>\n",
       "      <th>famsup</th>\n",
       "      <th>paid</th>\n",
       "      <th>activities</th>\n",
       "      <th>nursery</th>\n",
       "      <th>higher</th>\n",
       "      <th>internet</th>\n",
       "      <th>romantic</th>\n",
       "    </tr>\n",
       "  </thead>\n",
       "  <tbody>\n",
       "    <tr>\n",
       "      <th>count</th>\n",
       "      <td>357</td>\n",
       "      <td>357</td>\n",
       "      <td>357</td>\n",
       "      <td>357</td>\n",
       "      <td>357</td>\n",
       "      <td>357</td>\n",
       "      <td>357</td>\n",
       "      <td>357</td>\n",
       "      <td>357</td>\n",
       "      <td>357</td>\n",
       "      <td>357</td>\n",
       "      <td>357</td>\n",
       "      <td>357</td>\n",
       "      <td>357</td>\n",
       "      <td>357</td>\n",
       "      <td>357</td>\n",
       "      <td>357</td>\n",
       "    </tr>\n",
       "    <tr>\n",
       "      <th>unique</th>\n",
       "      <td>2</td>\n",
       "      <td>2</td>\n",
       "      <td>2</td>\n",
       "      <td>2</td>\n",
       "      <td>2</td>\n",
       "      <td>5</td>\n",
       "      <td>5</td>\n",
       "      <td>4</td>\n",
       "      <td>3</td>\n",
       "      <td>2</td>\n",
       "      <td>2</td>\n",
       "      <td>2</td>\n",
       "      <td>2</td>\n",
       "      <td>2</td>\n",
       "      <td>2</td>\n",
       "      <td>2</td>\n",
       "      <td>2</td>\n",
       "    </tr>\n",
       "    <tr>\n",
       "      <th>top</th>\n",
       "      <td>GP</td>\n",
       "      <td>F</td>\n",
       "      <td>U</td>\n",
       "      <td>GT3</td>\n",
       "      <td>T</td>\n",
       "      <td>other</td>\n",
       "      <td>other</td>\n",
       "      <td>course</td>\n",
       "      <td>mother</td>\n",
       "      <td>no</td>\n",
       "      <td>yes</td>\n",
       "      <td>no</td>\n",
       "      <td>yes</td>\n",
       "      <td>yes</td>\n",
       "      <td>yes</td>\n",
       "      <td>yes</td>\n",
       "      <td>no</td>\n",
       "    </tr>\n",
       "    <tr>\n",
       "      <th>freq</th>\n",
       "      <td>315</td>\n",
       "      <td>185</td>\n",
       "      <td>279</td>\n",
       "      <td>250</td>\n",
       "      <td>318</td>\n",
       "      <td>127</td>\n",
       "      <td>196</td>\n",
       "      <td>126</td>\n",
       "      <td>248</td>\n",
       "      <td>307</td>\n",
       "      <td>219</td>\n",
       "      <td>184</td>\n",
       "      <td>180</td>\n",
       "      <td>286</td>\n",
       "      <td>343</td>\n",
       "      <td>299</td>\n",
       "      <td>245</td>\n",
       "    </tr>\n",
       "  </tbody>\n",
       "</table>\n",
       "</div>"
      ],
      "text/plain": [
       "       school  sex address famsize Pstatus   Mjob   Fjob  reason guardian  \\\n",
       "count     357  357     357     357     357    357    357     357      357   \n",
       "unique      2    2       2       2       2      5      5       4        3   \n",
       "top        GP    F       U     GT3       T  other  other  course   mother   \n",
       "freq      315  185     279     250     318    127    196     126      248   \n",
       "\n",
       "       schoolsup famsup paid activities nursery higher internet romantic  \n",
       "count        357    357  357        357     357    357      357      357  \n",
       "unique         2      2    2          2       2      2        2        2  \n",
       "top           no    yes   no        yes     yes    yes      yes       no  \n",
       "freq         307    219  184        180     286    343      299      245  "
      ]
     },
     "execution_count": 180,
     "metadata": {},
     "output_type": "execute_result"
    }
   ],
   "source": [
    "data.describe(exclude='int64')"
   ]
  },
  {
   "cell_type": "markdown",
   "id": "f13a94eb",
   "metadata": {},
   "source": [
    "To summarize these results most students live in a urban area, have access to internet and their parents live together. Also most students have no extra educational report(schoolsup). "
   ]
  },
  {
   "cell_type": "markdown",
   "id": "de8bb46b",
   "metadata": {},
   "source": [
    "Remove some columns for simplicity. In the end for the regression analysis, only a few attributes will be kept anyway."
   ]
  },
  {
   "cell_type": "code",
   "execution_count": 181,
   "id": "b47afeb1",
   "metadata": {},
   "outputs": [],
   "source": [
    "data.drop(columns=['Mjob','Fjob','reason','guardian'],inplace = True)"
   ]
  },
  {
   "cell_type": "markdown",
   "id": "ff923a56",
   "metadata": {},
   "source": [
    "Now look for correlations between target variable and categorical variables, by boxplots for each attribute by the final grade."
   ]
  },
  {
   "cell_type": "code",
   "execution_count": 182,
   "id": "fd4bca9c",
   "metadata": {},
   "outputs": [],
   "source": [
    "mask = data.dtypes == np.object\n",
    "categorical_cols = data.columns[mask]"
   ]
  },
  {
   "cell_type": "code",
   "execution_count": 183,
   "id": "26b24fed",
   "metadata": {},
   "outputs": [],
   "source": [
    "categorical_cols = list(categorical_cols)\n"
   ]
  },
  {
   "cell_type": "code",
   "execution_count": 184,
   "id": "e8edd269",
   "metadata": {
    "scrolled": true
   },
   "outputs": [
    {
     "data": {
      "image/png": "[encoded data removed]",
      "text/plain": [
       "<Figure size 1728x1152 with 13 Axes>"
      ]
     },
     "metadata": {
      "needs_background": "light"
     },
     "output_type": "display_data"
    }
   ],
   "source": [
    "fig = plt.figure(figsize=(24,16))\n",
    "\n",
    "\n",
    "a = 4  # number of rows\n",
    "b = 5  # number of columns\n",
    "c = 1  # initialize plot counter\n",
    "\n",
    "for i in list(categorical_cols):\n",
    "    plt.subplot(a,b,c)                \n",
    "    plt.xlabel(i)\n",
    "    sns.boxplot(x=i,y='G3',data=data)\n",
    "    c = c + 1\n",
    "    \n",
    "plt.tight_layout()\n",
    "plt.show()"
   ]
  },
  {
   "cell_type": "markdown",
   "id": "e260a49d",
   "metadata": {},
   "source": [
    "One can see that students being male,  living in urban area, having access to internet have slightly better grades."
   ]
  },
  {
   "cell_type": "markdown",
   "id": "1b4298af",
   "metadata": {},
   "source": [
    "# Predictive analysis"
   ]
  },
  {
   "cell_type": "markdown",
   "id": "06990144",
   "metadata": {},
   "source": [
    "The goal of this section is predict the final grade via several regression models and finding the best model."
   ]
  },
  {
   "cell_type": "markdown",
   "id": "ed883d48",
   "metadata": {},
   "source": [
    "Previously it has been seen that using the second grade is a good predictor for the target variable since they are highly corrolated. The question is can one build a model captures the little variance between the two models."
   ]
  },
  {
   "cell_type": "markdown",
   "id": "c4e00576",
   "metadata": {},
   "source": [
    "Take a look at the r2 score."
   ]
  },
  {
   "cell_type": "markdown",
   "id": "01a51953",
   "metadata": {},
   "source": [
    "In conclusion this very simple model is already a good predictor. In the follwing try to use the sophisticated regression models \n",
    "and check whether they yield better results."
   ]
  },
  {
   "cell_type": "markdown",
   "id": "c90434bf",
   "metadata": {},
   "source": [
    "First transform the categorical variables so that they can be applied to the machine learning models."
   ]
  },
  {
   "cell_type": "code",
   "execution_count": 185,
   "id": "bcf44cba",
   "metadata": {},
   "outputs": [],
   "source": [
    "mask2 = data.dtypes == np.float\n",
    "float_cols = data.columns[mask2]"
   ]
  },
  {
   "cell_type": "code",
   "execution_count": 186,
   "id": "99939964",
   "metadata": {},
   "outputs": [
    {
     "data": {
      "text/plain": [
       "13"
      ]
     },
     "execution_count": 186,
     "metadata": {},
     "output_type": "execute_result"
    }
   ],
   "source": [
    "# Determine how many extra columns would be created\n",
    "num_ohc_cols = (data[categorical_cols]\n",
    "                .apply(lambda x: x.nunique())\n",
    "                .sort_values(ascending=False))\n",
    "\n",
    "\n",
    "# No need to encode if there is only one value\n",
    "small_num_ohc_cols = num_ohc_cols.loc[num_ohc_cols>1]\n",
    "\n",
    "# Number of one-hot columns is one less than the number of categories\n",
    "small_num_ohc_cols -= 1\n",
    "\n",
    "# This is 215 columns, assuming the original ones are dropped. \n",
    "# This is quite a few extra columns!\n",
    "small_num_ohc_cols.sum()"
   ]
  },
  {
   "cell_type": "code",
   "execution_count": 187,
   "id": "3edd492e",
   "metadata": {},
   "outputs": [],
   "source": [
    "\n",
    "# Copy of the data\n",
    "data2 = data.copy()\n",
    "\n",
    "# The encoders\n",
    "le = LabelEncoder()\n",
    "ohc = OneHotEncoder()\n",
    "\n",
    "for col in num_ohc_cols.index:\n",
    "    \n",
    "    # Integer encode the string categories\n",
    "    dat = le.fit_transform(data[col]).astype(np.int)\n",
    "    \n",
    "    # Remove the original column from the dataframe\n",
    "    data = data.drop(col, axis=1)\n",
    "\n",
    "    # One hot encode the data--this returns a sparse array\n",
    "    new_dat = ohc.fit_transform(dat.reshape(-1,1))\n",
    "\n",
    "    # Create unique column names\n",
    "    n_cols = new_dat.shape[1]\n",
    "    col_names = ['_'.join([col, str(x)]) for x in range(n_cols)]\n",
    "\n",
    "    # Create the new dataframe\n",
    "    new_df = pd.DataFrame(new_dat.toarray(), \n",
    "                          index=data.index, \n",
    "                          columns=col_names)\n",
    "\n",
    "    # Append the new data to the dataframe\n",
    "    data = pd.concat([data, new_df], axis=1)"
   ]
  },
  {
   "cell_type": "code",
   "execution_count": 188,
   "id": "661be210",
   "metadata": {},
   "outputs": [
    {
     "data": {
      "text/html": [
       "<div>\n",
       "<style scoped>\n",
       "    .dataframe tbody tr th:only-of-type {\n",
       "        vertical-align: middle;\n",
       "    }\n",
       "\n",
       "    .dataframe tbody tr th {\n",
       "        vertical-align: top;\n",
       "    }\n",
       "\n",
       "    .dataframe thead th {\n",
       "        text-align: right;\n",
       "    }\n",
       "</style>\n",
       "<table border=\"1\" class=\"dataframe\">\n",
       "  <thead>\n",
       "    <tr style=\"text-align: right;\">\n",
       "      <th></th>\n",
       "      <th>age</th>\n",
       "      <th>Medu</th>\n",
       "      <th>Fedu</th>\n",
       "      <th>traveltime</th>\n",
       "      <th>studytime</th>\n",
       "      <th>failures</th>\n",
       "      <th>famrel</th>\n",
       "      <th>freetime</th>\n",
       "      <th>goout</th>\n",
       "      <th>Dalc</th>\n",
       "      <th>...</th>\n",
       "      <th>activities_0</th>\n",
       "      <th>activities_1</th>\n",
       "      <th>nursery_0</th>\n",
       "      <th>nursery_1</th>\n",
       "      <th>higher_0</th>\n",
       "      <th>higher_1</th>\n",
       "      <th>internet_0</th>\n",
       "      <th>internet_1</th>\n",
       "      <th>romantic_0</th>\n",
       "      <th>romantic_1</th>\n",
       "    </tr>\n",
       "  </thead>\n",
       "  <tbody>\n",
       "    <tr>\n",
       "      <th>0</th>\n",
       "      <td>18</td>\n",
       "      <td>4</td>\n",
       "      <td>4</td>\n",
       "      <td>2</td>\n",
       "      <td>2</td>\n",
       "      <td>0</td>\n",
       "      <td>4</td>\n",
       "      <td>3</td>\n",
       "      <td>4</td>\n",
       "      <td>1</td>\n",
       "      <td>...</td>\n",
       "      <td>1.0</td>\n",
       "      <td>0.0</td>\n",
       "      <td>0.0</td>\n",
       "      <td>1.0</td>\n",
       "      <td>0.0</td>\n",
       "      <td>1.0</td>\n",
       "      <td>1.0</td>\n",
       "      <td>0.0</td>\n",
       "      <td>1.0</td>\n",
       "      <td>0.0</td>\n",
       "    </tr>\n",
       "    <tr>\n",
       "      <th>1</th>\n",
       "      <td>17</td>\n",
       "      <td>1</td>\n",
       "      <td>1</td>\n",
       "      <td>1</td>\n",
       "      <td>2</td>\n",
       "      <td>0</td>\n",
       "      <td>5</td>\n",
       "      <td>3</td>\n",
       "      <td>3</td>\n",
       "      <td>1</td>\n",
       "      <td>...</td>\n",
       "      <td>1.0</td>\n",
       "      <td>0.0</td>\n",
       "      <td>1.0</td>\n",
       "      <td>0.0</td>\n",
       "      <td>0.0</td>\n",
       "      <td>1.0</td>\n",
       "      <td>0.0</td>\n",
       "      <td>1.0</td>\n",
       "      <td>1.0</td>\n",
       "      <td>0.0</td>\n",
       "    </tr>\n",
       "    <tr>\n",
       "      <th>2</th>\n",
       "      <td>15</td>\n",
       "      <td>1</td>\n",
       "      <td>1</td>\n",
       "      <td>1</td>\n",
       "      <td>2</td>\n",
       "      <td>3</td>\n",
       "      <td>4</td>\n",
       "      <td>3</td>\n",
       "      <td>2</td>\n",
       "      <td>2</td>\n",
       "      <td>...</td>\n",
       "      <td>1.0</td>\n",
       "      <td>0.0</td>\n",
       "      <td>0.0</td>\n",
       "      <td>1.0</td>\n",
       "      <td>0.0</td>\n",
       "      <td>1.0</td>\n",
       "      <td>0.0</td>\n",
       "      <td>1.0</td>\n",
       "      <td>1.0</td>\n",
       "      <td>0.0</td>\n",
       "    </tr>\n",
       "    <tr>\n",
       "      <th>3</th>\n",
       "      <td>15</td>\n",
       "      <td>4</td>\n",
       "      <td>2</td>\n",
       "      <td>1</td>\n",
       "      <td>3</td>\n",
       "      <td>0</td>\n",
       "      <td>3</td>\n",
       "      <td>2</td>\n",
       "      <td>2</td>\n",
       "      <td>1</td>\n",
       "      <td>...</td>\n",
       "      <td>0.0</td>\n",
       "      <td>1.0</td>\n",
       "      <td>0.0</td>\n",
       "      <td>1.0</td>\n",
       "      <td>0.0</td>\n",
       "      <td>1.0</td>\n",
       "      <td>0.0</td>\n",
       "      <td>1.0</td>\n",
       "      <td>0.0</td>\n",
       "      <td>1.0</td>\n",
       "    </tr>\n",
       "    <tr>\n",
       "      <th>4</th>\n",
       "      <td>16</td>\n",
       "      <td>3</td>\n",
       "      <td>3</td>\n",
       "      <td>1</td>\n",
       "      <td>2</td>\n",
       "      <td>0</td>\n",
       "      <td>4</td>\n",
       "      <td>3</td>\n",
       "      <td>2</td>\n",
       "      <td>1</td>\n",
       "      <td>...</td>\n",
       "      <td>1.0</td>\n",
       "      <td>0.0</td>\n",
       "      <td>0.0</td>\n",
       "      <td>1.0</td>\n",
       "      <td>0.0</td>\n",
       "      <td>1.0</td>\n",
       "      <td>1.0</td>\n",
       "      <td>0.0</td>\n",
       "      <td>1.0</td>\n",
       "      <td>0.0</td>\n",
       "    </tr>\n",
       "    <tr>\n",
       "      <th>...</th>\n",
       "      <td>...</td>\n",
       "      <td>...</td>\n",
       "      <td>...</td>\n",
       "      <td>...</td>\n",
       "      <td>...</td>\n",
       "      <td>...</td>\n",
       "      <td>...</td>\n",
       "      <td>...</td>\n",
       "      <td>...</td>\n",
       "      <td>...</td>\n",
       "      <td>...</td>\n",
       "      <td>...</td>\n",
       "      <td>...</td>\n",
       "      <td>...</td>\n",
       "      <td>...</td>\n",
       "      <td>...</td>\n",
       "      <td>...</td>\n",
       "      <td>...</td>\n",
       "      <td>...</td>\n",
       "      <td>...</td>\n",
       "      <td>...</td>\n",
       "    </tr>\n",
       "    <tr>\n",
       "      <th>352</th>\n",
       "      <td>20</td>\n",
       "      <td>2</td>\n",
       "      <td>2</td>\n",
       "      <td>1</td>\n",
       "      <td>2</td>\n",
       "      <td>2</td>\n",
       "      <td>5</td>\n",
       "      <td>5</td>\n",
       "      <td>4</td>\n",
       "      <td>4</td>\n",
       "      <td>...</td>\n",
       "      <td>1.0</td>\n",
       "      <td>0.0</td>\n",
       "      <td>0.0</td>\n",
       "      <td>1.0</td>\n",
       "      <td>0.0</td>\n",
       "      <td>1.0</td>\n",
       "      <td>1.0</td>\n",
       "      <td>0.0</td>\n",
       "      <td>1.0</td>\n",
       "      <td>0.0</td>\n",
       "    </tr>\n",
       "    <tr>\n",
       "      <th>353</th>\n",
       "      <td>17</td>\n",
       "      <td>3</td>\n",
       "      <td>1</td>\n",
       "      <td>2</td>\n",
       "      <td>1</td>\n",
       "      <td>0</td>\n",
       "      <td>2</td>\n",
       "      <td>4</td>\n",
       "      <td>5</td>\n",
       "      <td>3</td>\n",
       "      <td>...</td>\n",
       "      <td>1.0</td>\n",
       "      <td>0.0</td>\n",
       "      <td>1.0</td>\n",
       "      <td>0.0</td>\n",
       "      <td>0.0</td>\n",
       "      <td>1.0</td>\n",
       "      <td>0.0</td>\n",
       "      <td>1.0</td>\n",
       "      <td>1.0</td>\n",
       "      <td>0.0</td>\n",
       "    </tr>\n",
       "    <tr>\n",
       "      <th>354</th>\n",
       "      <td>21</td>\n",
       "      <td>1</td>\n",
       "      <td>1</td>\n",
       "      <td>1</td>\n",
       "      <td>1</td>\n",
       "      <td>3</td>\n",
       "      <td>5</td>\n",
       "      <td>5</td>\n",
       "      <td>3</td>\n",
       "      <td>3</td>\n",
       "      <td>...</td>\n",
       "      <td>1.0</td>\n",
       "      <td>0.0</td>\n",
       "      <td>1.0</td>\n",
       "      <td>0.0</td>\n",
       "      <td>0.0</td>\n",
       "      <td>1.0</td>\n",
       "      <td>1.0</td>\n",
       "      <td>0.0</td>\n",
       "      <td>1.0</td>\n",
       "      <td>0.0</td>\n",
       "    </tr>\n",
       "    <tr>\n",
       "      <th>355</th>\n",
       "      <td>18</td>\n",
       "      <td>3</td>\n",
       "      <td>2</td>\n",
       "      <td>3</td>\n",
       "      <td>1</td>\n",
       "      <td>0</td>\n",
       "      <td>4</td>\n",
       "      <td>4</td>\n",
       "      <td>1</td>\n",
       "      <td>3</td>\n",
       "      <td>...</td>\n",
       "      <td>1.0</td>\n",
       "      <td>0.0</td>\n",
       "      <td>1.0</td>\n",
       "      <td>0.0</td>\n",
       "      <td>0.0</td>\n",
       "      <td>1.0</td>\n",
       "      <td>0.0</td>\n",
       "      <td>1.0</td>\n",
       "      <td>1.0</td>\n",
       "      <td>0.0</td>\n",
       "    </tr>\n",
       "    <tr>\n",
       "      <th>356</th>\n",
       "      <td>19</td>\n",
       "      <td>1</td>\n",
       "      <td>1</td>\n",
       "      <td>1</td>\n",
       "      <td>1</td>\n",
       "      <td>0</td>\n",
       "      <td>3</td>\n",
       "      <td>2</td>\n",
       "      <td>3</td>\n",
       "      <td>3</td>\n",
       "      <td>...</td>\n",
       "      <td>1.0</td>\n",
       "      <td>0.0</td>\n",
       "      <td>0.0</td>\n",
       "      <td>1.0</td>\n",
       "      <td>0.0</td>\n",
       "      <td>1.0</td>\n",
       "      <td>0.0</td>\n",
       "      <td>1.0</td>\n",
       "      <td>1.0</td>\n",
       "      <td>0.0</td>\n",
       "    </tr>\n",
       "  </tbody>\n",
       "</table>\n",
       "<p>357 rows × 42 columns</p>\n",
       "</div>"
      ],
      "text/plain": [
       "     age  Medu  Fedu  traveltime  studytime  failures  famrel  freetime  \\\n",
       "0     18     4     4           2          2         0       4         3   \n",
       "1     17     1     1           1          2         0       5         3   \n",
       "2     15     1     1           1          2         3       4         3   \n",
       "3     15     4     2           1          3         0       3         2   \n",
       "4     16     3     3           1          2         0       4         3   \n",
       "..   ...   ...   ...         ...        ...       ...     ...       ...   \n",
       "352   20     2     2           1          2         2       5         5   \n",
       "353   17     3     1           2          1         0       2         4   \n",
       "354   21     1     1           1          1         3       5         5   \n",
       "355   18     3     2           3          1         0       4         4   \n",
       "356   19     1     1           1          1         0       3         2   \n",
       "\n",
       "     goout  Dalc  ...  activities_0  activities_1  nursery_0  nursery_1  \\\n",
       "0        4     1  ...           1.0           0.0        0.0        1.0   \n",
       "1        3     1  ...           1.0           0.0        1.0        0.0   \n",
       "2        2     2  ...           1.0           0.0        0.0        1.0   \n",
       "3        2     1  ...           0.0           1.0        0.0        1.0   \n",
       "4        2     1  ...           1.0           0.0        0.0        1.0   \n",
       "..     ...   ...  ...           ...           ...        ...        ...   \n",
       "352      4     4  ...           1.0           0.0        0.0        1.0   \n",
       "353      5     3  ...           1.0           0.0        1.0        0.0   \n",
       "354      3     3  ...           1.0           0.0        1.0        0.0   \n",
       "355      1     3  ...           1.0           0.0        1.0        0.0   \n",
       "356      3     3  ...           1.0           0.0        0.0        1.0   \n",
       "\n",
       "     higher_0  higher_1  internet_0  internet_1  romantic_0  romantic_1  \n",
       "0         0.0       1.0         1.0         0.0         1.0         0.0  \n",
       "1         0.0       1.0         0.0         1.0         1.0         0.0  \n",
       "2         0.0       1.0         0.0         1.0         1.0         0.0  \n",
       "3         0.0       1.0         0.0         1.0         0.0         1.0  \n",
       "4         0.0       1.0         1.0         0.0         1.0         0.0  \n",
       "..        ...       ...         ...         ...         ...         ...  \n",
       "352       0.0       1.0         1.0         0.0         1.0         0.0  \n",
       "353       0.0       1.0         0.0         1.0         1.0         0.0  \n",
       "354       0.0       1.0         1.0         0.0         1.0         0.0  \n",
       "355       0.0       1.0         0.0         1.0         1.0         0.0  \n",
       "356       0.0       1.0         0.0         1.0         1.0         0.0  \n",
       "\n",
       "[357 rows x 42 columns]"
      ]
     },
     "execution_count": 188,
     "metadata": {},
     "output_type": "execute_result"
    }
   ],
   "source": [
    "data"
   ]
  },
  {
   "cell_type": "markdown",
   "id": "5b10596d",
   "metadata": {},
   "source": [
    "# Testing regression"
   ]
  },
  {
   "cell_type": "markdown",
   "id": "de1315b8",
   "metadata": {},
   "source": [
    "Find for each Linear regression, Lasso Regression and Ridge Regression the best model via `GridSearchCV` to get the best hyperparameters."
   ]
  },
  {
   "cell_type": "markdown",
   "id": "68e745ae",
   "metadata": {},
   "source": [
    "First some preparations."
   ]
  },
  {
   "cell_type": "code",
   "execution_count": 189,
   "id": "3d61f430",
   "metadata": {},
   "outputs": [],
   "source": [
    "\n",
    "kf = KFold(shuffle=True, random_state=72018, n_splits=3)\n",
    "\n",
    "y_col = 'G3'\n",
    "\n",
    "# Split the data that is not one-hot encoded\n",
    "feature_cols = [x for x in data.columns if x != y_col]\n",
    "\n",
    "#feature_cols = ['G1','G2']\n",
    "X = data[feature_cols]\n",
    "y = data[y_col]\n"
   ]
  },
  {
   "cell_type": "code",
   "execution_count": 190,
   "id": "0fb069c3",
   "metadata": {},
   "outputs": [
    {
     "data": {
      "text/plain": [
       "Index(['age', 'Medu', 'Fedu', 'traveltime', 'studytime', 'failures', 'famrel',\n",
       "       'freetime', 'goout', 'Dalc', 'Walc', 'health', 'absences', 'G1', 'G2',\n",
       "       'G3', 'school_0', 'school_1', 'sex_0', 'sex_1', 'address_0',\n",
       "       'address_1', 'famsize_0', 'famsize_1', 'Pstatus_0', 'Pstatus_1',\n",
       "       'schoolsup_0', 'schoolsup_1', 'famsup_0', 'famsup_1', 'paid_0',\n",
       "       'paid_1', 'activities_0', 'activities_1', 'nursery_0', 'nursery_1',\n",
       "       'higher_0', 'higher_1', 'internet_0', 'internet_1', 'romantic_0',\n",
       "       'romantic_1'],\n",
       "      dtype='object')"
      ]
     },
     "execution_count": 190,
     "metadata": {},
     "output_type": "execute_result"
    }
   ],
   "source": [
    "data.columns"
   ]
  },
  {
   "cell_type": "markdown",
   "id": "b5eec6cc",
   "metadata": {},
   "source": [
    "Look which attributes are most corrolated to the target variable."
   ]
  },
  {
   "cell_type": "code",
   "execution_count": 191,
   "id": "411b96a7",
   "metadata": {},
   "outputs": [],
   "source": [
    "features = data.corr()['G3'].sort_values()"
   ]
  },
  {
   "cell_type": "code",
   "execution_count": 192,
   "id": "67d610f2",
   "metadata": {},
   "outputs": [
    {
     "data": {
      "text/plain": [
       "<AxesSubplot:>"
      ]
     },
     "execution_count": 192,
     "metadata": {},
     "output_type": "execute_result"
    },
    {
     "data": {
      "image/png": "[encoded data removed]",
      "text/plain": [
       "<Figure size 1152x576 with 1 Axes>"
      ]
     },
     "metadata": {
      "needs_background": "light"
     },
     "output_type": "display_data"
    }
   ],
   "source": [
    "features.plot(kind='bar',figsize=(16,8))"
   ]
  },
  {
   "cell_type": "markdown",
   "id": "20182918",
   "metadata": {},
   "source": [
    "Apply dimension reduction by discarding all variables from the model whose absolute corrolation coeffcient is less than 0.2."
   ]
  },
  {
   "cell_type": "code",
   "execution_count": 193,
   "id": "f61db561",
   "metadata": {},
   "outputs": [
    {
     "data": {
      "text/plain": [
       "6"
      ]
     },
     "execution_count": 193,
     "metadata": {},
     "output_type": "execute_result"
    }
   ],
   "source": [
    "reduced_features = []\n",
    "\n",
    "\n",
    "features['failures']\n",
    "\n",
    "for feature in features.keys():\n",
    "    if  1 > abs(features[feature]) >= 0.2:\n",
    "        reduced_features.append(feature)\n",
    "\n",
    "len(reduced_features)"
   ]
  },
  {
   "cell_type": "code",
   "execution_count": 194,
   "id": "6c604673",
   "metadata": {},
   "outputs": [
    {
     "data": {
      "text/plain": [
       "['failures', 'absences', 'schoolsup_0', 'G1', 'G2']"
      ]
     },
     "execution_count": 194,
     "metadata": {},
     "output_type": "execute_result"
    }
   ],
   "source": [
    "reduced_features.remove('schoolsup_1')\n",
    "reduced_features"
   ]
  },
  {
   "cell_type": "code",
   "execution_count": 195,
   "id": "bbfdcdf1",
   "metadata": {},
   "outputs": [],
   "source": [
    "X = X[reduced_features]"
   ]
  },
  {
   "cell_type": "markdown",
   "id": "50f2fac2",
   "metadata": {},
   "source": [
    "The only the remaining features are the first and second grade, the number of past class failures(failures), the  number of school absences(absences),and whether there is extra educational support(schoolsup_0)."
   ]
  },
  {
   "cell_type": "markdown",
   "id": "f06cf76f",
   "metadata": {},
   "source": [
    "## Linear regression"
   ]
  },
  {
   "cell_type": "code",
   "execution_count": 196,
   "id": "290a4433",
   "metadata": {},
   "outputs": [],
   "source": [
    "from sklearn.model_selection import GridSearchCV\n",
    "\n",
    "# Same estimator as before\n",
    "estimator = Pipeline([(\"scaler\", StandardScaler()),\n",
    "        (\"polynomial_features\", PolynomialFeatures()),\n",
    "        (\"linear_refression\", LinearRegression())])\n",
    "\n",
    "params = {\n",
    "    'polynomial_features__degree': [1, 2, 3],\n",
    "    \n",
    "}\n",
    "\n",
    "grid = GridSearchCV(estimator, params, cv=kf)"
   ]
  },
  {
   "cell_type": "code",
   "execution_count": 197,
   "id": "356419fb",
   "metadata": {},
   "outputs": [
    {
     "data": {
      "text/plain": [
       "GridSearchCV(cv=KFold(n_splits=3, random_state=72018, shuffle=True),\n",
       "             estimator=Pipeline(steps=[('scaler', StandardScaler()),\n",
       "                                       ('polynomial_features',\n",
       "                                        PolynomialFeatures()),\n",
       "                                       ('linear_refression',\n",
       "                                        LinearRegression())]),\n",
       "             param_grid={'polynomial_features__degree': [1, 2, 3]})"
      ]
     },
     "execution_count": 197,
     "metadata": {},
     "output_type": "execute_result"
    }
   ],
   "source": [
    "grid.fit(X, y)"
   ]
  },
  {
   "cell_type": "code",
   "execution_count": 198,
   "id": "7a011773",
   "metadata": {},
   "outputs": [
    {
     "data": {
      "text/plain": [
       "(0.9311739098466475, {'polynomial_features__degree': 1})"
      ]
     },
     "execution_count": 198,
     "metadata": {},
     "output_type": "execute_result"
    }
   ],
   "source": [
    "grid.best_score_, grid.best_params_"
   ]
  },
  {
   "cell_type": "markdown",
   "id": "871a74be",
   "metadata": {},
   "source": [
    "## Lasso Regression "
   ]
  },
  {
   "cell_type": "code",
   "execution_count": 199,
   "id": "7a02810a",
   "metadata": {},
   "outputs": [],
   "source": [
    "from sklearn.model_selection import GridSearchCV\n",
    "\n",
    "# Same estimator as before\n",
    "estimator2 = Pipeline([(\"scaler\", StandardScaler()),\n",
    "        (\"polynomial_features\", PolynomialFeatures()),\n",
    "        (\"lasso_regression\", Lasso())])\n",
    "\n",
    "params2 = {\n",
    "    'polynomial_features__degree': [1, 2, 3],\n",
    "    'lasso_regression__alpha': np.geomspace(1e-9, 1e0, num=10)\n",
    "}\n",
    "\n",
    "grid2 = GridSearchCV(estimator2, params2, cv=kf)"
   ]
  },
  {
   "cell_type": "code",
   "execution_count": 200,
   "id": "99edabad",
   "metadata": {},
   "outputs": [
    {
     "data": {
      "text/plain": [
       "array([1.e-09, 1.e-08, 1.e-07, 1.e-06, 1.e-05, 1.e-04, 1.e-03, 1.e-02,\n",
       "       1.e-01, 1.e+00])"
      ]
     },
     "execution_count": 200,
     "metadata": {},
     "output_type": "execute_result"
    }
   ],
   "source": [
    "np.geomspace(1e-9, 1e0, num=10)"
   ]
  },
  {
   "cell_type": "code",
   "execution_count": 201,
   "id": "457f2e68",
   "metadata": {},
   "outputs": [
    {
     "data": {
      "text/plain": [
       "GridSearchCV(cv=KFold(n_splits=3, random_state=72018, shuffle=True),\n",
       "             estimator=Pipeline(steps=[('scaler', StandardScaler()),\n",
       "                                       ('polynomial_features',\n",
       "                                        PolynomialFeatures()),\n",
       "                                       ('lasso_regression', Lasso())]),\n",
       "             param_grid={'lasso_regression__alpha': array([1.e-09, 1.e-08, 1.e-07, 1.e-06, 1.e-05, 1.e-04, 1.e-03, 1.e-02,\n",
       "       1.e-01, 1.e+00]),\n",
       "                         'polynomial_features__degree': [1, 2, 3]})"
      ]
     },
     "execution_count": 201,
     "metadata": {},
     "output_type": "execute_result"
    }
   ],
   "source": [
    "grid2.fit(X, y)"
   ]
  },
  {
   "cell_type": "code",
   "execution_count": 202,
   "id": "2bdf4eb3",
   "metadata": {},
   "outputs": [
    {
     "data": {
      "text/plain": [
       "(0.9314423118817897,\n",
       " {'lasso_regression__alpha': 0.01, 'polynomial_features__degree': 1})"
      ]
     },
     "execution_count": 202,
     "metadata": {},
     "output_type": "execute_result"
    }
   ],
   "source": [
    "grid2.best_score_, grid2.best_params_"
   ]
  },
  {
   "cell_type": "markdown",
   "id": "f6d56b25",
   "metadata": {},
   "source": [
    "## Ridge Regression"
   ]
  },
  {
   "cell_type": "code",
   "execution_count": 203,
   "id": "1dcf80f6",
   "metadata": {},
   "outputs": [],
   "source": [
    "# Same estimator as before\n",
    "estimator3 = Pipeline([(\"scaler\", StandardScaler()),\n",
    "        (\"polynomial_features\", PolynomialFeatures()),\n",
    "        (\"ridge_regression\", Ridge())])\n",
    "\n",
    "params3 = {\n",
    "    'polynomial_features__degree': [1, 2, 3],\n",
    "    'ridge_regression__alpha': np.geomspace(0.1, 2, 20)\n",
    "}\n",
    "\n",
    "grid3 = GridSearchCV(estimator3, params3, cv=kf)"
   ]
  },
  {
   "cell_type": "code",
   "execution_count": 204,
   "id": "34365861",
   "metadata": {},
   "outputs": [
    {
     "data": {
      "text/plain": [
       "GridSearchCV(cv=KFold(n_splits=3, random_state=72018, shuffle=True),\n",
       "             estimator=Pipeline(steps=[('scaler', StandardScaler()),\n",
       "                                       ('polynomial_features',\n",
       "                                        PolynomialFeatures()),\n",
       "                                       ('ridge_regression', Ridge())]),\n",
       "             param_grid={'polynomial_features__degree': [1, 2, 3],\n",
       "                         'ridge_regression__alpha': array([0.1       , 0.11707799, 0.13707256, 0.1604818 , 0.18788887,\n",
       "       0.21997651, 0.25754408, 0.30152744, 0.35302227, 0.41331138,\n",
       "       0.48389667, 0.5665365 , 0.66328955, 0.77656608, 0.90918797,\n",
       "       1.06445901, 1.24624723, 1.45908123, 1.70826299, 2.        ])})"
      ]
     },
     "execution_count": 204,
     "metadata": {},
     "output_type": "execute_result"
    }
   ],
   "source": [
    "grid3.fit(X, y)"
   ]
  },
  {
   "cell_type": "code",
   "execution_count": 205,
   "id": "ef801124",
   "metadata": {},
   "outputs": [
    {
     "data": {
      "text/plain": [
       "(0.9312384854632251,\n",
       " {'polynomial_features__degree': 1,\n",
       "  'ridge_regression__alpha': 0.909187970690782})"
      ]
     },
     "execution_count": 205,
     "metadata": {},
     "output_type": "execute_result"
    }
   ],
   "source": [
    "grid3.best_score_, grid3.best_params_"
   ]
  },
  {
   "cell_type": "markdown",
   "id": "2f41383b",
   "metadata": {},
   "source": [
    "As a result Lasso Regression performs best with parameters alpha=0.01 and polynomial degree 1."
   ]
  },
  {
   "cell_type": "markdown",
   "id": "ae1f1b74",
   "metadata": {},
   "source": [
    "## Best Estimator"
   ]
  },
  {
   "cell_type": "markdown",
   "id": "39c35eec",
   "metadata": {},
   "source": [
    "Fit the found best estimator on the whole dataset and see how well it performs."
   ]
  },
  {
   "cell_type": "code",
   "execution_count": 206,
   "id": "06ca5260",
   "metadata": {},
   "outputs": [
    {
     "data": {
      "text/plain": [
       "0.9355996577059758"
      ]
     },
     "execution_count": 206,
     "metadata": {},
     "output_type": "execute_result"
    }
   ],
   "source": [
    "s = StandardScaler()\n",
    "\n",
    "best_estimator = Pipeline([\n",
    "                    (\"scaler\", s),\n",
    "                    (\"make_higher_degree\", PolynomialFeatures(degree=1)),\n",
    "                    (\"lasso_regression\", Lasso(alpha=0.01))])\n",
    "\n",
    "best_estimator.fit(X, y)\n",
    "best_estimator.score(X, y)"
   ]
  },
  {
   "cell_type": "markdown",
   "id": "f9bf6902",
   "metadata": {},
   "source": [
    "Look how well the truth values are predicted by the model."
   ]
  },
  {
   "cell_type": "code",
   "execution_count": 207,
   "id": "d1159e6c",
   "metadata": {},
   "outputs": [
    {
     "data": {
      "image/png": "[encoded data removed]",
      "text/plain": [
       "<Figure size 432x288 with 1 Axes>"
      ]
     },
     "metadata": {},
     "output_type": "display_data"
    }
   ],
   "source": [
    "y_predict = np.round(best_estimator.predict(X))\n",
    "\n",
    "\n",
    "sns.set_context('talk')\n",
    "sns.set_style('ticks')\n",
    "sns.set_palette('dark')\n",
    "\n",
    "ax = plt.axes()\n",
    "\n",
    "ax.plot(y,y)\n",
    "ax.scatter(y, y_predict, alpha=.5)\n",
    "\n",
    "ax.set(xlabel='Ground truth', \n",
    "       ylabel='Predictions',\n",
    "       title='Final Grade Predictions vs Truth, using Best Estimator');\n",
    "\n",
    "\n"
   ]
  },
  {
   "cell_type": "markdown",
   "id": "6ebcccfa",
   "metadata": {},
   "source": [
    "Look at the r2 score and compare it with the r2 score of the simple predictor by just taking the second grade."
   ]
  },
  {
   "cell_type": "code",
   "execution_count": 208,
   "id": "461eeaaf",
   "metadata": {},
   "outputs": [
    {
     "data": {
      "text/plain": [
       "0.9270133787724749"
      ]
     },
     "execution_count": 208,
     "metadata": {},
     "output_type": "execute_result"
    }
   ],
   "source": [
    "r2_score(y_predict,y)"
   ]
  },
  {
   "cell_type": "code",
   "execution_count": 209,
   "id": "49a68883",
   "metadata": {},
   "outputs": [
    {
     "data": {
      "text/plain": [
       "0.9259806803196644"
      ]
     },
     "execution_count": 209,
     "metadata": {},
     "output_type": "execute_result"
    }
   ],
   "source": [
    "r2_score(data['G2'],data['G3'])"
   ]
  },
  {
   "cell_type": "markdown",
   "id": "c650ad06",
   "metadata": {},
   "source": [
    "One can see that the simple second grade predictor does slightly better."
   ]
  },
  {
   "cell_type": "markdown",
   "id": "b4057dda",
   "metadata": {},
   "source": [
    "Lastly, look the final predictor differs from the second grade."
   ]
  },
  {
   "cell_type": "code",
   "execution_count": 210,
   "id": "0ee00a4e",
   "metadata": {},
   "outputs": [
    {
     "data": {
      "image/png": "[encoded data removed]",
      "text/plain": [
       "<Figure size 432x288 with 1 Axes>"
      ]
     },
     "metadata": {},
     "output_type": "display_data"
    }
   ],
   "source": [
    "sns.set_context('talk')\n",
    "sns.set_style('ticks')\n",
    "sns.set_palette('dark')\n",
    "\n",
    "ax = plt.axes()\n",
    "\n",
    "ax.plot(y,y)\n",
    "ax.scatter(data['G2'], y_predict, alpha=.5)\n",
    "\n",
    "ax.set(xlabel='Second grade', \n",
    "       ylabel='Predictions',\n",
    "       title='Final Grade Predictions vs Truth, using Best Estimator');"
   ]
  },
  {
   "cell_type": "markdown",
   "id": "049b47d6",
   "metadata": {},
   "source": [
    "One can see that the predictions are mostly identical to the second grade."
   ]
  },
  {
   "cell_type": "markdown",
   "id": "d96fd996",
   "metadata": {},
   "source": [
    "## Conclusion"
   ]
  },
  {
   "cell_type": "markdown",
   "id": "732385dd",
   "metadata": {},
   "source": [
    "The second grade is already a good predictor for the final grade and it is hard to capture the little variance between the second grade and final grade by the remaining features using any regression model."
   ]
  }
 ],
 "metadata": {
  "kernelspec": {
   "display_name": "Python 3 (ipykernel)",
   "language": "python",
   "name": "python3"
  },
  "language_info": {
   "codemirror_mode": {
    "name": "ipython",
    "version": 3
   },
   "file_extension": ".py",
   "mimetype": "text/x-python",
   "name": "python",
   "nbconvert_exporter": "python",
   "pygments_lexer": "ipython3",
   "version": "3.9.12"
  }
 },
 "nbformat": 4,
 "nbformat_minor": 5
}
