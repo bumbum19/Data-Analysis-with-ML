{
 "cells": [
  {
   "cell_type": "markdown",
   "id": "795d3fef",
   "metadata": {},
   "source": [
    "# Time Series Analysis Population of England "
   ]
  },
  {
   "cell_type": "markdown",
   "id": "64db23e2",
   "metadata": {},
   "source": [
    "In this notebook the [dataset](https://www.kaggle.com/datasets/axeltorbenson/population-of-england-since-1086?select=england_population.csv) from Kaggle, containing popoulation data of England over the last 1000 years, will be analyzed using Time Series techniques."
   ]
  },
  {
   "cell_type": "markdown",
   "id": "3ea5fb39",
   "metadata": {},
   "source": [
    "## **Import the required libraries**"
   ]
  },
  {
   "cell_type": "code",
   "execution_count": 116,
   "id": "ed5f703f",
   "metadata": {},
   "outputs": [],
   "source": [
    "# imports\n",
    "import pandas as pd\n",
    "import numpy as np \n",
    "import matplotlib.pyplot as plt\n",
    "import seaborn as sns\n",
    "import warnings\n",
    "from datetime import datetime\n",
    "from datetime import timedelta\n",
    "from dateutil.relativedelta import relativedelta\n",
    "from IPython.display import display\n",
    "# ignore warnings\n",
    "warnings.filterwarnings('ignore')\n",
    "pd.options.display.float_format = '{:,.1f}'.format\n",
    "%matplotlib inline\n",
    "plotsize = (13, 5)\n",
    "\n",
    "\n",
    "import pmdarima as pm"
   ]
  },
  {
   "cell_type": "markdown",
   "id": "c2f6124d",
   "metadata": {},
   "source": [
    "## **Reading and understanding of the data**"
   ]
  },
  {
   "cell_type": "markdown",
   "id": "0104823b",
   "metadata": {},
   "source": [
    "This [dataset](https://www.kaggle.com/datasets/axeltorbenson/population-of-england-since-1086?select=england_population.csv) contains the just the total yearly population from England from the years 1086-2016. Since accurate measurements of the population of England has been conducted thourougly just since 1801(see [here](https://www.kaggle.com/datasets/axeltorbenson/population-of-england-since-1086?select=england_population.csv) or more information), most of the data are supposed to be estimations by the Bank of England. For simplicity just the past 250 years(1767-2016) will be analyzed, and  autoregressive integrated moving average (ARIMA) models will be used, to see how good they can predict the future population. "
   ]
  },
  {
   "cell_type": "markdown",
   "id": "72464950",
   "metadata": {},
   "source": [
    "Read data into dataframe."
   ]
  },
  {
   "cell_type": "code",
   "execution_count": 117,
   "id": "ecd275b3",
   "metadata": {},
   "outputs": [],
   "source": [
    "data = pd.read_csv(\"england_population.csv\")"
   ]
  },
  {
   "cell_type": "code",
   "execution_count": 118,
   "id": "8b31f895",
   "metadata": {},
   "outputs": [
    {
     "data": {
      "text/html": [
       "<div>\n",
       "<style scoped>\n",
       "    .dataframe tbody tr th:only-of-type {\n",
       "        vertical-align: middle;\n",
       "    }\n",
       "\n",
       "    .dataframe tbody tr th {\n",
       "        vertical-align: top;\n",
       "    }\n",
       "\n",
       "    .dataframe thead th {\n",
       "        text-align: right;\n",
       "    }\n",
       "</style>\n",
       "<table border=\"1\" class=\"dataframe\">\n",
       "  <thead>\n",
       "    <tr style=\"text-align: right;\">\n",
       "      <th></th>\n",
       "      <th>year</th>\n",
       "      <th>population</th>\n",
       "    </tr>\n",
       "  </thead>\n",
       "  <tbody>\n",
       "    <tr>\n",
       "      <th>0</th>\n",
       "      <td>1086</td>\n",
       "      <td>1710000</td>\n",
       "    </tr>\n",
       "    <tr>\n",
       "      <th>1</th>\n",
       "      <td>1087</td>\n",
       "      <td>1720000</td>\n",
       "    </tr>\n",
       "    <tr>\n",
       "      <th>2</th>\n",
       "      <td>1088</td>\n",
       "      <td>1730000</td>\n",
       "    </tr>\n",
       "    <tr>\n",
       "      <th>3</th>\n",
       "      <td>1089</td>\n",
       "      <td>1740000</td>\n",
       "    </tr>\n",
       "    <tr>\n",
       "      <th>4</th>\n",
       "      <td>1090</td>\n",
       "      <td>1750000</td>\n",
       "    </tr>\n",
       "  </tbody>\n",
       "</table>\n",
       "</div>"
      ],
      "text/plain": [
       "   year  population\n",
       "0  1086     1710000\n",
       "1  1087     1720000\n",
       "2  1088     1730000\n",
       "3  1089     1740000\n",
       "4  1090     1750000"
      ]
     },
     "execution_count": 118,
     "metadata": {},
     "output_type": "execute_result"
    }
   ],
   "source": [
    "data.head()"
   ]
  },
  {
   "cell_type": "code",
   "execution_count": 119,
   "id": "d93bcf00",
   "metadata": {},
   "outputs": [
    {
     "data": {
      "text/plain": [
       "(931, 2)"
      ]
     },
     "execution_count": 119,
     "metadata": {},
     "output_type": "execute_result"
    }
   ],
   "source": [
    "data.shape"
   ]
  },
  {
   "cell_type": "markdown",
   "id": "a1824b31",
   "metadata": {},
   "source": [
    "Verify that data is clean."
   ]
  },
  {
   "cell_type": "code",
   "execution_count": 120,
   "id": "00a933cb",
   "metadata": {},
   "outputs": [
    {
     "data": {
      "text/plain": [
       "year   population\n",
       "False  False         931\n",
       "dtype: int64"
      ]
     },
     "execution_count": 120,
     "metadata": {},
     "output_type": "execute_result"
    }
   ],
   "source": [
    "data.isna().value_counts()"
   ]
  },
  {
   "cell_type": "code",
   "execution_count": 121,
   "id": "6a03a58a",
   "metadata": {},
   "outputs": [],
   "source": [
    "data.drop_duplicates(inplace=True)"
   ]
  },
  {
   "cell_type": "markdown",
   "id": "ac9c8e43",
   "metadata": {},
   "source": [
    "Extract just the last 250 years and set years at the index."
   ]
  },
  {
   "cell_type": "code",
   "execution_count": 122,
   "id": "8cf27d8b",
   "metadata": {},
   "outputs": [],
   "source": [
    "data = data.tail(250)\n",
    "data.set_index('year',inplace=True)"
   ]
  },
  {
   "cell_type": "markdown",
   "id": "21505d57",
   "metadata": {},
   "source": [
    "Plot the data."
   ]
  },
  {
   "cell_type": "code",
   "execution_count": 123,
   "id": "ea9b804d",
   "metadata": {},
   "outputs": [
    {
     "data": {
      "text/plain": [
       "<AxesSubplot:xlabel='year'>"
      ]
     },
     "execution_count": 123,
     "metadata": {},
     "output_type": "execute_result"
    },
    {
     "data": {
      "image/png": "[encoded data removed]",
      "text/plain": [
       "<Figure size 432x288 with 1 Axes>"
      ]
     },
     "metadata": {
      "needs_background": "light"
     },
     "output_type": "display_data"
    }
   ],
   "source": [
    "data.plot()"
   ]
  },
  {
   "cell_type": "markdown",
   "id": "840bdbaf",
   "metadata": {},
   "source": [
    "Looking at the curve one can see that from 1800-1900 the population grew steadily, but beginning from 1900 the grow rate slows down and becomes more uncertain."
   ]
  },
  {
   "cell_type": "markdown",
   "id": "a36698fa",
   "metadata": {},
   "source": [
    "Use [statsmodels.tsa.seasonal.STL](https://www.statsmodels.org/devel/generated/statsmodels.tsa.seasonal.STL.html) to decompose time series."
   ]
  },
  {
   "cell_type": "code",
   "execution_count": 124,
   "id": "f2437091",
   "metadata": {},
   "outputs": [
    {
     "data": {
      "image/png": "[encoded data removed]",
      "text/plain": [
       "<Figure size 432x288 with 4 Axes>"
      ]
     },
     "metadata": {
      "needs_background": "light"
     },
     "output_type": "display_data"
    }
   ],
   "source": [
    "from statsmodels.tsa.seasonal import STL\n",
    "\n",
    "res = STL(data,period=2).fit()\n",
    "res.plot()\n",
    "plt.show()"
   ]
  },
  {
   "cell_type": "markdown",
   "id": "0e40f123",
   "metadata": {},
   "source": [
    "One can see that between 1900-1950 there is significant seasonality in the time series, probably also due to the two world wars in that time period."
   ]
  },
  {
   "cell_type": "markdown",
   "id": "2ce0496a",
   "metadata": {},
   "source": [
    "Take a look at summary statistics of the data and a histogram."
   ]
  },
  {
   "cell_type": "code",
   "execution_count": 125,
   "id": "a9d0e431",
   "metadata": {},
   "outputs": [
    {
     "data": {
      "text/html": [
       "<div>\n",
       "<style scoped>\n",
       "    .dataframe tbody tr th:only-of-type {\n",
       "        vertical-align: middle;\n",
       "    }\n",
       "\n",
       "    .dataframe tbody tr th {\n",
       "        vertical-align: top;\n",
       "    }\n",
       "\n",
       "    .dataframe thead th {\n",
       "        text-align: right;\n",
       "    }\n",
       "</style>\n",
       "<table border=\"1\" class=\"dataframe\">\n",
       "  <thead>\n",
       "    <tr style=\"text-align: right;\">\n",
       "      <th></th>\n",
       "      <th>population</th>\n",
       "    </tr>\n",
       "  </thead>\n",
       "  <tbody>\n",
       "    <tr>\n",
       "      <th>count</th>\n",
       "      <td>250.0</td>\n",
       "    </tr>\n",
       "    <tr>\n",
       "      <th>mean</th>\n",
       "      <td>27,835,760.0</td>\n",
       "    </tr>\n",
       "    <tr>\n",
       "      <th>std</th>\n",
       "      <td>15,323,938.1</td>\n",
       "    </tr>\n",
       "    <tr>\n",
       "      <th>min</th>\n",
       "      <td>6,467,000.0</td>\n",
       "    </tr>\n",
       "    <tr>\n",
       "      <th>25%</th>\n",
       "      <td>12,945,750.0</td>\n",
       "    </tr>\n",
       "    <tr>\n",
       "      <th>50%</th>\n",
       "      <td>27,461,000.0</td>\n",
       "    </tr>\n",
       "    <tr>\n",
       "      <th>75%</th>\n",
       "      <td>41,633,500.0</td>\n",
       "    </tr>\n",
       "    <tr>\n",
       "      <th>max</th>\n",
       "      <td>55,219,000.0</td>\n",
       "    </tr>\n",
       "  </tbody>\n",
       "</table>\n",
       "</div>"
      ],
      "text/plain": [
       "        population\n",
       "count        250.0\n",
       "mean  27,835,760.0\n",
       "std   15,323,938.1\n",
       "min    6,467,000.0\n",
       "25%   12,945,750.0\n",
       "50%   27,461,000.0\n",
       "75%   41,633,500.0\n",
       "max   55,219,000.0"
      ]
     },
     "execution_count": 125,
     "metadata": {},
     "output_type": "execute_result"
    }
   ],
   "source": [
    "data.describe()"
   ]
  },
  {
   "cell_type": "code",
   "execution_count": 126,
   "id": "5a781b58",
   "metadata": {},
   "outputs": [
    {
     "data": {
      "text/plain": [
       "array([[<AxesSubplot:title={'center':'population'}>]], dtype=object)"
      ]
     },
     "execution_count": 126,
     "metadata": {},
     "output_type": "execute_result"
    },
    {
     "data": {
      "image/png": "[encoded data removed]",
      "text/plain": [
       "<Figure size 432x288 with 1 Axes>"
      ]
     },
     "metadata": {
      "needs_background": "light"
     },
     "output_type": "display_data"
    }
   ],
   "source": [
    "data.hist()"
   ]
  },
  {
   "cell_type": "markdown",
   "id": "d679ba6d",
   "metadata": {},
   "source": [
    "One can see that clearly the times series has no constant mean, so is not stationary."
   ]
  },
  {
   "cell_type": "markdown",
   "id": "855c071f",
   "metadata": {},
   "source": [
    "To get a closer look at the variance, separate time series into chunks and see if there is heteroscedasticity."
   ]
  },
  {
   "cell_type": "code",
   "execution_count": 127,
   "id": "45c7d37a",
   "metadata": {},
   "outputs": [
    {
     "data": {
      "text/plain": [
       "array([[1.65865878e+11],\n",
       "       [6.41565190e+11],\n",
       "       [1.56729912e+12],\n",
       "       [2.17644255e+12],\n",
       "       [4.55310768e+12],\n",
       "       [4.99170903e+12],\n",
       "       [2.09973973e+12],\n",
       "       [2.72637875e+12],\n",
       "       [2.90688458e+11],\n",
       "       [5.10291019e+12]])"
      ]
     },
     "execution_count": 127,
     "metadata": {},
     "output_type": "execute_result"
    }
   ],
   "source": [
    "chunks = np.split(np.array(data), indices_or_sections=10)\n",
    "np.var(chunks, axis=1)"
   ]
  },
  {
   "cell_type": "markdown",
   "id": "737839ef",
   "metadata": {},
   "source": [
    "One can see there is clearly heteroscedasticity, also conduct a test for this purpose, see [here](https://www.statsmodels.org/dev/generated/statsmodels.tsa.stattools.breakvar_heteroskedasticity_test.html#statsmodels.tsa.stattools.breakvar_heteroskedasticity_test)."
   ]
  },
  {
   "cell_type": "code",
   "execution_count": 128,
   "id": "963ca01d",
   "metadata": {},
   "outputs": [
    {
     "name": "stdout",
     "output_type": "stream",
     "text": [
      "p-value:  3.349485629938015e-31\n"
     ]
    }
   ],
   "source": [
    "from statsmodels.tsa.stattools import breakvar_heteroskedasticity_test\n",
    "\n",
    "print('p-value: ',breakvar_heteroskedasticity_test(data)[1])"
   ]
  },
  {
   "cell_type": "markdown",
   "id": "959a3d0e",
   "metadata": {},
   "source": [
    "The null hypothesis was here that where is no heteroskedasticity, which can be rejected given the p-value."
   ]
  },
  {
   "cell_type": "markdown",
   "id": "01b1e51f",
   "metadata": {},
   "source": [
    "Apply log transformation to numpy array of series, to remove heteroskedasticity, and test again."
   ]
  },
  {
   "cell_type": "code",
   "execution_count": 129,
   "id": "1ae503ad",
   "metadata": {},
   "outputs": [
    {
     "name": "stdout",
     "output_type": "stream",
     "text": [
      "p-value:  0.41014286976219405\n"
     ]
    }
   ],
   "source": [
    "data2 = np.array(data['population'])\n",
    "data_log = np.log(data2)\n",
    "print('p-value: ',breakvar_heteroskedasticity_test(data_log)[1])"
   ]
  },
  {
   "cell_type": "markdown",
   "id": "56a9500a",
   "metadata": {},
   "source": [
    "Given the p-value, the null hypothesis cannot be rejected, and no where is less heteroskedasticity."
   ]
  },
  {
   "cell_type": "markdown",
   "id": "cb7e9805",
   "metadata": {},
   "source": [
    "Take a look athe the autocorrelation."
   ]
  },
  {
   "cell_type": "code",
   "execution_count": 130,
   "id": "aee22961",
   "metadata": {},
   "outputs": [
    {
     "data": {
      "image/png": "[encoded data removed]",
      "text/plain": [
       "<Figure size 432x288 with 1 Axes>"
      ]
     },
     "execution_count": 130,
     "metadata": {},
     "output_type": "execute_result"
    },
    {
     "data": {
      "image/png": "[encoded data removed]",
      "text/plain": [
       "<Figure size 432x288 with 1 Axes>"
      ]
     },
     "metadata": {
      "needs_background": "light"
     },
     "output_type": "display_data"
    },
    {
     "data": {
      "image/png": "[encoded data removed]",
      "text/plain": [
       "<Figure size 432x288 with 1 Axes>"
      ]
     },
     "metadata": {
      "needs_background": "light"
     },
     "output_type": "display_data"
    }
   ],
   "source": [
    "from statsmodels.graphics.tsaplots import plot_acf,plot_pacf\n",
    "plot_acf(data,lags=30)\n",
    "plot_pacf(data,lags=30)"
   ]
  },
  {
   "cell_type": "markdown",
   "id": "e59a37c2",
   "metadata": {},
   "source": [
    "One can see that there is significant autocorrolation for the first 20 legs and the autocorrolation tends slowly to zero, so AR model with p=2 may be appropiate looking at the partial autocorolloation plot."
   ]
  },
  {
   "cell_type": "markdown",
   "id": "817f93df",
   "metadata": {},
   "source": [
    "Conduct Augmented Dickey-Fuller Test to see whether log transformed data is stationary."
   ]
  },
  {
   "cell_type": "code",
   "execution_count": 131,
   "id": "f28abef8",
   "metadata": {},
   "outputs": [
    {
     "name": "stdout",
     "output_type": "stream",
     "text": [
      "p-value:  0.1138948354522557\n"
     ]
    }
   ],
   "source": [
    "from statsmodels.tsa.stattools import adfuller\n",
    "\n",
    "print('p-value: ', adfuller(data_log)[1])"
   ]
  },
  {
   "cell_type": "markdown",
   "id": "102c574d",
   "metadata": {},
   "source": [
    "The nullhypothesis was that the transformed series is non-stationary, which can be rejected as expected, given the autocorrolation."
   ]
  },
  {
   "cell_type": "markdown",
   "id": "a61d3130",
   "metadata": {},
   "source": [
    "Try to remove autocorollation y differencing and test again."
   ]
  },
  {
   "cell_type": "code",
   "execution_count": 132,
   "id": "d439ddfc",
   "metadata": {},
   "outputs": [],
   "source": [
    "data_diff = data_log[1:] - data_log[:-1] "
   ]
  },
  {
   "cell_type": "code",
   "execution_count": 133,
   "id": "0b5f1a6c",
   "metadata": {},
   "outputs": [
    {
     "name": "stdout",
     "output_type": "stream",
     "text": [
      "p-value:  0.3709152928104722\n"
     ]
    }
   ],
   "source": [
    "print('p-value: ', adfuller(data_diff)[1])"
   ]
  },
  {
   "cell_type": "markdown",
   "id": "587077f2",
   "metadata": {},
   "source": [
    "Still nullhypothesis of non-stationarity cannot be rejected to difference again."
   ]
  },
  {
   "cell_type": "code",
   "execution_count": 134,
   "id": "4399eaf4",
   "metadata": {},
   "outputs": [],
   "source": [
    "data_diff2 = data_diff[1:] - data_diff[:-1] "
   ]
  },
  {
   "cell_type": "code",
   "execution_count": 135,
   "id": "51a55497",
   "metadata": {},
   "outputs": [
    {
     "name": "stdout",
     "output_type": "stream",
     "text": [
      "p-value:  1.1359430247560382e-18\n"
     ]
    }
   ],
   "source": [
    "print('p-value: ', adfuller(data_diff2)[1])"
   ]
  },
  {
   "cell_type": "markdown",
   "id": "456dc93a",
   "metadata": {},
   "source": [
    "No data is stationary. If one runs the differencing with the original data, the p-value is smaller, but one also needs to steps of differencing to make it stationary."
   ]
  },
  {
   "cell_type": "markdown",
   "id": "e10cc487",
   "metadata": {},
   "source": [
    "Plot the two times differenced log data."
   ]
  },
  {
   "cell_type": "code",
   "execution_count": 136,
   "id": "e0e20ab1",
   "metadata": {},
   "outputs": [
    {
     "data": {
      "text/plain": [
       "<AxesSubplot:>"
      ]
     },
     "execution_count": 136,
     "metadata": {},
     "output_type": "execute_result"
    },
    {
     "data": {
      "image/png": "[encoded data removed]",
      "text/plain": [
       "<Figure size 432x288 with 1 Axes>"
      ]
     },
     "metadata": {
      "needs_background": "light"
     },
     "output_type": "display_data"
    }
   ],
   "source": [
    "pd.Series(data_diff2).plot()"
   ]
  },
  {
   "cell_type": "markdown",
   "id": "e0e3b4bc",
   "metadata": {},
   "source": [
    "Also plot the original data two times differenced."
   ]
  },
  {
   "cell_type": "code",
   "execution_count": 137,
   "id": "905528a1",
   "metadata": {},
   "outputs": [
    {
     "data": {
      "text/plain": [
       "<AxesSubplot:>"
      ]
     },
     "execution_count": 137,
     "metadata": {},
     "output_type": "execute_result"
    },
    {
     "data": {
      "image/png": "[encoded data removed]",
      "text/plain": [
       "<Figure size 432x288 with 1 Axes>"
      ]
     },
     "metadata": {
      "needs_background": "light"
     },
     "output_type": "display_data"
    }
   ],
   "source": [
    "data_diff = data2[1:] - data2[:-1]\n",
    "data_diff2 = data_diff[1:] - data_diff[:-1] \n",
    "pd.Series(data_diff2).plot()"
   ]
  },
  {
   "cell_type": "markdown",
   "id": "e8b90200",
   "metadata": {},
   "source": [
    "Now look how good ARIMA models can predict the future population. Use a pdarima to automatically find the best model."
   ]
  },
  {
   "cell_type": "markdown",
   "id": "e9d994dc",
   "metadata": {},
   "source": [
    "Define function to measure the error on test set."
   ]
  },
  {
   "cell_type": "code",
   "execution_count": 138,
   "id": "8439cc0b",
   "metadata": {},
   "outputs": [],
   "source": [
    "def mape(df_cv):\n",
    "    return abs(df_cv.actual - df_cv.fcst).sum() / df_cv.actual.sum()"
   ]
  },
  {
   "cell_type": "markdown",
   "id": "9c96face",
   "metadata": {},
   "source": [
    "First try with the orginal data without log transformation, with test set the last 50 observations. Note the differencing will be made automatically by the ARIMA model."
   ]
  },
  {
   "cell_type": "code",
   "execution_count": 139,
   "id": "49cb9a2b",
   "metadata": {},
   "outputs": [
    {
     "name": "stdout",
     "output_type": "stream",
     "text": [
      "Performing stepwise search to minimize aic\n",
      " ARIMA(2,2,2)(0,0,0)[0]             : AIC=inf, Time=0.20 sec\n",
      " ARIMA(0,2,0)(0,0,0)[0]             : AIC=5119.104, Time=0.02 sec\n",
      " ARIMA(1,2,0)(0,0,0)[0]             : AIC=5121.495, Time=0.02 sec\n",
      " ARIMA(0,2,1)(0,0,0)[0]             : AIC=5125.258, Time=0.02 sec\n",
      " ARIMA(1,2,1)(0,0,0)[0]             : AIC=inf, Time=0.08 sec\n",
      " ARIMA(0,2,0)(0,0,0)[0] intercept   : AIC=5121.057, Time=0.00 sec\n",
      "\n",
      "Best model:  ARIMA(0,2,0)(0,0,0)[0]          \n",
      "Total fit time: 0.330 seconds\n",
      "5119.103536538678\n"
     ]
    }
   ],
   "source": [
    "stepwise_model = pm.auto_arima(data2[:-50],\n",
    "                           trace=True,max_order=None,\n",
    "                           error_action='ignore',  \n",
    "                           suppress_warnings=True, \n",
    "                           stepwise=True)\n",
    "print(stepwise_model.aic())"
   ]
  },
  {
   "cell_type": "markdown",
   "id": "c72d8c2c",
   "metadata": {},
   "source": [
    "As expected the data has been two times differenced, but the p and q value are both zero."
   ]
  },
  {
   "cell_type": "markdown",
   "id": "160cf696",
   "metadata": {},
   "source": [
    "Look how good the predictions are."
   ]
  },
  {
   "cell_type": "code",
   "execution_count": 140,
   "id": "bb715bd9",
   "metadata": {},
   "outputs": [],
   "source": [
    "data_predict = np.concatenate((data2[:-50].astype(int),stepwise_model.predict(n_periods=50).astype(int)))"
   ]
  },
  {
   "cell_type": "code",
   "execution_count": 141,
   "id": "f5d376c8",
   "metadata": {},
   "outputs": [],
   "source": [
    "data3 = pd.DataFrame({'actual':data2,'fcst':data_predict})"
   ]
  },
  {
   "cell_type": "code",
   "execution_count": 142,
   "id": "69bba489",
   "metadata": {},
   "outputs": [
    {
     "data": {
      "text/plain": [
       "0.027001526094491402"
      ]
     },
     "execution_count": 142,
     "metadata": {},
     "output_type": "execute_result"
    },
    {
     "data": {
      "image/png": "[encoded data removed]",
      "text/plain": [
       "<Figure size 432x288 with 1 Axes>"
      ]
     },
     "metadata": {
      "needs_background": "light"
     },
     "output_type": "display_data"
    }
   ],
   "source": [
    "data3.plot()\n",
    "mape(data3)"
   ]
  },
  {
   "cell_type": "markdown",
   "id": "0f19b265",
   "metadata": {},
   "source": [
    "One can see that the predictions are not very good, the model does not pick up the trend of the reduced growth rate."
   ]
  },
  {
   "cell_type": "markdown",
   "id": "7c622820",
   "metadata": {},
   "source": [
    "Now try the same with the log transformed data."
   ]
  },
  {
   "cell_type": "code",
   "execution_count": 143,
   "id": "91d55601",
   "metadata": {},
   "outputs": [
    {
     "name": "stdout",
     "output_type": "stream",
     "text": [
      "Performing stepwise search to minimize aic\n",
      " ARIMA(2,2,2)(0,0,0)[0]             : AIC=-1790.247, Time=0.18 sec\n",
      " ARIMA(0,2,0)(0,0,0)[0]             : AIC=-1735.925, Time=0.06 sec\n",
      " ARIMA(1,2,0)(0,0,0)[0]             : AIC=-1769.908, Time=0.06 sec\n",
      " ARIMA(0,2,1)(0,0,0)[0]             : AIC=-1787.566, Time=0.03 sec\n",
      " ARIMA(1,2,2)(0,0,0)[0]             : AIC=-1789.681, Time=0.11 sec\n",
      " ARIMA(2,2,1)(0,0,0)[0]             : AIC=-1790.232, Time=0.14 sec\n",
      " ARIMA(3,2,2)(0,0,0)[0]             : AIC=-1760.349, Time=0.28 sec\n",
      " ARIMA(2,2,3)(0,0,0)[0]             : AIC=-1790.628, Time=0.13 sec\n",
      " ARIMA(1,2,3)(0,0,0)[0]             : AIC=-1791.219, Time=0.09 sec\n",
      " ARIMA(0,2,3)(0,0,0)[0]             : AIC=-1793.469, Time=0.14 sec\n",
      " ARIMA(0,2,2)(0,0,0)[0]             : AIC=-1792.205, Time=0.06 sec\n",
      " ARIMA(0,2,4)(0,0,0)[0]             : AIC=-1791.179, Time=0.27 sec\n",
      " ARIMA(1,2,4)(0,0,0)[0]             : AIC=-1788.392, Time=0.28 sec\n",
      " ARIMA(0,2,3)(0,0,0)[0] intercept   : AIC=-1791.458, Time=0.24 sec\n",
      "\n",
      "Best model:  ARIMA(0,2,3)(0,0,0)[0]          \n",
      "Total fit time: 2.075 seconds\n",
      "-1793.468932849239\n"
     ]
    }
   ],
   "source": [
    "stepwise_model = pm.auto_arima(data_log[:-50],\n",
    "                           trace=True,max_order=None,\n",
    "                           error_action='ignore',  \n",
    "                           suppress_warnings=True, \n",
    "                           stepwise=True)\n",
    "print(stepwise_model.aic())"
   ]
  },
  {
   "cell_type": "code",
   "execution_count": 144,
   "id": "3713058d",
   "metadata": {},
   "outputs": [],
   "source": [
    "data_predict = np.concatenate((data2[:-50].astype(int),np.exp(stepwise_model.predict(n_periods=50)).astype(int)))"
   ]
  },
  {
   "cell_type": "code",
   "execution_count": 145,
   "id": "8ff5ed6b",
   "metadata": {},
   "outputs": [],
   "source": [
    "data3 = pd.DataFrame({'actual':data2,'fcst':data_predict})"
   ]
  },
  {
   "cell_type": "code",
   "execution_count": 146,
   "id": "44bd99d6",
   "metadata": {},
   "outputs": [
    {
     "data": {
      "text/plain": [
       "<AxesSubplot:>"
      ]
     },
     "execution_count": 146,
     "metadata": {},
     "output_type": "execute_result"
    },
    {
     "data": {
      "image/png": "[encoded data removed]",
      "text/plain": [
       "<Figure size 432x288 with 1 Axes>"
      ]
     },
     "metadata": {
      "needs_background": "light"
     },
     "output_type": "display_data"
    }
   ],
   "source": [
    "mape(data3)\n",
    "data3.plot()"
   ]
  },
  {
   "cell_type": "markdown",
   "id": "4743a918",
   "metadata": {},
   "source": [
    "The automatic search put out a model with two times differenced and p=0 and q=3, but the predictions are still worse compared to the last model."
   ]
  },
  {
   "cell_type": "markdown",
   "id": "548fa349",
   "metadata": {},
   "source": [
    "## Conclusion"
   ]
  },
  {
   "cell_type": "markdown",
   "id": "b535e333",
   "metadata": {},
   "source": [
    "The ARIMA models do not deliver good results predicting the future population, which may be due to the other factors influencing  the popolution like fertility rate or migration not covered by the model. Considering these various influecing variables one may attain better predictions."
   ]
  }
 ],
 "metadata": {
  "kernelspec": {
   "display_name": "Python 3 (ipykernel)",
   "language": "python",
   "name": "python3"
  },
  "language_info": {
   "codemirror_mode": {
    "name": "ipython",
    "version": 3
   },
   "file_extension": ".py",
   "mimetype": "text/x-python",
   "name": "python",
   "nbconvert_exporter": "python",
   "pygments_lexer": "ipython3",
   "version": "3.9.12"
  }
 },
 "nbformat": 4,
 "nbformat_minor": 5
}
