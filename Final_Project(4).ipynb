{
 "cells": [
  {
   "cell_type": "markdown",
   "id": "94b40de2",
   "metadata": {},
   "source": [
    "# Chinese MNIST Classification"
   ]
  },
  {
   "cell_type": "markdown",
   "id": "20aa6832",
   "metadata": {},
   "source": [
    "In this project this [dataset](https://www.kaggle.com/datasets/gpreda/chinese-mnist) from Kaggle, containing 15 handwritten Chinese characters, representing numbers, will be analyzed via Convolutional Neural Networks."
   ]
  },
  {
   "cell_type": "markdown",
   "id": "6625a0be",
   "metadata": {},
   "source": [
    "## **Import the required libraries**"
   ]
  },
  {
   "cell_type": "code",
   "execution_count": 1,
   "id": "a6bc23f3",
   "metadata": {},
   "outputs": [],
   "source": [
    "import sklearn\n",
    "import numpy as np\n",
    "import pandas as pd \n",
    "import tensorflow as tf\n",
    "import os\n",
    "import random\n",
    "\n",
    "from tensorflow.keras.utils import load_img\n",
    "from tensorflow.keras.utils import img_to_array\n",
    "\n",
    "import cv2\n",
    "\n",
    "import matplotlib\n",
    "from matplotlib import pyplot as plt\n",
    "import matplotlib.image as mpimg\n",
    "\n",
    "\n",
    "\n",
    "import seaborn as sns\n",
    "\n",
    "import keras\n",
    "from keras.preprocessing.image import ImageDataGenerator\n",
    "from keras.models import Sequential\n",
    "from keras.layers import Dense, Dropout, Activation, Flatten\n",
    "from keras.layers import Conv2D, MaxPooling2D\n",
    "import matplotlib.pyplot as plt\n",
    "\n",
    "\n",
    "from sklearn.metrics import classification_report\n",
    "from sklearn.metrics import confusion_matrix\n",
    "import matplotlib.font_manager as fm\n"
   ]
  },
  {
   "cell_type": "markdown",
   "id": "ca2bcc20",
   "metadata": {},
   "source": [
    "## **Reading and understanding of the data**"
   ]
  },
  {
   "cell_type": "markdown",
   "id": "9b42dca5",
   "metadata": {},
   "source": [
    "This was part of a project from two researchers from the University of Newcastle two collected from 100 participants from Mainland China handwritten samples of 15 simplified Chinese characters, representing numbers, where each participant wrote each character 10 times, resulting in a data set of 15,000 samples. For more information see [here]( [dataset](https://www.kaggle.com/datasets/gpreda/chinese-mnist). Note that today Chinese characters are used widespreadly only in Mainland China, Taiwan and Japan, where Taiwan uses traditional characters, and Mainland China and Japan are using different versions of simplified characters. Here is a list of the characters in the dataset with their corresponding numbers and codes in the dataset.\n",
    "\n",
    "Number |Character|Code|\n",
    "-----|-----|-----|\n",
    "0|零|1|\n",
    "1|一|2|\n",
    "2|二|3|\n",
    "3|三|4|\n",
    "4|四|5|\n",
    "5|五|6|\n",
    "6|六|7|\n",
    "7|七|8|\n",
    "8|八|9|\n",
    "9|九|10|\n",
    "10|十|11|\n",
    "100|百|12|\n",
    "1,000|千|13|\n",
    "10,000|万|14|\n",
    "100,000,000|亿|15|\n",
    "\n",
    "\n",
    "The character 万, also used in Japan, is a simplified version of 萬, and 亿 is a simplified version of 億, which is also used in Japan. \n",
    "\n",
    "<br> In the following Convolutional Neural Networks will be used to build a model predicting the handwritten characters with high accuracy, and the results will be analyzed. This short [notebook](https://www.kaggle.com/code/maslakers/chinesemnist) has been used as a template."
   ]
  },
  {
   "cell_type": "code",
   "execution_count": 2,
   "id": "9a80e708",
   "metadata": {},
   "outputs": [],
   "source": [
    "data = pd.read_csv(\"chinese_mnist.csv\")"
   ]
  },
  {
   "cell_type": "code",
   "execution_count": 3,
   "id": "d2a4a678",
   "metadata": {},
   "outputs": [
    {
     "data": {
      "text/html": [
       "<div>\n",
       "<style scoped>\n",
       "    .dataframe tbody tr th:only-of-type {\n",
       "        vertical-align: middle;\n",
       "    }\n",
       "\n",
       "    .dataframe tbody tr th {\n",
       "        vertical-align: top;\n",
       "    }\n",
       "\n",
       "    .dataframe thead th {\n",
       "        text-align: right;\n",
       "    }\n",
       "</style>\n",
       "<table border=\"1\" class=\"dataframe\">\n",
       "  <thead>\n",
       "    <tr style=\"text-align: right;\">\n",
       "      <th></th>\n",
       "      <th>suite_id</th>\n",
       "      <th>sample_id</th>\n",
       "      <th>code</th>\n",
       "      <th>value</th>\n",
       "      <th>character</th>\n",
       "    </tr>\n",
       "  </thead>\n",
       "  <tbody>\n",
       "    <tr>\n",
       "      <th>0</th>\n",
       "      <td>1</td>\n",
       "      <td>1</td>\n",
       "      <td>10</td>\n",
       "      <td>9</td>\n",
       "      <td>九</td>\n",
       "    </tr>\n",
       "    <tr>\n",
       "      <th>1</th>\n",
       "      <td>1</td>\n",
       "      <td>10</td>\n",
       "      <td>10</td>\n",
       "      <td>9</td>\n",
       "      <td>九</td>\n",
       "    </tr>\n",
       "    <tr>\n",
       "      <th>2</th>\n",
       "      <td>1</td>\n",
       "      <td>2</td>\n",
       "      <td>10</td>\n",
       "      <td>9</td>\n",
       "      <td>九</td>\n",
       "    </tr>\n",
       "    <tr>\n",
       "      <th>3</th>\n",
       "      <td>1</td>\n",
       "      <td>3</td>\n",
       "      <td>10</td>\n",
       "      <td>9</td>\n",
       "      <td>九</td>\n",
       "    </tr>\n",
       "    <tr>\n",
       "      <th>4</th>\n",
       "      <td>1</td>\n",
       "      <td>4</td>\n",
       "      <td>10</td>\n",
       "      <td>9</td>\n",
       "      <td>九</td>\n",
       "    </tr>\n",
       "  </tbody>\n",
       "</table>\n",
       "</div>"
      ],
      "text/plain": [
       "   suite_id  sample_id  code  value character\n",
       "0         1          1    10      9         九\n",
       "1         1         10    10      9         九\n",
       "2         1          2    10      9         九\n",
       "3         1          3    10      9         九\n",
       "4         1          4    10      9         九"
      ]
     },
     "execution_count": 3,
     "metadata": {},
     "output_type": "execute_result"
    }
   ],
   "source": [
    "data.head()"
   ]
  },
  {
   "cell_type": "markdown",
   "id": "682c6a38",
   "metadata": {},
   "source": [
    "Here the `suite_id` corresponds to each participants, the `sample_id` corresponds to the round of the sample, and the remaining columns just to the character."
   ]
  },
  {
   "cell_type": "markdown",
   "id": "d84b1b3e",
   "metadata": {},
   "source": [
    "Verify that this data is clean."
   ]
  },
  {
   "cell_type": "code",
   "execution_count": 4,
   "id": "87c9fca1",
   "metadata": {},
   "outputs": [],
   "source": [
    "data.drop_duplicates(inplace=True)"
   ]
  },
  {
   "cell_type": "code",
   "execution_count": 5,
   "id": "c7a17613",
   "metadata": {},
   "outputs": [
    {
     "data": {
      "text/plain": [
       "九    1000\n",
       "十    1000\n",
       "百    1000\n",
       "千    1000\n",
       "万    1000\n",
       "亿    1000\n",
       "零    1000\n",
       "一    1000\n",
       "二    1000\n",
       "三    1000\n",
       "四    1000\n",
       "五    1000\n",
       "六    1000\n",
       "七    1000\n",
       "八    1000\n",
       "Name: character, dtype: int64"
      ]
     },
     "execution_count": 5,
     "metadata": {},
     "output_type": "execute_result"
    }
   ],
   "source": [
    "data['character'].value_counts()"
   ]
  },
  {
   "cell_type": "code",
   "execution_count": 6,
   "id": "a4b5d404",
   "metadata": {},
   "outputs": [
    {
     "data": {
      "text/plain": [
       "(15000, 5)"
      ]
     },
     "execution_count": 6,
     "metadata": {},
     "output_type": "execute_result"
    }
   ],
   "source": [
    "data.shape"
   ]
  },
  {
   "cell_type": "markdown",
   "id": "655ba732",
   "metadata": {},
   "source": [
    "This function gets the image file name for each row."
   ]
  },
  {
   "cell_type": "code",
   "execution_count": 7,
   "id": "7727aad4",
   "metadata": {},
   "outputs": [],
   "source": [
    "def getImg(x):\n",
    "    imgName = f\"input_{x[0]}_{x[1]}_{x[2]}.jpg\"\n",
    "    \n",
    "    return imgName"
   ]
  },
  {
   "cell_type": "code",
   "execution_count": 8,
   "id": "d8c86da5",
   "metadata": {},
   "outputs": [
    {
     "name": "stdout",
     "output_type": "stream",
     "text": [
      "[1, 1, 10]\n"
     ]
    }
   ],
   "source": [
    "actualData = []\n",
    "\n",
    "for record in data.iterrows():\n",
    "    \n",
    "    actualData.append([ record[1].suite_id, record[1].sample_id, record[1].code ])\n",
    "  \n",
    "\n",
    "print(actualData[0])"
   ]
  },
  {
   "cell_type": "code",
   "execution_count": 9,
   "id": "ef90b063",
   "metadata": {},
   "outputs": [
    {
     "name": "stdout",
     "output_type": "stream",
     "text": [
      "[1, 1, 10, 'input_1_1_10.jpg']\n"
     ]
    }
   ],
   "source": [
    "for record in actualData:\n",
    "    record.append(getImg(record))\n",
    "    \n",
    "print(actualData[0])"
   ]
  },
  {
   "cell_type": "markdown",
   "id": "e5407ff3",
   "metadata": {},
   "source": [
    "Create list of all the image file names and the labels. "
   ]
  },
  {
   "cell_type": "code",
   "execution_count": 10,
   "id": "6e89f70a",
   "metadata": {},
   "outputs": [
    {
     "name": "stdout",
     "output_type": "stream",
     "text": [
      "(15000,) (15000,)\n"
     ]
    }
   ],
   "source": [
    "actualData = np.array(actualData)\n",
    "actualData = actualData.T\n",
    "\n",
    "y_data = actualData[2]\n",
    "X_data = actualData[3]\n",
    "\n",
    "print(y_data.shape, X_data.shape)"
   ]
  },
  {
   "cell_type": "markdown",
   "id": "50d96f4b",
   "metadata": {},
   "source": [
    "Load image files and save them as gray images."
   ]
  },
  {
   "cell_type": "code",
   "execution_count": 11,
   "id": "7bcc0331",
   "metadata": {},
   "outputs": [],
   "source": [
    "\n",
    "dataPath = \"C:/Users/fjung/Documents/data\"\n",
    "arrayOfPixels = []\n",
    "\n",
    "for path in X_data:\n",
    "    img = load_img(dataPath + \"/\" + path)\n",
    "    \n",
    "    proccesedImg = img_to_array(img)\n",
    "    gray_img = cv2.cvtColor(proccesedImg,cv2.COLOR_BGR2GRAY)\n",
    "    \n",
    "    arrayOfPixels.append(gray_img)\n",
    "    \n",
    "arrayOfPixels = np.array(arrayOfPixels)\n",
    "X_data = arrayOfPixels"
   ]
  },
  {
   "cell_type": "code",
   "execution_count": 12,
   "id": "b21ce800",
   "metadata": {},
   "outputs": [
    {
     "data": {
      "text/plain": [
       "(15000, 64, 64)"
      ]
     },
     "execution_count": 12,
     "metadata": {},
     "output_type": "execute_result"
    }
   ],
   "source": [
    "X_data.shape"
   ]
  },
  {
   "cell_type": "code",
   "execution_count": 13,
   "id": "31f9a5c9",
   "metadata": {},
   "outputs": [],
   "source": [
    "y_data = y_data.astype(np.int32)\n",
    "\n",
    "y_data = np.subtract(y_data, 1)"
   ]
  },
  {
   "cell_type": "code",
   "execution_count": 14,
   "id": "03439b81",
   "metadata": {},
   "outputs": [
    {
     "data": {
      "text/plain": [
       "(15000,)"
      ]
     },
     "execution_count": 14,
     "metadata": {},
     "output_type": "execute_result"
    }
   ],
   "source": [
    "y_data.shape "
   ]
  },
  {
   "cell_type": "markdown",
   "id": "de655fb8",
   "metadata": {},
   "source": [
    "Separate data into train and test set with 12000 training samples and 3000 test samples."
   ]
  },
  {
   "cell_type": "code",
   "execution_count": 15,
   "id": "35361a81",
   "metadata": {},
   "outputs": [],
   "source": [
    "randomSeed = random.randrange(1, 1000)\n",
    "\n",
    "X_data = sklearn.utils.shuffle(X_data, random_state=randomSeed)\n",
    "y_data = sklearn.utils.shuffle(y_data, random_state=randomSeed)\n",
    "\n",
    "# As before, let's make everything float and scale\n",
    "X_data = X_data.astype('float32')\n",
    "X_data /= 255\n",
    "\n",
    "# Train, test split\n",
    "X_train = X_data[0:12000]\n",
    "y_train = y_data[0:12000]\n",
    "\n",
    "X_test = X_data[12000:15000]\n",
    "y_test = y_data[12000:15000]\n",
    "\n"
   ]
  },
  {
   "cell_type": "markdown",
   "id": "80dac70a",
   "metadata": {},
   "source": [
    "Now take a look at a few samples."
   ]
  },
  {
   "cell_type": "code",
   "execution_count": 17,
   "id": "406b3615",
   "metadata": {},
   "outputs": [
    {
     "name": "stdout",
     "output_type": "stream",
     "text": [
      "reality:  0\n"
     ]
    },
    {
     "data": {
      "text/plain": [
       "<matplotlib.image.AxesImage at 0x1f229f8c3a0>"
      ]
     },
     "execution_count": 17,
     "metadata": {},
     "output_type": "execute_result"
    },
    {
     "data": {
      "image/png": "[encoded data removed]",
      "text/plain": [
       "<Figure size 432x288 with 1 Axes>"
      ]
     },
     "metadata": {
      "needs_background": "light"
     },
     "output_type": "display_data"
    }
   ],
   "source": [
    "\n",
    "print(\"reality: \", y_test[0])\n",
    "plt.imshow(X_test[0], cmap=plt.cm.binary)\n"
   ]
  },
  {
   "cell_type": "code",
   "execution_count": 19,
   "id": "4d6b8077",
   "metadata": {},
   "outputs": [
    {
     "name": "stdout",
     "output_type": "stream",
     "text": [
      "reality:  12\n"
     ]
    },
    {
     "data": {
      "text/plain": [
       "<matplotlib.image.AxesImage at 0x1f248d9fc10>"
      ]
     },
     "execution_count": 19,
     "metadata": {},
     "output_type": "execute_result"
    },
    {
     "data": {
      "image/png": "[encoded data removed]",
      "text/plain": [
       "<Figure size 432x288 with 1 Axes>"
      ]
     },
     "metadata": {
      "needs_background": "light"
     },
     "output_type": "display_data"
    }
   ],
   "source": [
    "print(\"reality: \", y_test[1])\n",
    "plt.imshow(X_test[1], cmap=plt.cm.binary)"
   ]
  },
  {
   "cell_type": "markdown",
   "id": "724eb1be",
   "metadata": {},
   "source": [
    "# Models"
   ]
  },
  {
   "cell_type": "markdown",
   "id": "74a55237",
   "metadata": {},
   "source": [
    "Try 3 diiferent models and look which performs best"
   ]
  },
  {
   "cell_type": "markdown",
   "id": "7def1799",
   "metadata": {},
   "source": [
    "First just a neural network without any convolution."
   ]
  },
  {
   "cell_type": "code",
   "execution_count": 20,
   "id": "8fa5be99",
   "metadata": {},
   "outputs": [
    {
     "name": "stdout",
     "output_type": "stream",
     "text": [
      "Epoch 1/10\n",
      "375/375 [==============================] - 12s 30ms/step - loss: 1.6232 - accuracy: 0.4615\n",
      "Epoch 2/10\n",
      "375/375 [==============================] - 11s 29ms/step - loss: 0.6624 - accuracy: 0.7757\n",
      "Epoch 3/10\n",
      "375/375 [==============================] - 11s 29ms/step - loss: 0.3482 - accuracy: 0.8809\n",
      "Epoch 4/10\n",
      "375/375 [==============================] - 11s 29ms/step - loss: 0.2024 - accuracy: 0.9312\n",
      "Epoch 5/10\n",
      "375/375 [==============================] - 11s 30ms/step - loss: 0.1498 - accuracy: 0.9525\n",
      "Epoch 6/10\n",
      "375/375 [==============================] - 11s 30ms/step - loss: 0.1034 - accuracy: 0.9668\n",
      "Epoch 7/10\n",
      "375/375 [==============================] - 11s 29ms/step - loss: 0.0882 - accuracy: 0.9728\n",
      "Epoch 8/10\n",
      "375/375 [==============================] - 11s 29ms/step - loss: 0.0675 - accuracy: 0.9787\n",
      "Epoch 9/10\n",
      "375/375 [==============================] - 12s 31ms/step - loss: 0.0724 - accuracy: 0.9774\n",
      "Epoch 10/10\n",
      "375/375 [==============================] - 14s 36ms/step - loss: 0.0614 - accuracy: 0.9804\n"
     ]
    },
    {
     "data": {
      "text/plain": [
       "<keras.callbacks.History at 0x1f248e31430>"
      ]
     },
     "execution_count": 20,
     "metadata": {},
     "output_type": "execute_result"
    }
   ],
   "source": [
    "model1 = tf.keras.models.Sequential()\n",
    "\n",
    "\n",
    "    \n",
    "model1.add(tf.keras.layers.Flatten())\n",
    "model1.add(tf.keras.layers.Dense(2046, activation=\"relu\"))\n",
    "model1.add(tf.keras.layers.Dense(128, activation=\"relu\"))\n",
    "model1.add(tf.keras.layers.Dense(128, activation=\"relu\"))\n",
    "model1.add(tf.keras.layers.Dropout(0.5))\n",
    "model1.add(tf.keras.layers.Dense(15, activation=\"softmax\"))\n",
    "\n",
    "model1.compile(\n",
    "    optimizer='adam',\n",
    "    loss='sparse_categorical_crossentropy',\n",
    "    metrics=['accuracy']\n",
    ")\n",
    "\n",
    "model1.fit(X_train, y_train, epochs=10)\n",
    "\n"
   ]
  },
  {
   "cell_type": "code",
   "execution_count": 21,
   "id": "ff147eab",
   "metadata": {},
   "outputs": [
    {
     "name": "stdout",
     "output_type": "stream",
     "text": [
      "94/94 [==============================] - 1s 7ms/step - loss: 0.5917 - accuracy: 0.8667\n"
     ]
    },
    {
     "data": {
      "text/plain": [
       "[0.5916736125946045, 0.8666666746139526]"
      ]
     },
     "execution_count": 21,
     "metadata": {},
     "output_type": "execute_result"
    }
   ],
   "source": [
    "model1.evaluate(X_test, y_test)"
   ]
  },
  {
   "cell_type": "markdown",
   "id": "0443a590",
   "metadata": {},
   "source": [
    "One can see that the model is overfitting since the training accuracy is much higher than the test accuracy. Still the the training accuracy is still bad with about 85%."
   ]
  },
  {
   "cell_type": "markdown",
   "id": "58acca2a",
   "metadata": {},
   "source": [
    "Next try a convolutional neural network with pooling and dropout."
   ]
  },
  {
   "cell_type": "code",
   "execution_count": 22,
   "id": "ea394467",
   "metadata": {},
   "outputs": [
    {
     "name": "stdout",
     "output_type": "stream",
     "text": [
      "Epoch 1/10\n",
      "375/375 [==============================] - 13s 34ms/step - loss: 1.3920 - accuracy: 0.5435\n",
      "Epoch 2/10\n",
      "375/375 [==============================] - 12s 33ms/step - loss: 0.5366 - accuracy: 0.8201\n",
      "Epoch 3/10\n",
      "375/375 [==============================] - 12s 31ms/step - loss: 0.3308 - accuracy: 0.8914\n",
      "Epoch 4/10\n",
      "375/375 [==============================] - 11s 30ms/step - loss: 0.2384 - accuracy: 0.9210\n",
      "Epoch 5/10\n",
      "375/375 [==============================] - 11s 30ms/step - loss: 0.1753 - accuracy: 0.9415\n",
      "Epoch 6/10\n",
      "375/375 [==============================] - 11s 29ms/step - loss: 0.1436 - accuracy: 0.9510\n",
      "Epoch 7/10\n",
      "375/375 [==============================] - 11s 29ms/step - loss: 0.1191 - accuracy: 0.9601\n",
      "Epoch 8/10\n",
      "375/375 [==============================] - 11s 29ms/step - loss: 0.0977 - accuracy: 0.9672\n",
      "Epoch 9/10\n",
      "375/375 [==============================] - 13s 35ms/step - loss: 0.0841 - accuracy: 0.9720\n",
      "Epoch 10/10\n",
      "375/375 [==============================] - 15s 39ms/step - loss: 0.0809 - accuracy: 0.9721\n"
     ]
    },
    {
     "data": {
      "text/plain": [
       "<keras.callbacks.History at 0x1f24b978820>"
      ]
     },
     "execution_count": 22,
     "metadata": {},
     "output_type": "execute_result"
    }
   ],
   "source": [
    "model2 = tf.keras.models.Sequential()\n",
    "\n",
    "model2.add(tf.keras.layers.Conv2D(\n",
    "            32, (3, 3), activation=\"relu\", input_shape=(64, 64, 1))) \n",
    "\n",
    "model2.add(tf.keras.layers.MaxPooling2D(pool_size=(3, 3)))\n",
    "    \n",
    "model2.add(tf.keras.layers.Flatten())\n",
    "model2.add(tf.keras.layers.Dense(264, activation=\"relu\"))\n",
    "model2.add(tf.keras.layers.Dropout(0.25))\n",
    "model2.add(tf.keras.layers.Dense(264, activation=\"relu\"))\n",
    "model2.add(tf.keras.layers.Dropout(0.5))\n",
    "model2.add(tf.keras.layers.Dense(15, activation=\"softmax\"))\n",
    "\n",
    "model2.compile(\n",
    "    optimizer='adam',\n",
    "    loss='sparse_categorical_crossentropy',\n",
    "    metrics=['accuracy']\n",
    ")\n",
    "\n",
    "model2.fit(X_train, y_train, epochs=10)"
   ]
  },
  {
   "cell_type": "code",
   "execution_count": 23,
   "id": "93afcba2",
   "metadata": {},
   "outputs": [
    {
     "name": "stdout",
     "output_type": "stream",
     "text": [
      "94/94 [==============================] - 1s 11ms/step - loss: 0.1535 - accuracy: 0.9570\n"
     ]
    },
    {
     "data": {
      "text/plain": [
       "[0.15346592664718628, 0.9570000171661377]"
      ]
     },
     "execution_count": 23,
     "metadata": {},
     "output_type": "execute_result"
    }
   ],
   "source": [
    "model2.evaluate(X_test, y_test)"
   ]
  },
  {
   "cell_type": "markdown",
   "id": "de4ffdb3",
   "metadata": {},
   "source": [
    "This model has a similar accuracy both one the training set and the test set, and the test accuracy is fairly high with about 95%. So in conclusion a good model has been found."
   ]
  },
  {
   "cell_type": "markdown",
   "id": "94650f3a",
   "metadata": {},
   "source": [
    "Now try a slight modification of the prevoius model, by adding one more hidden layer and see if there in any improvement, but keeping the trainable parameters similar to the last model."
   ]
  },
  {
   "cell_type": "code",
   "execution_count": 24,
   "id": "8d8c4f65",
   "metadata": {},
   "outputs": [
    {
     "name": "stdout",
     "output_type": "stream",
     "text": [
      "Epoch 1/10\n",
      "375/375 [==============================] - 13s 34ms/step - loss: 1.7488 - accuracy: 0.4292\n",
      "Epoch 2/10\n",
      "375/375 [==============================] - 12s 32ms/step - loss: 0.7511 - accuracy: 0.7419\n",
      "Epoch 3/10\n",
      "375/375 [==============================] - 12s 32ms/step - loss: 0.4560 - accuracy: 0.8484\n",
      "Epoch 4/10\n",
      "375/375 [==============================] - 11s 31ms/step - loss: 0.3241 - accuracy: 0.8905\n",
      "Epoch 5/10\n",
      "375/375 [==============================] - 11s 30ms/step - loss: 0.2421 - accuracy: 0.9218\n",
      "Epoch 6/10\n",
      "375/375 [==============================] - 11s 30ms/step - loss: 0.1986 - accuracy: 0.9362\n",
      "Epoch 7/10\n",
      "375/375 [==============================] - 11s 29ms/step - loss: 0.1640 - accuracy: 0.9482\n",
      "Epoch 8/10\n",
      "375/375 [==============================] - 14s 38ms/step - loss: 0.1391 - accuracy: 0.9575\n",
      "Epoch 9/10\n",
      "375/375 [==============================] - 14s 36ms/step - loss: 0.1172 - accuracy: 0.9611\n",
      "Epoch 10/10\n",
      "375/375 [==============================] - 13s 34ms/step - loss: 0.1050 - accuracy: 0.9662\n"
     ]
    },
    {
     "data": {
      "text/plain": [
       "<keras.callbacks.History at 0x1f24cab1a60>"
      ]
     },
     "execution_count": 24,
     "metadata": {},
     "output_type": "execute_result"
    }
   ],
   "source": [
    "model3 = tf.keras.models.Sequential()\n",
    "\n",
    "model3.add(tf.keras.layers.Conv2D(\n",
    "            32, (3, 3), activation=\"relu\", input_shape=(64, 64, 1))) \n",
    "\n",
    "model3.add(tf.keras.layers.MaxPooling2D(pool_size=(3, 3)))\n",
    "    \n",
    "model3.add(tf.keras.layers.Flatten())\n",
    "model3.add(tf.keras.layers.Dense(264, activation=\"relu\"))\n",
    "model3.add(tf.keras.layers.Dropout(0.25))\n",
    "model3.add(tf.keras.layers.Dense(128, activation=\"relu\"))\n",
    "model3.add(tf.keras.layers.Dropout(0.25))\n",
    "model3.add(tf.keras.layers.Dense(128, activation=\"relu\"))\n",
    "model3.add(tf.keras.layers.Dropout(0.5))\n",
    "model3.add(tf.keras.layers.Dense(15, activation=\"softmax\"))\n",
    "\n",
    "model3.compile(\n",
    "    optimizer='adam',\n",
    "    loss='sparse_categorical_crossentropy',\n",
    "    metrics=['accuracy']\n",
    ")\n",
    "\n",
    "model3.fit(X_train, y_train, epochs=10)"
   ]
  },
  {
   "cell_type": "code",
   "execution_count": 25,
   "id": "5f4dd2f8",
   "metadata": {},
   "outputs": [
    {
     "name": "stdout",
     "output_type": "stream",
     "text": [
      "94/94 [==============================] - 1s 11ms/step - loss: 0.1440 - accuracy: 0.9597\n"
     ]
    },
    {
     "data": {
      "text/plain": [
       "[0.14402571320533752, 0.9596666693687439]"
      ]
     },
     "execution_count": 25,
     "metadata": {},
     "output_type": "execute_result"
    }
   ],
   "source": [
    "model3.evaluate(X_test, y_test)"
   ]
  },
  {
   "cell_type": "markdown",
   "id": "1a8ce38d",
   "metadata": {},
   "source": [
    "The model has similar scores as the last one. "
   ]
  },
  {
   "cell_type": "markdown",
   "id": "668737d6",
   "metadata": {},
   "source": [
    "Have run these models several times with different test and training sets and the scores are always similar. In conclusion both the second and third model here perform well, and can be chosen as good models. "
   ]
  },
  {
   "cell_type": "markdown",
   "id": "dbc1d81a",
   "metadata": {},
   "source": [
    "Now choose the second model and take a closer look how the model performed on the different characters."
   ]
  },
  {
   "cell_type": "markdown",
   "id": "ef6f23e2",
   "metadata": {},
   "source": [
    "Get the predictions."
   ]
  },
  {
   "cell_type": "code",
   "execution_count": 26,
   "id": "801476a9",
   "metadata": {},
   "outputs": [
    {
     "name": "stdout",
     "output_type": "stream",
     "text": [
      "94/94 [==============================] - 1s 10ms/step\n"
     ]
    }
   ],
   "source": [
    "predictions = model2.predict(X_test)\n",
    "\n",
    "predictions2 = list()\n",
    "for n in range(len(predictions)):\n",
    "    predictions2.append(np.argmax(predictions[n]))\n",
    "    \n",
    "predictions2 = np.array(predictions2)\n",
    "\n"
   ]
  },
  {
   "cell_type": "markdown",
   "id": "2034ceb2",
   "metadata": {},
   "source": [
    "Look at the confusion matrix and the classification report."
   ]
  },
  {
   "cell_type": "code",
   "execution_count": 27,
   "id": "332d3c32",
   "metadata": {},
   "outputs": [],
   "source": [
    "def plot_confusion_matrix(y,y_predict):\n",
    "    \"this function plots the confusion matrix\"\n",
    "    \n",
    "    # Load font to display chinese characters\n",
    "    fprop = fm.FontProperties(fname='NotoSansTC-Regular.otf')\n",
    "    \n",
    "    cm = confusion_matrix(y, y_predict)\n",
    "    _, ax = plt.subplots(figsize=(16,16))\n",
    "    sns.heatmap(cm, annot=True, ax = ax); \n",
    "    ax.set_xlabel('Predicted labels')\n",
    "    ax.set_ylabel('True labels')\n",
    "    ax.set_title('Confusion Matrix'); \n",
    "    ax.xaxis.set_ticklabels(['零', '一','二','三','四','五','六','七','八','九','十','百','千','万','亿'],fontproperties=fprop); \n",
    "    ax.yaxis.set_ticklabels(['零', '一','二','三','四','五','六','七','八','九','十','百','千','万','亿'],fontproperties=fprop); \n"
   ]
  },
  {
   "cell_type": "code",
   "execution_count": 28,
   "id": "f83eb0e3",
   "metadata": {},
   "outputs": [
    {
     "data": {
      "image/png": "[encoded data removed]",
      "text/plain": [
       "<Figure size 1152x1152 with 2 Axes>"
      ]
     },
     "metadata": {
      "needs_background": "light"
     },
     "output_type": "display_data"
    }
   ],
   "source": [
    "plot_confusion_matrix(y_test,predictions2)"
   ]
  },
  {
   "cell_type": "code",
   "execution_count": 29,
   "id": "61abb06d",
   "metadata": {},
   "outputs": [
    {
     "name": "stdout",
     "output_type": "stream",
     "text": [
      "              precision    recall  f1-score   support\n",
      "\n",
      "           0       0.99      1.00      0.99       222\n",
      "           1       0.97      0.99      0.98       199\n",
      "           2       0.90      0.98      0.94       208\n",
      "           3       0.97      0.90      0.93       196\n",
      "           4       0.97      0.97      0.97       196\n",
      "           5       1.00      0.91      0.96       188\n",
      "           6       0.97      0.98      0.97       184\n",
      "           7       0.96      0.95      0.95       199\n",
      "           8       0.97      1.00      0.98       218\n",
      "           9       0.96      0.93      0.94       193\n",
      "          10       0.91      0.98      0.94       209\n",
      "          11       0.97      0.91      0.94       190\n",
      "          12       0.95      0.91      0.93       203\n",
      "          13       0.93      0.98      0.96       207\n",
      "          14       0.95      0.96      0.96       188\n",
      "\n",
      "    accuracy                           0.96      3000\n",
      "   macro avg       0.96      0.96      0.96      3000\n",
      "weighted avg       0.96      0.96      0.96      3000\n",
      "\n"
     ]
    }
   ],
   "source": [
    "print(classification_report(y_test,predictions2))"
   ]
  },
  {
   "cell_type": "markdown",
   "id": "71a722ef",
   "metadata": {},
   "source": [
    "Looking at the confusion matrix and classification report one can see that all scores are above 90%, but there one can see that  三 has been often misclassified as  二 , and also often 千 has been falsely classified as 十 and 百 has been falsely classified as 万. <br>\n",
    "Running this for different test and traning sets one can observe different patterns, but for example misclassifications involving the pairs 二,三 and 百,万 are often observable."
   ]
  },
  {
   "cell_type": "markdown",
   "id": "5bdfb355",
   "metadata": {},
   "source": [
    "## Conclusion"
   ]
  },
  {
   "cell_type": "markdown",
   "id": "d01e8e89",
   "metadata": {},
   "source": [
    "Good models has been found via simple Convolutional Neural Networks. Using more sophisticated techniques the accuracy may be further improved. It would be interesting to see how good Neural Networks would perform on a larger set of Chinese characters, containing more complex ones."
   ]
  }
 ],
 "metadata": {
  "kernelspec": {
   "display_name": "Python 3 (ipykernel)",
   "language": "python",
   "name": "python3"
  },
  "language_info": {
   "codemirror_mode": {
    "name": "ipython",
    "version": 3
   },
   "file_extension": ".py",
   "mimetype": "text/x-python",
   "name": "python",
   "nbconvert_exporter": "python",
   "pygments_lexer": "ipython3",
   "version": "3.9.12"
  }
 },
 "nbformat": 4,
 "nbformat_minor": 5
}
