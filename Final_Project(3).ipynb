{
 "cells": [
  {
   "cell_type": "markdown",
   "id": "6dc8ed84",
   "metadata": {},
   "source": [
    "# University Entrance Exam Scores "
   ]
  },
  {
   "cell_type": "markdown",
   "id": "29be7d25",
   "metadata": {},
   "source": [
    "In a this notebook the [dataset](https://www.kaggle.com/datasets/jonnyjackk/college-entrance-exam-scores-in-vietnam-2019) will analyzed focusing on clustering. It contains the college entrance scores of students from Vietnam in 2019 in various subjects. "
   ]
  },
  {
   "cell_type": "markdown",
   "id": "010f0ee2",
   "metadata": {},
   "source": [
    "## **Import the required libraries**"
   ]
  },
  {
   "cell_type": "code",
   "execution_count": 193,
   "id": "3fc5273e",
   "metadata": {},
   "outputs": [],
   "source": [
    "# Force no warnings:\n",
    "def warn(*args, **kwargs):\n",
    "    pass\n",
    "import warnings\n",
    "warnings.warn = warn\n",
    "warnings.filterwarnings('ignore')\n",
    "\n",
    "# Setup and imports\n",
    "import numpy as np\n",
    "import pandas as pd\n",
    "import seaborn as sns\n",
    "import matplotlib.pyplot as plt\n",
    "\n",
    "\n",
    "from sklearn.cluster import KMeans\n",
    "from sklearn.preprocessing import StandardScaler\n",
    "from sklearn.metrics import silhouette_score\n",
    "\n",
    "from sklearn.decomposition import PCA\n",
    "\n"
   ]
  },
  {
   "cell_type": "markdown",
   "id": "2bb52bf7",
   "metadata": {},
   "source": [
    "## **Reading and understanding of the data**"
   ]
  },
  {
   "cell_type": "markdown",
   "id": "0667562a",
   "metadata": {},
   "source": [
    "The [dataset](https://www.kaggle.com/datasets/jonnyjackk/college-entrance-exam-scores-in-vietnam-2019) contains scores, in a range of 0-10, of Vietnamnese students university entrance examinations in the year 2019. There are the following subjects:\n",
    "\n",
    "1. Literature \n",
    "2. Mathematics\n",
    "3. Foreign Language(mostly English)\n",
    "4. Physics\n",
    "5. Chemistry\n",
    "6. Biology\n",
    "7. History\n",
    "8. Geography\n",
    "9. Civics\n",
    "\n",
    "Each student has to choose four subjects of which Literature, Mathematics and a Foreign Language are compulsory.  For more information see [here](https://en.wikipedia.org/wiki/Education_in_Vietnam#Post-Secondary_(Higher_Education)). Basically the students can be a priori be divided into two groups. One group chooses the natural sciences(Physics, Chemistry, Biology) and the other group the more social sciences(History, Geography, Civics). <br> The main goal of this analysis is to take a closer look at the first group, and answer the how this group can subdivided into smaller subgroups and how these subgroups can be characterized. Of the various clustering algorithms only kmeans will be used since it is computationally relative fast and does not need to much memory. Note here that the first group still consists of over 200,000 students.\n",
    "\n",
    "\n"
   ]
  },
  {
   "cell_type": "code",
   "execution_count": 194,
   "id": "0c2e6466",
   "metadata": {},
   "outputs": [],
   "source": [
    "data = pd.read_csv(\"diemthi2019_update.csv\")"
   ]
  },
  {
   "cell_type": "markdown",
   "id": "c99aafb8",
   "metadata": {},
   "source": [
    "Take a first look at the data set."
   ]
  },
  {
   "cell_type": "code",
   "execution_count": 195,
   "id": "29b064f5",
   "metadata": {},
   "outputs": [
    {
     "data": {
      "text/html": [
       "<div>\n",
       "<style scoped>\n",
       "    .dataframe tbody tr th:only-of-type {\n",
       "        vertical-align: middle;\n",
       "    }\n",
       "\n",
       "    .dataframe tbody tr th {\n",
       "        vertical-align: top;\n",
       "    }\n",
       "\n",
       "    .dataframe thead th {\n",
       "        text-align: right;\n",
       "    }\n",
       "</style>\n",
       "<table border=\"1\" class=\"dataframe\">\n",
       "  <thead>\n",
       "    <tr style=\"text-align: right;\">\n",
       "      <th></th>\n",
       "      <th>Unnamed: 0</th>\n",
       "      <th>SBD</th>\n",
       "      <th>Ngu Van</th>\n",
       "      <th>Toan Hoc</th>\n",
       "      <th>Ma Ngoai Ngu</th>\n",
       "      <th>Ngoai Ngu</th>\n",
       "      <th>Vat Ly</th>\n",
       "      <th>Hoa Hoc</th>\n",
       "      <th>Sinh Hoc</th>\n",
       "      <th>Lich Su</th>\n",
       "      <th>Dia Ly</th>\n",
       "      <th>GDCD</th>\n",
       "    </tr>\n",
       "  </thead>\n",
       "  <tbody>\n",
       "    <tr>\n",
       "      <th>0</th>\n",
       "      <td>0</td>\n",
       "      <td>24008611</td>\n",
       "      <td>8.00</td>\n",
       "      <td>8.2</td>\n",
       "      <td>N1</td>\n",
       "      <td>7.6</td>\n",
       "      <td>NaN</td>\n",
       "      <td>NaN</td>\n",
       "      <td>NaN</td>\n",
       "      <td>8.25</td>\n",
       "      <td>7.75</td>\n",
       "      <td>8.75</td>\n",
       "    </tr>\n",
       "    <tr>\n",
       "      <th>1</th>\n",
       "      <td>1</td>\n",
       "      <td>51000032</td>\n",
       "      <td>6.17</td>\n",
       "      <td>8.6</td>\n",
       "      <td>N1</td>\n",
       "      <td>8.0</td>\n",
       "      <td>8.25</td>\n",
       "      <td>4.5</td>\n",
       "      <td>6.0</td>\n",
       "      <td>NaN</td>\n",
       "      <td>NaN</td>\n",
       "      <td>NaN</td>\n",
       "    </tr>\n",
       "    <tr>\n",
       "      <th>2</th>\n",
       "      <td>2</td>\n",
       "      <td>51000005</td>\n",
       "      <td>4.75</td>\n",
       "      <td>5.2</td>\n",
       "      <td>NaN</td>\n",
       "      <td>NaN</td>\n",
       "      <td>NaN</td>\n",
       "      <td>NaN</td>\n",
       "      <td>NaN</td>\n",
       "      <td>4.00</td>\n",
       "      <td>4.25</td>\n",
       "      <td>5.75</td>\n",
       "    </tr>\n",
       "    <tr>\n",
       "      <th>3</th>\n",
       "      <td>3</td>\n",
       "      <td>51000021</td>\n",
       "      <td>4.50</td>\n",
       "      <td>4.4</td>\n",
       "      <td>NaN</td>\n",
       "      <td>NaN</td>\n",
       "      <td>NaN</td>\n",
       "      <td>NaN</td>\n",
       "      <td>NaN</td>\n",
       "      <td>2.25</td>\n",
       "      <td>4.75</td>\n",
       "      <td>5.00</td>\n",
       "    </tr>\n",
       "    <tr>\n",
       "      <th>4</th>\n",
       "      <td>4</td>\n",
       "      <td>51000013</td>\n",
       "      <td>6.00</td>\n",
       "      <td>5.8</td>\n",
       "      <td>N1</td>\n",
       "      <td>4.4</td>\n",
       "      <td>NaN</td>\n",
       "      <td>NaN</td>\n",
       "      <td>NaN</td>\n",
       "      <td>7.75</td>\n",
       "      <td>8.25</td>\n",
       "      <td>7.50</td>\n",
       "    </tr>\n",
       "  </tbody>\n",
       "</table>\n",
       "</div>"
      ],
      "text/plain": [
       "   Unnamed: 0       SBD  Ngu Van  Toan Hoc Ma Ngoai Ngu  Ngoai Ngu  Vat Ly  \\\n",
       "0           0  24008611     8.00       8.2           N1        7.6     NaN   \n",
       "1           1  51000032     6.17       8.6           N1        8.0    8.25   \n",
       "2           2  51000005     4.75       5.2          NaN        NaN     NaN   \n",
       "3           3  51000021     4.50       4.4          NaN        NaN     NaN   \n",
       "4           4  51000013     6.00       5.8           N1        4.4     NaN   \n",
       "\n",
       "   Hoa Hoc  Sinh Hoc  Lich Su  Dia Ly  GDCD  \n",
       "0      NaN       NaN     8.25    7.75  8.75  \n",
       "1      4.5       6.0      NaN     NaN   NaN  \n",
       "2      NaN       NaN     4.00    4.25  5.75  \n",
       "3      NaN       NaN     2.25    4.75  5.00  \n",
       "4      NaN       NaN     7.75    8.25  7.50  "
      ]
     },
     "execution_count": 195,
     "metadata": {},
     "output_type": "execute_result"
    }
   ],
   "source": [
    "data.head()"
   ]
  },
  {
   "cell_type": "code",
   "execution_count": 196,
   "id": "b668f453",
   "metadata": {},
   "outputs": [
    {
     "data": {
      "text/plain": [
       "(811851, 12)"
      ]
     },
     "execution_count": 196,
     "metadata": {},
     "output_type": "execute_result"
    }
   ],
   "source": [
    "data.shape"
   ]
  },
  {
   "cell_type": "markdown",
   "id": "87aef0d6",
   "metadata": {},
   "source": [
    "There are over 800,000 students in the data set. The columns names are still in Vietnamnese and will be changed to English."
   ]
  },
  {
   "cell_type": "code",
   "execution_count": 197,
   "id": "83a2117a",
   "metadata": {},
   "outputs": [],
   "source": [
    "data.rename(columns={\"Ngu Van\": \"Literature\", \"Toan Hoc\": \"Mathematics\",'Ngoai Ngu': 'Foreign Language','Vat Ly':'Physics',\n",
    "                    'Hoa Hoc':'Chemistry','Sinh Hoc':'Biology','Lich Su':'History',\n",
    "                    'Dia Ly':'Geography','GDCD':'Civics','Ma Ngoai Ngu': 'Language Name'},inplace=True)"
   ]
  },
  {
   "cell_type": "code",
   "execution_count": 198,
   "id": "2ae18e94",
   "metadata": {},
   "outputs": [
    {
     "name": "stdout",
     "output_type": "stream",
     "text": [
      "<class 'pandas.core.frame.DataFrame'>\n",
      "RangeIndex: 811851 entries, 0 to 811850\n",
      "Data columns (total 12 columns):\n",
      " #   Column            Non-Null Count   Dtype  \n",
      "---  ------            --------------   -----  \n",
      " 0   Unnamed: 0        811851 non-null  int64  \n",
      " 1   SBD               811851 non-null  int64  \n",
      " 2   Literature        799208 non-null  float64\n",
      " 3   Mathematics       807762 non-null  float64\n",
      " 4   Language Name     728513 non-null  object \n",
      " 5   Foreign Language  728513 non-null  float64\n",
      " 6   Physics           292166 non-null  float64\n",
      " 7   Chemistry         295544 non-null  float64\n",
      " 8   Biology           291199 non-null  float64\n",
      " 9   History           542729 non-null  float64\n",
      " 10  Geography         535897 non-null  float64\n",
      " 11  Civics            470905 non-null  float64\n",
      "dtypes: float64(9), int64(2), object(1)\n",
      "memory usage: 74.3+ MB\n"
     ]
    }
   ],
   "source": [
    "data.info()"
   ]
  },
  {
   "cell_type": "markdown",
   "id": "08d01707",
   "metadata": {},
   "source": [
    "One can see that there are still some null values in the compulsory subjects Literature, Mathematics and Foreign Language. All these students will be dropped for simplicity.    "
   ]
  },
  {
   "cell_type": "code",
   "execution_count": 199,
   "id": "94922100",
   "metadata": {},
   "outputs": [],
   "source": [
    "data.dropna(subset=['Literature', 'Mathematics', 'Foreign Language'],inplace=True)"
   ]
  },
  {
   "cell_type": "markdown",
   "id": "f628a358",
   "metadata": {},
   "source": [
    "`Unnamed0` is just an unnecessry index columns and `SBD` is a student number. After verfiying that there are no duplicated students, both columns will be dropped."
   ]
  },
  {
   "cell_type": "code",
   "execution_count": 200,
   "id": "e195d021",
   "metadata": {},
   "outputs": [
    {
     "data": {
      "text/plain": [
       "False    725824\n",
       "dtype: int64"
      ]
     },
     "execution_count": 200,
     "metadata": {},
     "output_type": "execute_result"
    }
   ],
   "source": [
    "data.duplicated(subset='SBD').value_counts()\n"
   ]
  },
  {
   "cell_type": "code",
   "execution_count": 201,
   "id": "e2bb627e",
   "metadata": {},
   "outputs": [],
   "source": [
    "data.drop(columns=['Unnamed: 0','SBD'],inplace=True)\n",
    "data.reset_index(drop=True, inplace=True)"
   ]
  },
  {
   "cell_type": "markdown",
   "id": "0bc9cd53",
   "metadata": {},
   "source": [
    "In the `Language Name` column several Language are encoded corresponding to the `Foreign Language` column. Rename the names and look how the languages are distributed. "
   ]
  },
  {
   "cell_type": "code",
   "execution_count": 202,
   "id": "11ec227c",
   "metadata": {},
   "outputs": [
    {
     "data": {
      "text/plain": [
       "English     0.996649\n",
       "Chinese     0.001095\n",
       "Japanese    0.001053\n",
       "French      0.000887\n",
       "Russian     0.000204\n",
       "German      0.000112\n",
       "Name: Language Name, dtype: float64"
      ]
     },
     "execution_count": 202,
     "metadata": {},
     "output_type": "execute_result"
    }
   ],
   "source": [
    "data.replace({'N1':'English','N2': 'Russian','N3': 'French','N4': 'Chinese','N5': 'German','N6':'Japanese'},inplace=True)\n",
    "data['Language Name'].value_counts(normalize=True)"
   ]
  },
  {
   "cell_type": "markdown",
   "id": "4fafb282",
   "metadata": {},
   "source": [
    "One can see that the vast majority chooses English as their Foreign Language. So for simplicity all other students will be dropped."
   ]
  },
  {
   "cell_type": "code",
   "execution_count": 203,
   "id": "36433791",
   "metadata": {},
   "outputs": [],
   "source": [
    "data= data.loc[data['Language Name']=='English']\n",
    "data.drop(columns='Language Name',inplace=True)\n",
    "data.rename(columns={'Foreign Language':'English'},inplace=True)"
   ]
  },
  {
   "cell_type": "markdown",
   "id": "e91f64ce",
   "metadata": {},
   "source": [
    "# Explanatory Analysis"
   ]
  },
  {
   "cell_type": "markdown",
   "id": "d96b9982",
   "metadata": {},
   "source": [
    "Now the data is clean one begin an explanatory analysis."
   ]
  },
  {
   "cell_type": "markdown",
   "id": "f7dbc676",
   "metadata": {},
   "source": [
    "First take a look at the whole dataset with summary statistics and boxplots."
   ]
  },
  {
   "cell_type": "code",
   "execution_count": 204,
   "id": "4d4087b4",
   "metadata": {},
   "outputs": [
    {
     "data": {
      "text/html": [
       "<div>\n",
       "<style scoped>\n",
       "    .dataframe tbody tr th:only-of-type {\n",
       "        vertical-align: middle;\n",
       "    }\n",
       "\n",
       "    .dataframe tbody tr th {\n",
       "        vertical-align: top;\n",
       "    }\n",
       "\n",
       "    .dataframe thead th {\n",
       "        text-align: right;\n",
       "    }\n",
       "</style>\n",
       "<table border=\"1\" class=\"dataframe\">\n",
       "  <thead>\n",
       "    <tr style=\"text-align: right;\">\n",
       "      <th></th>\n",
       "      <th>Literature</th>\n",
       "      <th>Mathematics</th>\n",
       "      <th>English</th>\n",
       "      <th>Physics</th>\n",
       "      <th>Chemistry</th>\n",
       "      <th>Biology</th>\n",
       "      <th>History</th>\n",
       "      <th>Geography</th>\n",
       "      <th>Civics</th>\n",
       "    </tr>\n",
       "  </thead>\n",
       "  <tbody>\n",
       "    <tr>\n",
       "      <th>count</th>\n",
       "      <td>723392.000000</td>\n",
       "      <td>723392.000000</td>\n",
       "      <td>723392.000000</td>\n",
       "      <td>279001.000000</td>\n",
       "      <td>278960.000000</td>\n",
       "      <td>278881.000000</td>\n",
       "      <td>468700.000000</td>\n",
       "      <td>468522.000000</td>\n",
       "      <td>467582.000000</td>\n",
       "    </tr>\n",
       "    <tr>\n",
       "      <th>mean</th>\n",
       "      <td>5.575881</td>\n",
       "      <td>5.741283</td>\n",
       "      <td>4.231819</td>\n",
       "      <td>5.614307</td>\n",
       "      <td>5.378784</td>\n",
       "      <td>4.672930</td>\n",
       "      <td>4.359282</td>\n",
       "      <td>6.081933</td>\n",
       "      <td>7.353702</td>\n",
       "    </tr>\n",
       "    <tr>\n",
       "      <th>std</th>\n",
       "      <td>1.263230</td>\n",
       "      <td>1.681919</td>\n",
       "      <td>1.741595</td>\n",
       "      <td>1.582461</td>\n",
       "      <td>1.562222</td>\n",
       "      <td>1.220721</td>\n",
       "      <td>1.419395</td>\n",
       "      <td>1.184462</td>\n",
       "      <td>1.268375</td>\n",
       "    </tr>\n",
       "    <tr>\n",
       "      <th>min</th>\n",
       "      <td>0.000000</td>\n",
       "      <td>0.000000</td>\n",
       "      <td>0.000000</td>\n",
       "      <td>0.000000</td>\n",
       "      <td>0.000000</td>\n",
       "      <td>0.000000</td>\n",
       "      <td>0.000000</td>\n",
       "      <td>0.000000</td>\n",
       "      <td>0.000000</td>\n",
       "    </tr>\n",
       "    <tr>\n",
       "      <th>25%</th>\n",
       "      <td>4.750000</td>\n",
       "      <td>4.600000</td>\n",
       "      <td>3.000000</td>\n",
       "      <td>4.500000</td>\n",
       "      <td>4.250000</td>\n",
       "      <td>3.750000</td>\n",
       "      <td>3.250000</td>\n",
       "      <td>5.250000</td>\n",
       "      <td>6.500000</td>\n",
       "    </tr>\n",
       "    <tr>\n",
       "      <th>50%</th>\n",
       "      <td>5.750000</td>\n",
       "      <td>5.800000</td>\n",
       "      <td>3.800000</td>\n",
       "      <td>5.750000</td>\n",
       "      <td>5.500000</td>\n",
       "      <td>4.500000</td>\n",
       "      <td>4.250000</td>\n",
       "      <td>6.000000</td>\n",
       "      <td>7.500000</td>\n",
       "    </tr>\n",
       "    <tr>\n",
       "      <th>75%</th>\n",
       "      <td>6.500000</td>\n",
       "      <td>7.000000</td>\n",
       "      <td>5.200000</td>\n",
       "      <td>6.750000</td>\n",
       "      <td>6.500000</td>\n",
       "      <td>5.250000</td>\n",
       "      <td>5.250000</td>\n",
       "      <td>7.000000</td>\n",
       "      <td>8.250000</td>\n",
       "    </tr>\n",
       "    <tr>\n",
       "      <th>max</th>\n",
       "      <td>9.500000</td>\n",
       "      <td>10.000000</td>\n",
       "      <td>10.000000</td>\n",
       "      <td>10.000000</td>\n",
       "      <td>10.000000</td>\n",
       "      <td>10.000000</td>\n",
       "      <td>10.000000</td>\n",
       "      <td>10.000000</td>\n",
       "      <td>10.000000</td>\n",
       "    </tr>\n",
       "  </tbody>\n",
       "</table>\n",
       "</div>"
      ],
      "text/plain": [
       "          Literature    Mathematics        English        Physics  \\\n",
       "count  723392.000000  723392.000000  723392.000000  279001.000000   \n",
       "mean        5.575881       5.741283       4.231819       5.614307   \n",
       "std         1.263230       1.681919       1.741595       1.582461   \n",
       "min         0.000000       0.000000       0.000000       0.000000   \n",
       "25%         4.750000       4.600000       3.000000       4.500000   \n",
       "50%         5.750000       5.800000       3.800000       5.750000   \n",
       "75%         6.500000       7.000000       5.200000       6.750000   \n",
       "max         9.500000      10.000000      10.000000      10.000000   \n",
       "\n",
       "           Chemistry        Biology        History      Geography  \\\n",
       "count  278960.000000  278881.000000  468700.000000  468522.000000   \n",
       "mean        5.378784       4.672930       4.359282       6.081933   \n",
       "std         1.562222       1.220721       1.419395       1.184462   \n",
       "min         0.000000       0.000000       0.000000       0.000000   \n",
       "25%         4.250000       3.750000       3.250000       5.250000   \n",
       "50%         5.500000       4.500000       4.250000       6.000000   \n",
       "75%         6.500000       5.250000       5.250000       7.000000   \n",
       "max        10.000000      10.000000      10.000000      10.000000   \n",
       "\n",
       "              Civics  \n",
       "count  467582.000000  \n",
       "mean        7.353702  \n",
       "std         1.268375  \n",
       "min         0.000000  \n",
       "25%         6.500000  \n",
       "50%         7.500000  \n",
       "75%         8.250000  \n",
       "max        10.000000  "
      ]
     },
     "execution_count": 204,
     "metadata": {},
     "output_type": "execute_result"
    }
   ],
   "source": [
    "data.describe()"
   ]
  },
  {
   "cell_type": "code",
   "execution_count": 264,
   "id": "9f4273ed",
   "metadata": {},
   "outputs": [
    {
     "data": {
      "image/png": "[encoded data removed]",
      "text/plain": [
       "<Figure size 936x432 with 1 Axes>"
      ]
     },
     "metadata": {},
     "output_type": "display_data"
    }
   ],
   "source": [
    "data.boxplot(figsize=(13,6));"
   ]
  },
  {
   "cell_type": "markdown",
   "id": "0b5020fd",
   "metadata": {},
   "source": [
    "Now the data will be split into the two subgroups. First take a look a the distribution of the null values."
   ]
  },
  {
   "cell_type": "code",
   "execution_count": 207,
   "id": "c9fd17b5",
   "metadata": {},
   "outputs": [
    {
     "data": {
      "text/plain": [
       "Literature  Mathematics  English  Physics  Chemistry  Biology  History  Geography  Civics\n",
       "True        True         True     False    False      False    True     True       True      0.609875\n",
       "                                  True     True       True     False    False      False     0.348832\n",
       "                                                               True     True       True      0.036439\n",
       "                                  False    False      False    False    False      False     0.002870\n",
       "                                                               True     True       False     0.001088\n",
       "dtype: float64"
      ]
     },
     "execution_count": 207,
     "metadata": {},
     "output_type": "execute_result"
    }
   ],
   "source": [
    "data.notnull().value_counts(normalize=True).head()"
   ]
  },
  {
   "cell_type": "markdown",
   "id": "3ead264a",
   "metadata": {},
   "source": [
    "By just inspecting the the first see rows that about 61% of the students choose all subjects in the social sciences group(History, Geography, Civics) and no subject of the natural sciences, 35% choose all of the natural sciences and nothing of the social science group, and 4% all subjects of both groups. All other combinations have only a minor proportion."
   ]
  },
  {
   "cell_type": "code",
   "execution_count": 208,
   "id": "bd44f9d8",
   "metadata": {},
   "outputs": [],
   "source": [
    "data_nat = data.drop(columns=['History','Geography','Civics'])\n",
    "data_soc = data.drop(columns=['Physics','Chemistry','Biology'])\n",
    "data_nat.dropna(inplace=True)\n",
    "data_soc.dropna(inplace=True)"
   ]
  },
  {
   "cell_type": "markdown",
   "id": "08c71161",
   "metadata": {},
   "source": [
    "Look at statistical summary of the two groups."
   ]
  },
  {
   "cell_type": "markdown",
   "id": "09df74b6",
   "metadata": {},
   "source": [
    "First the natural science group."
   ]
  },
  {
   "cell_type": "code",
   "execution_count": 209,
   "id": "b9627354",
   "metadata": {},
   "outputs": [
    {
     "data": {
      "text/html": [
       "<div>\n",
       "<style scoped>\n",
       "    .dataframe tbody tr th:only-of-type {\n",
       "        vertical-align: middle;\n",
       "    }\n",
       "\n",
       "    .dataframe tbody tr th {\n",
       "        vertical-align: top;\n",
       "    }\n",
       "\n",
       "    .dataframe thead th {\n",
       "        text-align: right;\n",
       "    }\n",
       "</style>\n",
       "<table border=\"1\" class=\"dataframe\">\n",
       "  <thead>\n",
       "    <tr style=\"text-align: right;\">\n",
       "      <th></th>\n",
       "      <th>Literature</th>\n",
       "      <th>Mathematics</th>\n",
       "      <th>English</th>\n",
       "      <th>Physics</th>\n",
       "      <th>Chemistry</th>\n",
       "      <th>Biology</th>\n",
       "    </tr>\n",
       "  </thead>\n",
       "  <tbody>\n",
       "    <tr>\n",
       "      <th>count</th>\n",
       "      <td>278835.000000</td>\n",
       "      <td>278835.000000</td>\n",
       "      <td>278835.000000</td>\n",
       "      <td>278835.000000</td>\n",
       "      <td>278835.000000</td>\n",
       "      <td>278835.000000</td>\n",
       "    </tr>\n",
       "    <tr>\n",
       "      <th>mean</th>\n",
       "      <td>5.648728</td>\n",
       "      <td>6.871080</td>\n",
       "      <td>4.754569</td>\n",
       "      <td>5.614784</td>\n",
       "      <td>5.379063</td>\n",
       "      <td>4.672791</td>\n",
       "    </tr>\n",
       "    <tr>\n",
       "      <th>std</th>\n",
       "      <td>1.081378</td>\n",
       "      <td>1.303663</td>\n",
       "      <td>1.772183</td>\n",
       "      <td>1.582223</td>\n",
       "      <td>1.562123</td>\n",
       "      <td>1.220652</td>\n",
       "    </tr>\n",
       "    <tr>\n",
       "      <th>min</th>\n",
       "      <td>0.000000</td>\n",
       "      <td>0.000000</td>\n",
       "      <td>0.000000</td>\n",
       "      <td>0.000000</td>\n",
       "      <td>0.000000</td>\n",
       "      <td>0.000000</td>\n",
       "    </tr>\n",
       "    <tr>\n",
       "      <th>25%</th>\n",
       "      <td>5.000000</td>\n",
       "      <td>6.200000</td>\n",
       "      <td>3.400000</td>\n",
       "      <td>4.500000</td>\n",
       "      <td>4.250000</td>\n",
       "      <td>3.750000</td>\n",
       "    </tr>\n",
       "    <tr>\n",
       "      <th>50%</th>\n",
       "      <td>5.750000</td>\n",
       "      <td>7.000000</td>\n",
       "      <td>4.400000</td>\n",
       "      <td>5.750000</td>\n",
       "      <td>5.500000</td>\n",
       "      <td>4.500000</td>\n",
       "    </tr>\n",
       "    <tr>\n",
       "      <th>75%</th>\n",
       "      <td>6.500000</td>\n",
       "      <td>7.800000</td>\n",
       "      <td>5.800000</td>\n",
       "      <td>6.750000</td>\n",
       "      <td>6.500000</td>\n",
       "      <td>5.250000</td>\n",
       "    </tr>\n",
       "    <tr>\n",
       "      <th>max</th>\n",
       "      <td>9.500000</td>\n",
       "      <td>10.000000</td>\n",
       "      <td>10.000000</td>\n",
       "      <td>10.000000</td>\n",
       "      <td>10.000000</td>\n",
       "      <td>10.000000</td>\n",
       "    </tr>\n",
       "  </tbody>\n",
       "</table>\n",
       "</div>"
      ],
      "text/plain": [
       "          Literature    Mathematics        English        Physics  \\\n",
       "count  278835.000000  278835.000000  278835.000000  278835.000000   \n",
       "mean        5.648728       6.871080       4.754569       5.614784   \n",
       "std         1.081378       1.303663       1.772183       1.582223   \n",
       "min         0.000000       0.000000       0.000000       0.000000   \n",
       "25%         5.000000       6.200000       3.400000       4.500000   \n",
       "50%         5.750000       7.000000       4.400000       5.750000   \n",
       "75%         6.500000       7.800000       5.800000       6.750000   \n",
       "max         9.500000      10.000000      10.000000      10.000000   \n",
       "\n",
       "           Chemistry        Biology  \n",
       "count  278835.000000  278835.000000  \n",
       "mean        5.379063       4.672791  \n",
       "std         1.562123       1.220652  \n",
       "min         0.000000       0.000000  \n",
       "25%         4.250000       3.750000  \n",
       "50%         5.500000       4.500000  \n",
       "75%         6.500000       5.250000  \n",
       "max        10.000000      10.000000  "
      ]
     },
     "execution_count": 209,
     "metadata": {},
     "output_type": "execute_result"
    }
   ],
   "source": [
    "data_nat.describe()"
   ]
  },
  {
   "cell_type": "markdown",
   "id": "8701a423",
   "metadata": {},
   "source": [
    "Now the social science group."
   ]
  },
  {
   "cell_type": "code",
   "execution_count": 210,
   "id": "587c2066",
   "metadata": {},
   "outputs": [
    {
     "data": {
      "text/html": [
       "<div>\n",
       "<style scoped>\n",
       "    .dataframe tbody tr th:only-of-type {\n",
       "        vertical-align: middle;\n",
       "    }\n",
       "\n",
       "    .dataframe tbody tr th {\n",
       "        vertical-align: top;\n",
       "    }\n",
       "\n",
       "    .dataframe thead th {\n",
       "        text-align: right;\n",
       "    }\n",
       "</style>\n",
       "<table border=\"1\" class=\"dataframe\">\n",
       "  <thead>\n",
       "    <tr style=\"text-align: right;\">\n",
       "      <th></th>\n",
       "      <th>Literature</th>\n",
       "      <th>Mathematics</th>\n",
       "      <th>English</th>\n",
       "      <th>History</th>\n",
       "      <th>Geography</th>\n",
       "      <th>Civics</th>\n",
       "    </tr>\n",
       "  </thead>\n",
       "  <tbody>\n",
       "    <tr>\n",
       "      <th>count</th>\n",
       "      <td>467543.000000</td>\n",
       "      <td>467543.000000</td>\n",
       "      <td>467543.000000</td>\n",
       "      <td>467543.000000</td>\n",
       "      <td>467543.000000</td>\n",
       "      <td>467543.000000</td>\n",
       "    </tr>\n",
       "    <tr>\n",
       "      <th>mean</th>\n",
       "      <td>5.501327</td>\n",
       "      <td>5.054904</td>\n",
       "      <td>3.888643</td>\n",
       "      <td>4.360118</td>\n",
       "      <td>6.082849</td>\n",
       "      <td>7.353743</td>\n",
       "    </tr>\n",
       "    <tr>\n",
       "      <th>std</th>\n",
       "      <td>1.358061</td>\n",
       "      <td>1.504843</td>\n",
       "      <td>1.630299</td>\n",
       "      <td>1.418792</td>\n",
       "      <td>1.184020</td>\n",
       "      <td>1.268342</td>\n",
       "    </tr>\n",
       "    <tr>\n",
       "      <th>min</th>\n",
       "      <td>0.000000</td>\n",
       "      <td>0.000000</td>\n",
       "      <td>0.000000</td>\n",
       "      <td>0.000000</td>\n",
       "      <td>0.000000</td>\n",
       "      <td>0.000000</td>\n",
       "    </tr>\n",
       "    <tr>\n",
       "      <th>25%</th>\n",
       "      <td>4.750000</td>\n",
       "      <td>4.000000</td>\n",
       "      <td>2.800000</td>\n",
       "      <td>3.250000</td>\n",
       "      <td>5.250000</td>\n",
       "      <td>6.500000</td>\n",
       "    </tr>\n",
       "    <tr>\n",
       "      <th>50%</th>\n",
       "      <td>5.500000</td>\n",
       "      <td>5.000000</td>\n",
       "      <td>3.400000</td>\n",
       "      <td>4.250000</td>\n",
       "      <td>6.000000</td>\n",
       "      <td>7.500000</td>\n",
       "    </tr>\n",
       "    <tr>\n",
       "      <th>75%</th>\n",
       "      <td>6.500000</td>\n",
       "      <td>6.200000</td>\n",
       "      <td>4.600000</td>\n",
       "      <td>5.250000</td>\n",
       "      <td>7.000000</td>\n",
       "      <td>8.250000</td>\n",
       "    </tr>\n",
       "    <tr>\n",
       "      <th>max</th>\n",
       "      <td>9.500000</td>\n",
       "      <td>9.800000</td>\n",
       "      <td>10.000000</td>\n",
       "      <td>10.000000</td>\n",
       "      <td>10.000000</td>\n",
       "      <td>10.000000</td>\n",
       "    </tr>\n",
       "  </tbody>\n",
       "</table>\n",
       "</div>"
      ],
      "text/plain": [
       "          Literature    Mathematics        English        History  \\\n",
       "count  467543.000000  467543.000000  467543.000000  467543.000000   \n",
       "mean        5.501327       5.054904       3.888643       4.360118   \n",
       "std         1.358061       1.504843       1.630299       1.418792   \n",
       "min         0.000000       0.000000       0.000000       0.000000   \n",
       "25%         4.750000       4.000000       2.800000       3.250000   \n",
       "50%         5.500000       5.000000       3.400000       4.250000   \n",
       "75%         6.500000       6.200000       4.600000       5.250000   \n",
       "max         9.500000       9.800000      10.000000      10.000000   \n",
       "\n",
       "           Geography         Civics  \n",
       "count  467543.000000  467543.000000  \n",
       "mean        6.082849       7.353743  \n",
       "std         1.184020       1.268342  \n",
       "min         0.000000       0.000000  \n",
       "25%         5.250000       6.500000  \n",
       "50%         6.000000       7.500000  \n",
       "75%         7.000000       8.250000  \n",
       "max        10.000000      10.000000  "
      ]
     },
     "execution_count": 210,
     "metadata": {},
     "output_type": "execute_result"
    }
   ],
   "source": [
    "data_soc.describe()"
   ]
  },
  {
   "cell_type": "markdown",
   "id": "52400599",
   "metadata": {},
   "source": [
    "Create boxplots for each group."
   ]
  },
  {
   "cell_type": "code",
   "execution_count": 222,
   "id": "a1a741e4",
   "metadata": {},
   "outputs": [
    {
     "data": {
      "image/png": "[encoded data removed]",
      "text/plain": [
       "<Figure size 1440x432 with 3 Axes>"
      ]
     },
     "metadata": {},
     "output_type": "display_data"
    }
   ],
   "source": [
    "fig = plt.figure() # create figure\n",
    "\n",
    "ax0 = fig.add_subplot(1, 3, 1) # add subplot 1 (1 row, 2 columns, first plot)\n",
    "ax1 = fig.add_subplot(1, 3, 2) # add subplot 2 (1 row, 2 columns, second plot). See tip below**\n",
    "ax2 = fig.add_subplot(1, 3, 3) # add subplot 2 (1 row, 2 columns, second plot). See tip below**\n",
    "\n",
    "# Subplot 1: Box plot\n",
    "data_soc[['Literature','Mathematics','English']].plot(kind='box', color='red',\n",
    "                                                       figsize=(20, 6), ax=ax0) # add to subplot 1\n",
    "ax0.set_title('Compulsory subjects scores of social science group')\n",
    "ax0.set_ylabel('Scores')\n",
    "\n",
    "# Subplot 2: Line plot\n",
    "data_nat[['Literature','Mathematics','English']].plot(kind='box', figsize=(20, 6), ax=ax1) # add to subplot 2\n",
    "ax1.set_title ('Compulsory subjects scores of natural science group')\n",
    "ax1.set_ylabel('Scores')\n",
    "\n",
    "\n",
    "data_nat[['Physics','Chemistry','Biology']].plot(kind='box', figsize=(20, 6), ax=ax2) # add to subplot 2\n",
    "ax2.set_title ('Natural science scores of natural science group')\n",
    "ax2.set_ylabel('Scores')\n",
    "\n",
    "\n",
    "plt.show()"
   ]
  },
  {
   "cell_type": "markdown",
   "id": "1954be29",
   "metadata": {},
   "source": [
    "Comparing the distributions, one can see that in the natural science group the math scores are significantly higher, and the English scores slightly higher, while the literature scores are similarly distributed. Also, the Physics and Chemistry scores are similarly distributed, while the Biology scores are lower with low variance."
   ]
  },
  {
   "cell_type": "markdown",
   "id": "9663004b",
   "metadata": {},
   "source": [
    "In the following only the natural science group will be further analyzed."
   ]
  },
  {
   "cell_type": "markdown",
   "id": "4aeeb1be",
   "metadata": {},
   "source": [
    "Take a look at the correlations."
   ]
  },
  {
   "cell_type": "code",
   "execution_count": 213,
   "id": "51ff42a9",
   "metadata": {},
   "outputs": [
    {
     "data": {
      "text/html": [
       "<div>\n",
       "<style scoped>\n",
       "    .dataframe tbody tr th:only-of-type {\n",
       "        vertical-align: middle;\n",
       "    }\n",
       "\n",
       "    .dataframe tbody tr th {\n",
       "        vertical-align: top;\n",
       "    }\n",
       "\n",
       "    .dataframe thead th {\n",
       "        text-align: right;\n",
       "    }\n",
       "</style>\n",
       "<table border=\"1\" class=\"dataframe\">\n",
       "  <thead>\n",
       "    <tr style=\"text-align: right;\">\n",
       "      <th></th>\n",
       "      <th>Literature</th>\n",
       "      <th>Mathematics</th>\n",
       "      <th>English</th>\n",
       "      <th>Physics</th>\n",
       "      <th>Chemistry</th>\n",
       "      <th>Biology</th>\n",
       "    </tr>\n",
       "  </thead>\n",
       "  <tbody>\n",
       "    <tr>\n",
       "      <th>Literature</th>\n",
       "      <td>0.000000</td>\n",
       "      <td>0.296153</td>\n",
       "      <td>0.286556</td>\n",
       "      <td>0.209559</td>\n",
       "      <td>0.225634</td>\n",
       "      <td>0.247895</td>\n",
       "    </tr>\n",
       "    <tr>\n",
       "      <th>Mathematics</th>\n",
       "      <td>0.296153</td>\n",
       "      <td>0.000000</td>\n",
       "      <td>0.447106</td>\n",
       "      <td>0.655566</td>\n",
       "      <td>0.591430</td>\n",
       "      <td>0.358286</td>\n",
       "    </tr>\n",
       "    <tr>\n",
       "      <th>English</th>\n",
       "      <td>0.286556</td>\n",
       "      <td>0.447106</td>\n",
       "      <td>0.000000</td>\n",
       "      <td>0.392942</td>\n",
       "      <td>0.192394</td>\n",
       "      <td>0.251817</td>\n",
       "    </tr>\n",
       "    <tr>\n",
       "      <th>Physics</th>\n",
       "      <td>0.209559</td>\n",
       "      <td>0.655566</td>\n",
       "      <td>0.392942</td>\n",
       "      <td>0.000000</td>\n",
       "      <td>0.501041</td>\n",
       "      <td>0.185336</td>\n",
       "    </tr>\n",
       "    <tr>\n",
       "      <th>Chemistry</th>\n",
       "      <td>0.225634</td>\n",
       "      <td>0.591430</td>\n",
       "      <td>0.192394</td>\n",
       "      <td>0.501041</td>\n",
       "      <td>0.000000</td>\n",
       "      <td>0.436126</td>\n",
       "    </tr>\n",
       "    <tr>\n",
       "      <th>Biology</th>\n",
       "      <td>0.247895</td>\n",
       "      <td>0.358286</td>\n",
       "      <td>0.251817</td>\n",
       "      <td>0.185336</td>\n",
       "      <td>0.436126</td>\n",
       "      <td>0.000000</td>\n",
       "    </tr>\n",
       "  </tbody>\n",
       "</table>\n",
       "</div>"
      ],
      "text/plain": [
       "             Literature  Mathematics   English   Physics  Chemistry   Biology\n",
       "Literature     0.000000     0.296153  0.286556  0.209559   0.225634  0.247895\n",
       "Mathematics    0.296153     0.000000  0.447106  0.655566   0.591430  0.358286\n",
       "English        0.286556     0.447106  0.000000  0.392942   0.192394  0.251817\n",
       "Physics        0.209559     0.655566  0.392942  0.000000   0.501041  0.185336\n",
       "Chemistry      0.225634     0.591430  0.192394  0.501041   0.000000  0.436126\n",
       "Biology        0.247895     0.358286  0.251817  0.185336   0.436126  0.000000"
      ]
     },
     "execution_count": 213,
     "metadata": {},
     "output_type": "execute_result"
    }
   ],
   "source": [
    "# The correlation matrix\n",
    "corr_mat = data_nat.corr()\n",
    "\n",
    "# Strip out the diagonal values for the next step\n",
    "for x in range(data_nat.shape[1]):\n",
    "    corr_mat.iloc[x,x] = 0.0\n",
    "    \n",
    "corr_mat"
   ]
  },
  {
   "cell_type": "code",
   "execution_count": 214,
   "id": "ef9957f2",
   "metadata": {},
   "outputs": [
    {
     "data": {
      "text/plain": [
       "Literature     Mathematics\n",
       "Mathematics        Physics\n",
       "English        Mathematics\n",
       "Physics        Mathematics\n",
       "Chemistry      Mathematics\n",
       "Biology          Chemistry\n",
       "dtype: object"
      ]
     },
     "execution_count": 214,
     "metadata": {},
     "output_type": "execute_result"
    }
   ],
   "source": [
    "# Pairwise maximal correlations\n",
    "corr_mat.abs().idxmax()"
   ]
  },
  {
   "cell_type": "markdown",
   "id": "446dae13",
   "metadata": {},
   "source": [
    "One can see that all feautures are except biology are mostly corrolated with math. Furthermore, of the natural sciences physics is most corrolated with math, while biology is least corrolated with math."
   ]
  },
  {
   "cell_type": "markdown",
   "id": "8af757b3",
   "metadata": {},
   "source": [
    "Now look at the skewness of each feature. "
   ]
  },
  {
   "cell_type": "code",
   "execution_count": 215,
   "id": "a682d96c",
   "metadata": {},
   "outputs": [
    {
     "data": {
      "text/plain": [
       "English        0.644075\n",
       "Biology        0.562476\n",
       "Chemistry     -0.173754\n",
       "Physics       -0.263909\n",
       "Literature    -0.308892\n",
       "Mathematics   -0.777838\n",
       "dtype: float64"
      ]
     },
     "execution_count": 215,
     "metadata": {},
     "output_type": "execute_result"
    }
   ],
   "source": [
    "skew_columns = (data_nat.skew().sort_values(ascending=False))\n",
    "\n",
    "skew_columns"
   ]
  },
  {
   "cell_type": "markdown",
   "id": "80453323",
   "metadata": {},
   "source": [
    "The absolute skewness value for all features is less than 1, meaning no feature column is highly skewed. So is not absolutely necessary to reduce the skewness of any feature. "
   ]
  },
  {
   "cell_type": "markdown",
   "id": "a26ba51f",
   "metadata": {},
   "source": [
    "# Clustering Analysis"
   ]
  },
  {
   "cell_type": "markdown",
   "id": "ede798ab",
   "metadata": {},
   "source": [
    "Now, a clustering analysis of the natural science group will be conducted using kmeans. The goal is to find the optimal number of clusters, while still having room for interpretion, i.e. being able to characterize these clusters."
   ]
  },
  {
   "cell_type": "markdown",
   "id": "7e7bbf39",
   "metadata": {},
   "source": [
    "Luckily, all features are on the same scale of 0-10. So no feature scaling is needed."
   ]
  },
  {
   "cell_type": "markdown",
   "id": "b0b31d12",
   "metadata": {},
   "source": [
    "Try k-means for 2-10 clusters. In case elbow method does not yield clear solution, also compute the [silhouette score](https://scikit-learn.org/stable/modules/generated/sklearn.metrics.silhouette_score.html)."
   ]
  },
  {
   "cell_type": "code",
   "execution_count": 216,
   "id": "21b0bd71",
   "metadata": {},
   "outputs": [],
   "source": [
    "# Create and fit a range of models\n",
    "km_list = list()\n",
    "\n",
    "for clust in range(2,11):\n",
    "    km = KMeans(n_clusters=clust, random_state=42)\n",
    "    km = km.fit(data_nat)\n",
    "    score = silhouette_score(data_nat,km.labels_,sample_size=25000,random_state=42)\n",
    "    \n",
    "    km_list.append(pd.Series({'clusters': clust, \n",
    "                              'inertia': km.inertia_,\n",
    "                              'model': km,\n",
    "                              'silhouette': score}))"
   ]
  },
  {
   "cell_type": "code",
   "execution_count": 217,
   "id": "f0ab1215",
   "metadata": {},
   "outputs": [
    {
     "data": {
      "image/png": "[encoded data removed]",
      "text/plain": [
       "<Figure size 720x288 with 2 Axes>"
      ]
     },
     "metadata": {},
     "output_type": "display_data"
    }
   ],
   "source": [
    "fig = plt.figure() \n",
    "\n",
    "ax1 = fig.add_subplot(1, 2, 1) # add subplot 1 (1 row, 2 columns, first plot)\n",
    "ax2 = fig.add_subplot(1, 2, 2) # add subplot 2 (1 row, 2 columns, second plot). See tip below**\n",
    "\n",
    "\n",
    "plot_data = (pd.concat(km_list, axis=1)\n",
    "             .T\n",
    "             [['clusters','inertia']]\n",
    "             .set_index('clusters'))\n",
    "\n",
    "ax = plot_data.plot(marker='o',ls='-',ax=ax1,figsize=(10,4))\n",
    "ax.set_xticks(range(1,11,1))\n",
    "ax.set_xlim(1,11)\n",
    "ax.set(xlabel='Cluster', ylabel='Inertia');\n",
    "\n",
    "\n",
    "plot_data2 = (pd.concat(km_list, axis=1)\n",
    "             .T\n",
    "             [['clusters','silhouette']]\n",
    "             .set_index('clusters'))\n",
    "\n",
    "ax = plot_data2.plot(marker='o',ls='-',ax=ax2,figsize=(10,4))\n",
    "ax.set_xticks(range(1,11,1))\n",
    "ax.set_xlim(1,11)\n",
    "ax.set(xlabel='Cluster', ylabel='Silhoutte Score');\n",
    "\n",
    "\n",
    "plt.show()"
   ]
  },
  {
   "cell_type": "markdown",
   "id": "c8475784",
   "metadata": {},
   "source": [
    "After looking at the inertia plot one can see there is no clear elbow point. However, with 5 clusters the decrease rate of the inertia seems to begin slowing down. Looking at the silhoutte score plot one can see that it until 4 it drastically decreases and then the decrease rate begins to slow down, but the score at 4 and 5 are about the same.<br> So choose 5 as the number of clusters."
   ]
  },
  {
   "cell_type": "code",
   "execution_count": 218,
   "id": "2499476d",
   "metadata": {},
   "outputs": [],
   "source": [
    "km = KMeans(n_clusters=5, random_state=42)\n",
    "km = km.fit(data_nat)\n",
    "\n",
    "data_nat['kmeans'] = km.predict(data_nat)"
   ]
  },
  {
   "cell_type": "code",
   "execution_count": 262,
   "id": "2b3828bd",
   "metadata": {},
   "outputs": [
    {
     "data": {
      "text/html": [
       "<div>\n",
       "<style scoped>\n",
       "    .dataframe tbody tr th:only-of-type {\n",
       "        vertical-align: middle;\n",
       "    }\n",
       "\n",
       "    .dataframe tbody tr th {\n",
       "        vertical-align: top;\n",
       "    }\n",
       "\n",
       "    .dataframe thead th {\n",
       "        text-align: right;\n",
       "    }\n",
       "</style>\n",
       "<table border=\"1\" class=\"dataframe\">\n",
       "  <thead>\n",
       "    <tr style=\"text-align: right;\">\n",
       "      <th></th>\n",
       "      <th>Literature</th>\n",
       "      <th>Mathematics</th>\n",
       "      <th>English</th>\n",
       "      <th>Physics</th>\n",
       "      <th>Chemistry</th>\n",
       "      <th>Biology</th>\n",
       "      <th>total_average</th>\n",
       "    </tr>\n",
       "    <tr>\n",
       "      <th>kmeans</th>\n",
       "      <th></th>\n",
       "      <th></th>\n",
       "      <th></th>\n",
       "      <th></th>\n",
       "      <th></th>\n",
       "      <th></th>\n",
       "      <th></th>\n",
       "    </tr>\n",
       "  </thead>\n",
       "  <tbody>\n",
       "    <tr>\n",
       "      <th>4</th>\n",
       "      <td>6.191758</td>\n",
       "      <td>7.650636</td>\n",
       "      <td>5.499910</td>\n",
       "      <td>5.488739</td>\n",
       "      <td>6.963314</td>\n",
       "      <td>6.680389</td>\n",
       "      <td>6.412458</td>\n",
       "    </tr>\n",
       "    <tr>\n",
       "      <th>3</th>\n",
       "      <td>6.055814</td>\n",
       "      <td>7.666347</td>\n",
       "      <td>7.522270</td>\n",
       "      <td>6.679343</td>\n",
       "      <td>5.191092</td>\n",
       "      <td>4.725929</td>\n",
       "      <td>6.306799</td>\n",
       "    </tr>\n",
       "    <tr>\n",
       "      <th>2</th>\n",
       "      <td>5.676614</td>\n",
       "      <td>7.703681</td>\n",
       "      <td>4.285751</td>\n",
       "      <td>7.002171</td>\n",
       "      <td>6.726233</td>\n",
       "      <td>4.581311</td>\n",
       "      <td>5.995960</td>\n",
       "    </tr>\n",
       "    <tr>\n",
       "      <th>1</th>\n",
       "      <td>5.594440</td>\n",
       "      <td>6.469090</td>\n",
       "      <td>4.017289</td>\n",
       "      <td>5.088853</td>\n",
       "      <td>4.882950</td>\n",
       "      <td>4.450792</td>\n",
       "      <td>5.083902</td>\n",
       "    </tr>\n",
       "    <tr>\n",
       "      <th>0</th>\n",
       "      <td>4.816460</td>\n",
       "      <td>4.867224</td>\n",
       "      <td>3.190841</td>\n",
       "      <td>3.379921</td>\n",
       "      <td>3.314844</td>\n",
       "      <td>3.675972</td>\n",
       "      <td>3.874210</td>\n",
       "    </tr>\n",
       "  </tbody>\n",
       "</table>\n",
       "</div>"
      ],
      "text/plain": [
       "        Literature  Mathematics   English   Physics  Chemistry   Biology  \\\n",
       "kmeans                                                                     \n",
       "4         6.191758     7.650636  5.499910  5.488739   6.963314  6.680389   \n",
       "3         6.055814     7.666347  7.522270  6.679343   5.191092  4.725929   \n",
       "2         5.676614     7.703681  4.285751  7.002171   6.726233  4.581311   \n",
       "1         5.594440     6.469090  4.017289  5.088853   4.882950  4.450792   \n",
       "0         4.816460     4.867224  3.190841  3.379921   3.314844  3.675972   \n",
       "\n",
       "        total_average  \n",
       "kmeans                 \n",
       "4            6.412458  \n",
       "3            6.306799  \n",
       "2            5.995960  \n",
       "1            5.083902  \n",
       "0            3.874210  "
      ]
     },
     "execution_count": 262,
     "metadata": {},
     "output_type": "execute_result"
    },
    {
     "data": {
      "image/png": "[encoded data removed]",
      "text/plain": [
       "<Figure size 720x432 with 1 Axes>"
      ]
     },
     "metadata": {},
     "output_type": "display_data"
    }
   ],
   "source": [
    "clusters = data_nat.groupby(by='kmeans').mean()\n",
    "clusters['total_average'] = clusters.sum(axis=1)/6\n",
    "\n",
    "clusters.sort_values(by='total_average',ascending=False,inplace=True)\n",
    "clusters.rename(index={0:4,2:3,1:2,4:1,3:0},inplace=True)\n",
    "\n",
    "clusters.plot.bar(figsize=(10,6)).legend(bbox_to_anchor=(1.0,1));\n",
    "clusters"
   ]
  },
  {
   "cell_type": "markdown",
   "id": "99391c3f",
   "metadata": {},
   "source": [
    "After looking at the mean scores, one see that there is a \"low group\" consisting of one group(class=0), where the scores are the lowest accross all subjects, and one \"middle group\" consisting also of one group(class=1), where the scores in the middle accross all subjects. There is one \"top group\" consisting of one three subgroups. They have all similar math scores. One group(class 2) is has low scores in English, but high scores in Physics and Chemistry. Another group(class 3) has high scores in English and Physics, but low scores in Chemistry and Biology. Finally, the last top group(class4) has middle scores in English, low scores in Physics, but high scores in Chemistry and Biology."
   ]
  },
  {
   "cell_type": "markdown",
   "id": "ad1dfd7e",
   "metadata": {},
   "source": [
    "Finally, conduct Principal Component Analysis(PCA) and see whether the dimension can be reduced without losing too much variance \n",
    "explainability."
   ]
  },
  {
   "cell_type": "code",
   "execution_count": 220,
   "id": "6280ec1b",
   "metadata": {},
   "outputs": [
    {
     "data": {
      "text/html": [
       "<div>\n",
       "<style scoped>\n",
       "    .dataframe tbody tr th:only-of-type {\n",
       "        vertical-align: middle;\n",
       "    }\n",
       "\n",
       "    .dataframe tbody tr th {\n",
       "        vertical-align: top;\n",
       "    }\n",
       "\n",
       "    .dataframe thead th {\n",
       "        text-align: right;\n",
       "    }\n",
       "</style>\n",
       "<table border=\"1\" class=\"dataframe\">\n",
       "  <thead>\n",
       "    <tr style=\"text-align: right;\">\n",
       "      <th></th>\n",
       "      <th>model</th>\n",
       "      <th>var</th>\n",
       "    </tr>\n",
       "    <tr>\n",
       "      <th>n</th>\n",
       "      <th></th>\n",
       "      <th></th>\n",
       "    </tr>\n",
       "  </thead>\n",
       "  <tbody>\n",
       "    <tr>\n",
       "      <th>1</th>\n",
       "      <td>PCA(n_components=1)</td>\n",
       "      <td>0.494612</td>\n",
       "    </tr>\n",
       "    <tr>\n",
       "      <th>2</th>\n",
       "      <td>PCA(n_components=2)</td>\n",
       "      <td>0.686415</td>\n",
       "    </tr>\n",
       "    <tr>\n",
       "      <th>3</th>\n",
       "      <td>PCA(n_components=3)</td>\n",
       "      <td>0.811869</td>\n",
       "    </tr>\n",
       "    <tr>\n",
       "      <th>4</th>\n",
       "      <td>PCA(n_components=4)</td>\n",
       "      <td>0.889425</td>\n",
       "    </tr>\n",
       "    <tr>\n",
       "      <th>5</th>\n",
       "      <td>PCA(n_components=5)</td>\n",
       "      <td>0.953435</td>\n",
       "    </tr>\n",
       "  </tbody>\n",
       "</table>\n",
       "</div>"
      ],
      "text/plain": [
       "                 model       var\n",
       "n                               \n",
       "1  PCA(n_components=1)  0.494612\n",
       "2  PCA(n_components=2)  0.686415\n",
       "3  PCA(n_components=3)  0.811869\n",
       "4  PCA(n_components=4)  0.889425\n",
       "5  PCA(n_components=5)  0.953435"
      ]
     },
     "execution_count": 220,
     "metadata": {},
     "output_type": "execute_result"
    }
   ],
   "source": [
    "pca_list = list()\n",
    "feature_weight_list = list()\n",
    "\n",
    "# Fit a range of PCA models\n",
    "\n",
    "columns = [x for x in data_nat.columns if x not in ['kmeans']]\n",
    "\n",
    "\n",
    "for n in range(1, 6):\n",
    "    \n",
    "    # Create and fit the model\n",
    "    PCAmod = PCA(n_components=n)\n",
    "    PCAmod.fit(data_nat[columns])\n",
    "    \n",
    "    # Store the model and variance\n",
    "    pca_list.append(pd.Series({'n':n, 'model':PCAmod,\n",
    "                               'var': PCAmod.explained_variance_ratio_.sum()}))\n",
    "    \n",
    "    # Calculate and store feature importances\n",
    "    abs_feature_values = np.abs(PCAmod.components_).sum(axis=0)\n",
    "    feature_weight_list.append(pd.DataFrame({'n':n, \n",
    "                                             'features':data_nat[columns].columns,\n",
    "                                             'values':abs_feature_values/abs_feature_values.sum()}))\n",
    "    \n",
    "pca_df = pd.concat(pca_list, axis=1).T.set_index('n')\n",
    "pca_df"
   ]
  },
  {
   "cell_type": "markdown",
   "id": "1b7aae71",
   "metadata": {},
   "source": [
    "As a result, dimension can be reduced to one dimension less without losing more than 5 percent of the variance."
   ]
  },
  {
   "cell_type": "code",
   "execution_count": 221,
   "id": "9dd9f336",
   "metadata": {},
   "outputs": [
    {
     "data": {
      "image/png": "[encoded data removed]",
      "text/plain": [
       "<Figure size 936x576 with 1 Axes>"
      ]
     },
     "metadata": {},
     "output_type": "display_data"
    }
   ],
   "source": [
    "features_df = (pd.concat(feature_weight_list)\n",
    "               .pivot(index='n', columns='features', values='values'))\n",
    "\n",
    "features_df\n",
    "\n",
    "ax = features_df.plot(kind='bar', figsize=(13,8))\n",
    "ax.legend(loc='upper right')\n",
    "ax.set(xlabel='Number of dimensions',\n",
    "       ylabel='Relative importance',\n",
    "       title='Feature importance vs Dimensions');\n"
   ]
  },
  {
   "cell_type": "markdown",
   "id": "41e753ec",
   "metadata": {},
   "source": [
    "One can see that the feature importance of English, Physics and Chemistry is higher compared to the other features along all dimensions."
   ]
  },
  {
   "cell_type": "markdown",
   "id": "deab8a35",
   "metadata": {},
   "source": [
    "## Conclusion"
   ]
  },
  {
   "cell_type": "markdown",
   "id": "88eeebba",
   "metadata": {},
   "source": [
    "By means of kmeans with 5 clusters a good clustering has been achieved. Other clustering algorithms have been omitted, because they need two much time and memory taking into account the large size of the dataset. It would be interesting to see how the clusters  would look like if one would apply other algorithms with optimized hyperparameters, there the number of clusters is not given a priori.<br>\n",
    "This is a very nice dataset, but unfortunately contains only the scores and no extra information, like the sex of the participants or  the region they come from."
   ]
  }
 ],
 "metadata": {
  "kernelspec": {
   "display_name": "Python 3 (ipykernel)",
   "language": "python",
   "name": "python3"
  },
  "language_info": {
   "codemirror_mode": {
    "name": "ipython",
    "version": 3
   },
   "file_extension": ".py",
   "mimetype": "text/x-python",
   "name": "python",
   "nbconvert_exporter": "python",
   "pygments_lexer": "ipython3",
   "version": "3.9.12"
  }
 },
 "nbformat": 4,
 "nbformat_minor": 5
}
